{
 "cells": [
  {
   "cell_type": "code",
   "execution_count": null,
   "metadata": {},
   "outputs": [],
   "source": [
    "# default_exp chars"
   ]
  },
  {
   "cell_type": "markdown",
   "metadata": {},
   "source": [
    "# chars\n",
    "\n",
    "> Set of functions used to preprocess french text characters."
   ]
  },
  {
   "cell_type": "markdown",
   "metadata": {},
   "source": [
    "External dependencies :\n",
    "\n",
    "> pip install pandas"
   ]
  },
  {
   "cell_type": "markdown",
   "metadata": {},
   "source": [
    "Configure tabular data display in this notebook :"
   ]
  },
  {
   "cell_type": "code",
   "execution_count": null,
   "metadata": {},
   "outputs": [],
   "source": [
    "# export\n",
    "import pandas as pd\n",
    "pd.options.display.max_rows = 100\n",
    "pd.options.display.max_columns = 50"
   ]
  },
  {
   "cell_type": "markdown",
   "metadata": {},
   "source": [
    "# Character set normalization for french"
   ]
  },
  {
   "cell_type": "code",
   "execution_count": null,
   "metadata": {},
   "outputs": [],
   "source": [
    "# export\n",
    "from frenchtext.core import *"
   ]
  },
  {
   "cell_type": "markdown",
   "metadata": {},
   "source": [
    "The config object from frenchtext.core defines the directory where the character normalization tables are located :"
   ]
  },
  {
   "cell_type": "code",
   "execution_count": null,
   "metadata": {},
   "outputs": [],
   "source": [
    "# export\n",
    "chardatadir = config.libdata / \"chars\""
   ]
  },
  {
   "cell_type": "code",
   "execution_count": null,
   "metadata": {},
   "outputs": [
    {
     "name": "stdout",
     "output_type": "stream",
     "text": [
      "charset-fr.csv\t\t  latinletters.csv     unicode_categories.csv\r\n",
      "charsetstats_norm.csv\t  latinnumbers.csv     unicode_families.csv\r\n",
      "charsetstats_raw.csv\t  latinsymbols.csv     unsupported.stats.csv\r\n",
      "combiningdiacritics.csv   normalizedchars.csv  utf8-windows1252-errors.csv\r\n",
      "controlchars.csv\t  stats\t\t       windows1252-iso8859-errors.csv\r\n",
      "cyrillic-greek-chars.csv  unicode_blocks.csv   windows1252-utf8-errors.csv\r\n"
     ]
    }
   ],
   "source": [
    "!ls {chardatadir}"
   ]
  },
  {
   "cell_type": "markdown",
   "metadata": {},
   "source": [
    "## 0. Unicode characters properties"
   ]
  },
  {
   "cell_type": "code",
   "execution_count": null,
   "metadata": {},
   "outputs": [],
   "source": [
    "# export\n",
    "from unicodedata import name as unicodename\n",
    "from unicodedata import category as unicodecategory\n",
    "\n",
    "unicodeblocks = pd.read_csv(chardatadir / \"unicode_blocks.csv\", sep=\";\")\n",
    "unicodeblocks[\"StartNum\"] = unicodeblocks[\"Start\"].map(lambda hex:int(hex,16))\n",
    "unicodeblocks[\"EndNum\"] = unicodeblocks[\"End\"].map(lambda hex:int(hex,16))\n",
    "\n",
    "unicodecategories = pd.read_csv(chardatadir / \"unicode_categories.csv\", sep=\";\")\n",
    "\n",
    "unicodefamilies = pd.read_csv(chardatadir / \"unicode_families.csv\", sep=\";\")\n",
    "\n",
    "def charname(char):\n",
    "    return unicodename(char,f\"Char {ord(char)}\").title()\n",
    "\n",
    "def charcategory(char):\n",
    "    catcode = unicodecategory(char)\n",
    "    catrow = unicodecategories.loc[unicodecategories[\"Code\"]==catcode]\n",
    "    return catrow[\"Category\"].iloc[0]\n",
    "\n",
    "def charsubcategory(char):\n",
    "    catcode = unicodecategory(char)\n",
    "    catrow = unicodecategories.loc[unicodecategories[\"Code\"]==catcode]\n",
    "    return catrow[\"Subcategory\"].iloc[0]\n",
    "\n",
    "def charblock(char):\n",
    "    charnum = ord(char)\n",
    "    blockrow = unicodeblocks[(unicodeblocks[\"StartNum\"]<= charnum) & (unicodeblocks[\"EndNum\"]>= charnum)]\n",
    "    return blockrow[\"Block\"].iloc[0]\n",
    "\n",
    "def blockfamily(block):\n",
    "    filteredseries = unicodefamilies[unicodefamilies[\"UnicodeBlock\"]==block]\n",
    "    if len(filteredseries) == 0:\n",
    "        family= \"Other\"\n",
    "    else:\n",
    "        family = filteredseries[\"CharFamily\"].iloc[0]\n",
    "    return family"
   ]
  },
  {
   "cell_type": "code",
   "execution_count": null,
   "metadata": {},
   "outputs": [
    {
     "data": {
      "text/plain": [
       "'Slightly Smiling Face'"
      ]
     },
     "execution_count": null,
     "metadata": {},
     "output_type": "execute_result"
    }
   ],
   "source": [
    "charname(\"🙂\")"
   ]
  },
  {
   "cell_type": "code",
   "execution_count": null,
   "metadata": {},
   "outputs": [
    {
     "data": {
      "text/plain": [
       "'Symbol'"
      ]
     },
     "execution_count": null,
     "metadata": {},
     "output_type": "execute_result"
    }
   ],
   "source": [
    "charcategory(\"🙂\")"
   ]
  },
  {
   "cell_type": "code",
   "execution_count": null,
   "metadata": {},
   "outputs": [
    {
     "data": {
      "text/plain": [
       "'Other'"
      ]
     },
     "execution_count": null,
     "metadata": {},
     "output_type": "execute_result"
    }
   ],
   "source": [
    "charsubcategory(\"🙂\")"
   ]
  },
  {
   "cell_type": "code",
   "execution_count": null,
   "metadata": {},
   "outputs": [
    {
     "data": {
      "text/plain": [
       "'Emoticons'"
      ]
     },
     "execution_count": null,
     "metadata": {},
     "output_type": "execute_result"
    }
   ],
   "source": [
    "charblock(\"🙂\")"
   ]
  },
  {
   "cell_type": "code",
   "execution_count": null,
   "metadata": {},
   "outputs": [
    {
     "data": {
      "text/plain": [
       "'Symbols'"
      ]
     },
     "execution_count": null,
     "metadata": {},
     "output_type": "execute_result"
    }
   ],
   "source": [
    "blockfamily('Emoticons')"
   ]
  },
  {
   "cell_type": "markdown",
   "metadata": {},
   "source": [
    "## 1. Explore french dataset characters"
   ]
  },
  {
   "cell_type": "markdown",
   "metadata": {},
   "source": [
    "French datasets often contain several thousands distinct Unicode characters.\n",
    "\n",
    "We need to reduce the number of distinct characters fed to our natural language processing applications, for three reasons :\n",
    "- chars considered by the user as visually equivalent will often produce a different application behavior : this is a huge problem for the user experience\n",
    "- with so many chars, the designer of the NLP application will not be able to reason about all possible combinations : this could harm the explainability of the system\n",
    "- this huge number of distinct characters brings a significant amount complexity the NLP models will have to deal with"
   ]
  },
  {
   "cell_type": "markdown",
   "metadata": {},
   "source": [
    "### 1.1 Characters frequency in french datasets"
   ]
  },
  {
   "cell_type": "code",
   "execution_count": null,
   "metadata": {},
   "outputs": [
    {
     "data": {
      "text/html": [
       "<div>\n",
       "<style scoped>\n",
       "    .dataframe tbody tr th:only-of-type {\n",
       "        vertical-align: middle;\n",
       "    }\n",
       "\n",
       "    .dataframe tbody tr th {\n",
       "        vertical-align: top;\n",
       "    }\n",
       "\n",
       "    .dataframe thead th {\n",
       "        text-align: right;\n",
       "    }\n",
       "</style>\n",
       "<table border=\"1\" class=\"dataframe\">\n",
       "  <thead>\n",
       "    <tr style=\"text-align: right;\">\n",
       "      <th></th>\n",
       "      <th>Unnamed: 0</th>\n",
       "      <th>Code</th>\n",
       "      <th>Char</th>\n",
       "      <th>Name</th>\n",
       "      <th>Category</th>\n",
       "      <th>Subcategory</th>\n",
       "      <th>Block</th>\n",
       "      <th>CountBusiness</th>\n",
       "      <th>CountWikipedia</th>\n",
       "      <th>Count</th>\n",
       "    </tr>\n",
       "  </thead>\n",
       "  <tbody>\n",
       "    <tr>\n",
       "      <th>0</th>\n",
       "      <td>0</td>\n",
       "      <td>101</td>\n",
       "      <td>e</td>\n",
       "      <td>Latin Small Letter E</td>\n",
       "      <td>Letter</td>\n",
       "      <td>Lowercase</td>\n",
       "      <td>Basic Latin</td>\n",
       "      <td>3.503992e+09</td>\n",
       "      <td>4.595437e+09</td>\n",
       "      <td>8.099428e+09</td>\n",
       "    </tr>\n",
       "    <tr>\n",
       "      <th>1</th>\n",
       "      <td>1</td>\n",
       "      <td>115</td>\n",
       "      <td>s</td>\n",
       "      <td>Latin Small Letter S</td>\n",
       "      <td>Letter</td>\n",
       "      <td>Lowercase</td>\n",
       "      <td>Basic Latin</td>\n",
       "      <td>1.960554e+09</td>\n",
       "      <td>2.534105e+09</td>\n",
       "      <td>4.494658e+09</td>\n",
       "    </tr>\n",
       "    <tr>\n",
       "      <th>2</th>\n",
       "      <td>2</td>\n",
       "      <td>97</td>\n",
       "      <td>a</td>\n",
       "      <td>Latin Small Letter A</td>\n",
       "      <td>Letter</td>\n",
       "      <td>Lowercase</td>\n",
       "      <td>Basic Latin</td>\n",
       "      <td>1.865590e+09</td>\n",
       "      <td>2.447239e+09</td>\n",
       "      <td>4.312829e+09</td>\n",
       "    </tr>\n",
       "    <tr>\n",
       "      <th>3</th>\n",
       "      <td>3</td>\n",
       "      <td>110</td>\n",
       "      <td>n</td>\n",
       "      <td>Latin Small Letter N</td>\n",
       "      <td>Letter</td>\n",
       "      <td>Lowercase</td>\n",
       "      <td>Basic Latin</td>\n",
       "      <td>1.819350e+09</td>\n",
       "      <td>2.388609e+09</td>\n",
       "      <td>4.207959e+09</td>\n",
       "    </tr>\n",
       "    <tr>\n",
       "      <th>4</th>\n",
       "      <td>5</td>\n",
       "      <td>105</td>\n",
       "      <td>i</td>\n",
       "      <td>Latin Small Letter I</td>\n",
       "      <td>Letter</td>\n",
       "      <td>Lowercase</td>\n",
       "      <td>Basic Latin</td>\n",
       "      <td>1.766427e+09</td>\n",
       "      <td>2.331461e+09</td>\n",
       "      <td>4.097888e+09</td>\n",
       "    </tr>\n",
       "    <tr>\n",
       "      <th>...</th>\n",
       "      <td>...</td>\n",
       "      <td>...</td>\n",
       "      <td>...</td>\n",
       "      <td>...</td>\n",
       "      <td>...</td>\n",
       "      <td>...</td>\n",
       "      <td>...</td>\n",
       "      <td>...</td>\n",
       "      <td>...</td>\n",
       "      <td>...</td>\n",
       "    </tr>\n",
       "    <tr>\n",
       "      <th>13497</th>\n",
       "      <td>13495</td>\n",
       "      <td>37294</td>\n",
       "      <td>醮</td>\n",
       "      <td>Cjk Unified Ideograph-91Ae</td>\n",
       "      <td>Letter</td>\n",
       "      <td>Other</td>\n",
       "      <td>CJK Unified Ideographs</td>\n",
       "      <td>0.000000e+00</td>\n",
       "      <td>1.000000e+00</td>\n",
       "      <td>1.000000e+00</td>\n",
       "    </tr>\n",
       "    <tr>\n",
       "      <th>13498</th>\n",
       "      <td>13496</td>\n",
       "      <td>35824</td>\n",
       "      <td>诰</td>\n",
       "      <td>Cjk Unified Ideograph-8Bf0</td>\n",
       "      <td>Letter</td>\n",
       "      <td>Other</td>\n",
       "      <td>CJK Unified Ideographs</td>\n",
       "      <td>0.000000e+00</td>\n",
       "      <td>1.000000e+00</td>\n",
       "      <td>1.000000e+00</td>\n",
       "    </tr>\n",
       "    <tr>\n",
       "      <th>13499</th>\n",
       "      <td>13497</td>\n",
       "      <td>26634</td>\n",
       "      <td>栊</td>\n",
       "      <td>Cjk Unified Ideograph-680A</td>\n",
       "      <td>Letter</td>\n",
       "      <td>Other</td>\n",
       "      <td>CJK Unified Ideographs</td>\n",
       "      <td>0.000000e+00</td>\n",
       "      <td>1.000000e+00</td>\n",
       "      <td>1.000000e+00</td>\n",
       "    </tr>\n",
       "    <tr>\n",
       "      <th>13500</th>\n",
       "      <td>13498</td>\n",
       "      <td>31787</td>\n",
       "      <td>簫</td>\n",
       "      <td>Cjk Unified Ideograph-7C2B</td>\n",
       "      <td>Letter</td>\n",
       "      <td>Other</td>\n",
       "      <td>CJK Unified Ideographs</td>\n",
       "      <td>0.000000e+00</td>\n",
       "      <td>1.000000e+00</td>\n",
       "      <td>1.000000e+00</td>\n",
       "    </tr>\n",
       "    <tr>\n",
       "      <th>13501</th>\n",
       "      <td>13501</td>\n",
       "      <td>28378</td>\n",
       "      <td>滚</td>\n",
       "      <td>Cjk Unified Ideograph-6Eda</td>\n",
       "      <td>Letter</td>\n",
       "      <td>Other</td>\n",
       "      <td>CJK Unified Ideographs</td>\n",
       "      <td>0.000000e+00</td>\n",
       "      <td>1.000000e+00</td>\n",
       "      <td>1.000000e+00</td>\n",
       "    </tr>\n",
       "  </tbody>\n",
       "</table>\n",
       "<p>13502 rows × 10 columns</p>\n",
       "</div>"
      ],
      "text/plain": [
       "       Unnamed: 0   Code Char                        Name Category  \\\n",
       "0               0    101    e        Latin Small Letter E   Letter   \n",
       "1               1    115    s        Latin Small Letter S   Letter   \n",
       "2               2     97    a        Latin Small Letter A   Letter   \n",
       "3               3    110    n        Latin Small Letter N   Letter   \n",
       "4               5    105    i        Latin Small Letter I   Letter   \n",
       "...           ...    ...  ...                         ...      ...   \n",
       "13497       13495  37294    醮  Cjk Unified Ideograph-91Ae   Letter   \n",
       "13498       13496  35824    诰  Cjk Unified Ideograph-8Bf0   Letter   \n",
       "13499       13497  26634    栊  Cjk Unified Ideograph-680A   Letter   \n",
       "13500       13498  31787    簫  Cjk Unified Ideograph-7C2B   Letter   \n",
       "13501       13501  28378    滚  Cjk Unified Ideograph-6Eda   Letter   \n",
       "\n",
       "      Subcategory                   Block  CountBusiness  CountWikipedia  \\\n",
       "0       Lowercase             Basic Latin   3.503992e+09    4.595437e+09   \n",
       "1       Lowercase             Basic Latin   1.960554e+09    2.534105e+09   \n",
       "2       Lowercase             Basic Latin   1.865590e+09    2.447239e+09   \n",
       "3       Lowercase             Basic Latin   1.819350e+09    2.388609e+09   \n",
       "4       Lowercase             Basic Latin   1.766427e+09    2.331461e+09   \n",
       "...           ...                     ...            ...             ...   \n",
       "13497       Other  CJK Unified Ideographs   0.000000e+00    1.000000e+00   \n",
       "13498       Other  CJK Unified Ideographs   0.000000e+00    1.000000e+00   \n",
       "13499       Other  CJK Unified Ideographs   0.000000e+00    1.000000e+00   \n",
       "13500       Other  CJK Unified Ideographs   0.000000e+00    1.000000e+00   \n",
       "13501       Other  CJK Unified Ideographs   0.000000e+00    1.000000e+00   \n",
       "\n",
       "              Count  \n",
       "0      8.099428e+09  \n",
       "1      4.494658e+09  \n",
       "2      4.312829e+09  \n",
       "3      4.207959e+09  \n",
       "4      4.097888e+09  \n",
       "...             ...  \n",
       "13497  1.000000e+00  \n",
       "13498  1.000000e+00  \n",
       "13499  1.000000e+00  \n",
       "13500  1.000000e+00  \n",
       "13501  1.000000e+00  \n",
       "\n",
       "[13502 rows x 10 columns]"
      ]
     },
     "execution_count": null,
     "metadata": {},
     "output_type": "execute_result"
    }
   ],
   "source": [
    "dfcharstats = pd.read_csv(chardatadir / \"charsetstats_raw.csv\", sep=\";\")\n",
    "dfcharstats"
   ]
  },
  {
   "cell_type": "markdown",
   "metadata": {},
   "source": [
    "### 1.2 Characters stats in Wikipedia dataset"
   ]
  },
  {
   "cell_type": "markdown",
   "metadata": {},
   "source": [
    "- 35.6 billion chars"
   ]
  },
  {
   "cell_type": "code",
   "execution_count": null,
   "metadata": {},
   "outputs": [
    {
     "data": {
      "text/plain": [
       "35682395281.0"
      ]
     },
     "execution_count": null,
     "metadata": {},
     "output_type": "execute_result"
    }
   ],
   "source": [
    "charsCountWikipedia = dfcharstats[\"CountWikipedia\"].sum()\n",
    "charsCountWikipedia"
   ]
  },
  {
   "cell_type": "markdown",
   "metadata": {},
   "source": [
    "- 13 502 distinct Unicode chars"
   ]
  },
  {
   "cell_type": "code",
   "execution_count": null,
   "metadata": {},
   "outputs": [
    {
     "data": {
      "text/plain": [
       "13502"
      ]
     },
     "execution_count": null,
     "metadata": {},
     "output_type": "execute_result"
    }
   ],
   "source": [
    "distinctCharsWikipedia = len(dfcharstats[dfcharstats[\"CountWikipedia\"]>0])\n",
    "distinctCharsWikipedia"
   ]
  },
  {
   "cell_type": "markdown",
   "metadata": {},
   "source": [
    "- Only 1316 chars more frequent than 1 in 100 million"
   ]
  },
  {
   "cell_type": "code",
   "execution_count": null,
   "metadata": {},
   "outputs": [
    {
     "data": {
      "text/plain": [
       "1316"
      ]
     },
     "execution_count": null,
     "metadata": {},
     "output_type": "execute_result"
    }
   ],
   "source": [
    "frequentCharsWikipedia = len(dfcharstats[dfcharstats[\"CountWikipedia\"]>356])\n",
    "frequentCharsWikipedia"
   ]
  },
  {
   "cell_type": "markdown",
   "metadata": {},
   "source": [
    "- Frequent chars represent 9.7 % of all distinct Unicode chars"
   ]
  },
  {
   "cell_type": "code",
   "execution_count": null,
   "metadata": {},
   "outputs": [
    {
     "data": {
      "text/plain": [
       "9.74670419197156"
      ]
     },
     "execution_count": null,
     "metadata": {},
     "output_type": "execute_result"
    }
   ],
   "source": [
    "pctFreqCharsWikipedia = frequentCharsWikipedia/distinctCharsWikipedia*100\n",
    "pctFreqCharsWikipedia"
   ]
  },
  {
   "cell_type": "markdown",
   "metadata": {},
   "source": [
    "- 99.9987 % of Wikipedia chars would be preserved if we only kept the frequent chars"
   ]
  },
  {
   "cell_type": "code",
   "execution_count": null,
   "metadata": {},
   "outputs": [
    {
     "data": {
      "text/plain": [
       "99.99871204274157"
      ]
     },
     "execution_count": null,
     "metadata": {},
     "output_type": "execute_result"
    }
   ],
   "source": [
    "pctPreservedCharsWikipedia = (1-dfcharstats[dfcharstats[\"CountWikipedia\"]<=356][\"CountWikipedia\"].sum()/dfcharstats[\"CountWikipedia\"].sum())*100\n",
    "pctPreservedCharsWikipedia"
   ]
  },
  {
   "cell_type": "markdown",
   "metadata": {},
   "source": [
    "### 1.3 Characters stats in Business dataset"
   ]
  },
  {
   "cell_type": "markdown",
   "metadata": {},
   "source": [
    "- 27.5 billion chars"
   ]
  },
  {
   "cell_type": "code",
   "execution_count": null,
   "metadata": {},
   "outputs": [
    {
     "data": {
      "text/plain": [
       "27577304956.0"
      ]
     },
     "execution_count": null,
     "metadata": {},
     "output_type": "execute_result"
    }
   ],
   "source": [
    "charsCountBusiness = dfcharstats[\"CountBusiness\"].sum()\n",
    "charsCountBusiness"
   ]
  },
  {
   "cell_type": "markdown",
   "metadata": {},
   "source": [
    "-  3 763 distinct Unicode chars"
   ]
  },
  {
   "cell_type": "code",
   "execution_count": null,
   "metadata": {},
   "outputs": [
    {
     "data": {
      "text/plain": [
       "3763"
      ]
     },
     "execution_count": null,
     "metadata": {},
     "output_type": "execute_result"
    }
   ],
   "source": [
    "distinctCharsBusiness = len(dfcharstats[dfcharstats[\"CountBusiness\"]>0])\n",
    "distinctCharsBusiness"
   ]
  },
  {
   "cell_type": "markdown",
   "metadata": {},
   "source": [
    "- Only 531 chars more frequent than 1 in 100 million"
   ]
  },
  {
   "cell_type": "code",
   "execution_count": null,
   "metadata": {},
   "outputs": [
    {
     "data": {
      "text/plain": [
       "531"
      ]
     },
     "execution_count": null,
     "metadata": {},
     "output_type": "execute_result"
    }
   ],
   "source": [
    "frequentCharsBusiness = len(dfcharstats[dfcharstats[\"CountBusiness\"]>275])\n",
    "frequentCharsBusiness"
   ]
  },
  {
   "cell_type": "markdown",
   "metadata": {},
   "source": [
    "- Frequent chars represent 14.1 % of all distinct Unicode chars"
   ]
  },
  {
   "cell_type": "code",
   "execution_count": null,
   "metadata": {},
   "outputs": [
    {
     "data": {
      "text/plain": [
       "14.11108158384268"
      ]
     },
     "execution_count": null,
     "metadata": {},
     "output_type": "execute_result"
    }
   ],
   "source": [
    "pctFreqCharsBusiness = frequentCharsBusiness/distinctCharsBusiness*100\n",
    "pctFreqCharsBusiness"
   ]
  },
  {
   "cell_type": "markdown",
   "metadata": {},
   "source": [
    "- 99.9996 % of Business chars would be preserved if we only kept the frequent chars"
   ]
  },
  {
   "cell_type": "code",
   "execution_count": null,
   "metadata": {},
   "outputs": [
    {
     "data": {
      "text/plain": [
       "99.9996564385093"
      ]
     },
     "execution_count": null,
     "metadata": {},
     "output_type": "execute_result"
    }
   ],
   "source": [
    "pctPreservedCharsBusiness = (1-dfcharstats[dfcharstats[\"CountBusiness\"]<=275][\"CountBusiness\"].sum()/dfcharstats[\"CountBusiness\"].sum())*100\n",
    "pctPreservedCharsBusiness"
   ]
  },
  {
   "cell_type": "markdown",
   "metadata": {},
   "source": [
    "- 99.985 % of Wikipedia chars would be preserved if we only kept the frequent Business chars"
   ]
  },
  {
   "cell_type": "code",
   "execution_count": null,
   "metadata": {},
   "outputs": [
    {
     "data": {
      "text/plain": [
       "99.9848317525845"
      ]
     },
     "execution_count": null,
     "metadata": {},
     "output_type": "execute_result"
    }
   ],
   "source": [
    "pctPreservedBizCharsInWikipedia = (1-dfcharstats[dfcharstats[\"CountBusiness\"]<=275][\"CountWikipedia\"].sum()/dfcharstats[\"CountWikipedia\"].sum())*100\n",
    "pctPreservedBizCharsInWikipedia"
   ]
  },
  {
   "cell_type": "markdown",
   "metadata": {},
   "source": [
    "### 1.4 Character stats after Unicode normalization"
   ]
  },
  {
   "cell_type": "markdown",
   "metadata": {},
   "source": [
    "After applying the normalization process defined below in this notebook, here are the remaining chars :"
   ]
  },
  {
   "cell_type": "code",
   "execution_count": null,
   "metadata": {},
   "outputs": [
    {
     "data": {
      "text/html": [
       "<div>\n",
       "<style scoped>\n",
       "    .dataframe tbody tr th:only-of-type {\n",
       "        vertical-align: middle;\n",
       "    }\n",
       "\n",
       "    .dataframe tbody tr th {\n",
       "        vertical-align: top;\n",
       "    }\n",
       "\n",
       "    .dataframe thead th {\n",
       "        text-align: right;\n",
       "    }\n",
       "</style>\n",
       "<table border=\"1\" class=\"dataframe\">\n",
       "  <thead>\n",
       "    <tr style=\"text-align: right;\">\n",
       "      <th></th>\n",
       "      <th>FrCode</th>\n",
       "      <th>Category</th>\n",
       "      <th>SubCategory</th>\n",
       "      <th>Code</th>\n",
       "      <th>Char</th>\n",
       "      <th>CharName</th>\n",
       "      <th>CountBusiness</th>\n",
       "    </tr>\n",
       "  </thead>\n",
       "  <tbody>\n",
       "    <tr>\n",
       "      <th>0</th>\n",
       "      <td>0</td>\n",
       "      <td>separator</td>\n",
       "      <td>control</td>\n",
       "      <td>0</td>\n",
       "      <td>NaN</td>\n",
       "      <td>Reserved - End of string</td>\n",
       "      <td>0</td>\n",
       "    </tr>\n",
       "    <tr>\n",
       "      <th>1</th>\n",
       "      <td>1</td>\n",
       "      <td>separator</td>\n",
       "      <td>space</td>\n",
       "      <td>32</td>\n",
       "      <td></td>\n",
       "      <td>Space</td>\n",
       "      <td>88494564</td>\n",
       "    </tr>\n",
       "    <tr>\n",
       "      <th>2</th>\n",
       "      <td>2</td>\n",
       "      <td>separator</td>\n",
       "      <td>space</td>\n",
       "      <td>10</td>\n",
       "      <td>\\n</td>\n",
       "      <td>Char 10</td>\n",
       "      <td>9588147</td>\n",
       "    </tr>\n",
       "    <tr>\n",
       "      <th>3</th>\n",
       "      <td>3</td>\n",
       "      <td>separator</td>\n",
       "      <td>space</td>\n",
       "      <td>9</td>\n",
       "      <td>\\t</td>\n",
       "      <td>Char 9</td>\n",
       "      <td>1522053</td>\n",
       "    </tr>\n",
       "    <tr>\n",
       "      <th>4</th>\n",
       "      <td>4</td>\n",
       "      <td>separator</td>\n",
       "      <td>punctuation</td>\n",
       "      <td>44</td>\n",
       "      <td>,</td>\n",
       "      <td>Comma</td>\n",
       "      <td>286106887</td>\n",
       "    </tr>\n",
       "    <tr>\n",
       "      <th>...</th>\n",
       "      <td>...</td>\n",
       "      <td>...</td>\n",
       "      <td>...</td>\n",
       "      <td>...</td>\n",
       "      <td>...</td>\n",
       "      <td>...</td>\n",
       "      <td>...</td>\n",
       "    </tr>\n",
       "    <tr>\n",
       "      <th>251</th>\n",
       "      <td>251</td>\n",
       "      <td>emoticon</td>\n",
       "      <td>object</td>\n",
       "      <td>9792</td>\n",
       "      <td>♀</td>\n",
       "      <td>Female Sign</td>\n",
       "      <td>515</td>\n",
       "    </tr>\n",
       "    <tr>\n",
       "      <th>252</th>\n",
       "      <td>252</td>\n",
       "      <td>emoticon</td>\n",
       "      <td>object</td>\n",
       "      <td>127881</td>\n",
       "      <td>🎉</td>\n",
       "      <td>Party Popper</td>\n",
       "      <td>356</td>\n",
       "    </tr>\n",
       "    <tr>\n",
       "      <th>253</th>\n",
       "      <td>253</td>\n",
       "      <td>emoticon</td>\n",
       "      <td>object</td>\n",
       "      <td>9997</td>\n",
       "      <td>✍</td>\n",
       "      <td>Writing Hand</td>\n",
       "      <td>157</td>\n",
       "    </tr>\n",
       "    <tr>\n",
       "      <th>254</th>\n",
       "      <td>254</td>\n",
       "      <td>emoticon</td>\n",
       "      <td>object</td>\n",
       "      <td>9993</td>\n",
       "      <td>✉</td>\n",
       "      <td>Envelope</td>\n",
       "      <td>55</td>\n",
       "    </tr>\n",
       "    <tr>\n",
       "      <th>255</th>\n",
       "      <td>255</td>\n",
       "      <td>emoticon</td>\n",
       "      <td>object</td>\n",
       "      <td>10013</td>\n",
       "      <td>✝</td>\n",
       "      <td>Latin Cross</td>\n",
       "      <td>22</td>\n",
       "    </tr>\n",
       "  </tbody>\n",
       "</table>\n",
       "<p>256 rows × 7 columns</p>\n",
       "</div>"
      ],
      "text/plain": [
       "     FrCode   Category  SubCategory    Code Char                  CharName  \\\n",
       "0         0  separator      control       0  NaN  Reserved - End of string   \n",
       "1         1  separator        space      32                          Space   \n",
       "2         2  separator        space      10   \\n                   Char 10   \n",
       "3         3  separator        space       9   \\t                    Char 9   \n",
       "4         4  separator  punctuation      44    ,                     Comma   \n",
       "..      ...        ...          ...     ...  ...                       ...   \n",
       "251     251   emoticon       object    9792    ♀               Female Sign   \n",
       "252     252   emoticon       object  127881    🎉              Party Popper   \n",
       "253     253   emoticon       object    9997    ✍              Writing Hand   \n",
       "254     254   emoticon       object    9993    ✉                  Envelope   \n",
       "255     255   emoticon       object   10013    ✝               Latin Cross   \n",
       "\n",
       "     CountBusiness  \n",
       "0                0  \n",
       "1         88494564  \n",
       "2          9588147  \n",
       "3          1522053  \n",
       "4        286106887  \n",
       "..             ...  \n",
       "251            515  \n",
       "252            356  \n",
       "253            157  \n",
       "254             55  \n",
       "255             22  \n",
       "\n",
       "[256 rows x 7 columns]"
      ]
     },
     "execution_count": null,
     "metadata": {},
     "output_type": "execute_result"
    }
   ],
   "source": [
    "dfcharsnorm = pd.read_csv(chardatadir / \"charset-fr.csv\", sep=\";\")\n",
    "dfcharsnorm"
   ]
  },
  {
   "cell_type": "markdown",
   "metadata": {},
   "source": [
    "#### Stats for the character families after normalization"
   ]
  },
  {
   "cell_type": "markdown",
   "metadata": {},
   "source": [
    "The table below shows the number of chars in each category (after normalization) **per 100 million characters** :"
   ]
  },
  {
   "cell_type": "code",
   "execution_count": null,
   "metadata": {},
   "outputs": [
    {
     "data": {
      "text/html": [
       "<div>\n",
       "<style scoped>\n",
       "    .dataframe tbody tr th:only-of-type {\n",
       "        vertical-align: middle;\n",
       "    }\n",
       "\n",
       "    .dataframe tbody tr th {\n",
       "        vertical-align: top;\n",
       "    }\n",
       "\n",
       "    .dataframe thead tr th {\n",
       "        text-align: left;\n",
       "    }\n",
       "\n",
       "    .dataframe thead tr:last-of-type th {\n",
       "        text-align: right;\n",
       "    }\n",
       "</style>\n",
       "<table border=\"1\" class=\"dataframe\">\n",
       "  <thead>\n",
       "    <tr>\n",
       "      <th></th>\n",
       "      <th></th>\n",
       "      <th colspan=\"2\" halign=\"left\">Char</th>\n",
       "      <th>CountBusiness</th>\n",
       "    </tr>\n",
       "    <tr>\n",
       "      <th></th>\n",
       "      <th></th>\n",
       "      <th>count</th>\n",
       "      <th>sum</th>\n",
       "      <th>sum</th>\n",
       "    </tr>\n",
       "    <tr>\n",
       "      <th>Category</th>\n",
       "      <th>SubCategory</th>\n",
       "      <th></th>\n",
       "      <th></th>\n",
       "      <th></th>\n",
       "    </tr>\n",
       "  </thead>\n",
       "  <tbody>\n",
       "    <tr>\n",
       "      <th rowspan=\"3\" valign=\"top\">emoticon</th>\n",
       "      <th>hand</th>\n",
       "      <td>12</td>\n",
       "      <td>💪👉👍👏🙏🙌👇👊👎👌✌✊</td>\n",
       "      <td>42</td>\n",
       "    </tr>\n",
       "    <tr>\n",
       "      <th>head</th>\n",
       "      <td>28</td>\n",
       "      <td>🙂😉😀😂😁😊🙁😅😍😃😡🤣😄🤔😎😭👹😱😜😋🤩🙄😆😛🤪😢😇🤦</td>\n",
       "      <td>233</td>\n",
       "    </tr>\n",
       "    <tr>\n",
       "      <th>object</th>\n",
       "      <td>16</td>\n",
       "      <td>⚠🔴🔥🏆⚽💡🚨💥⚡♫♂♀🎉✍✉✝</td>\n",
       "      <td>60</td>\n",
       "    </tr>\n",
       "    <tr>\n",
       "      <th rowspan=\"6\" valign=\"top\">letter</th>\n",
       "      <th>digit</th>\n",
       "      <td>10</td>\n",
       "      <td>0123549876</td>\n",
       "      <td>3271115</td>\n",
       "    </tr>\n",
       "    <tr>\n",
       "      <th>encoding</th>\n",
       "      <td>3</td>\n",
       "      <td>Ã�￼</td>\n",
       "      <td>249</td>\n",
       "    </tr>\n",
       "    <tr>\n",
       "      <th>greek</th>\n",
       "      <td>2</td>\n",
       "      <td>λπ</td>\n",
       "      <td>2</td>\n",
       "    </tr>\n",
       "    <tr>\n",
       "      <th>latin-fr</th>\n",
       "      <td>84</td>\n",
       "      <td>abcdefghijklmnopqrstuvwxyzàâäçèéêëîïôöùûüÿABCD...</td>\n",
       "      <td>91437146</td>\n",
       "    </tr>\n",
       "    <tr>\n",
       "      <th>latin-other</th>\n",
       "      <td>25</td>\n",
       "      <td>áãåćčėğıíìńñóòõøšşßúÁÅŠÚŽ</td>\n",
       "      <td>712</td>\n",
       "    </tr>\n",
       "    <tr>\n",
       "      <th>other</th>\n",
       "      <td>5</td>\n",
       "      <td>_&amp;@\\#</td>\n",
       "      <td>40814</td>\n",
       "    </tr>\n",
       "    <tr>\n",
       "      <th rowspan=\"3\" valign=\"top\">separator</th>\n",
       "      <th>control</th>\n",
       "      <td>0</td>\n",
       "      <td>0</td>\n",
       "      <td>0</td>\n",
       "    </tr>\n",
       "    <tr>\n",
       "      <th>punctuation</th>\n",
       "      <td>23</td>\n",
       "      <td>,'.-:/\")(?!»«|…;[]}{•¿¡</td>\n",
       "      <td>4684722</td>\n",
       "    </tr>\n",
       "    <tr>\n",
       "      <th>space</th>\n",
       "      <td>3</td>\n",
       "      <td>\\n\\t</td>\n",
       "      <td>361183</td>\n",
       "    </tr>\n",
       "    <tr>\n",
       "      <th rowspan=\"5\" valign=\"top\">symbol</th>\n",
       "      <th>currency</th>\n",
       "      <td>6</td>\n",
       "      <td>€$¤£¥¢</td>\n",
       "      <td>21099</td>\n",
       "    </tr>\n",
       "    <tr>\n",
       "      <th>math</th>\n",
       "      <td>14</td>\n",
       "      <td>=&gt;+&lt;^~×≤÷≥±≠∞√</td>\n",
       "      <td>50056</td>\n",
       "    </tr>\n",
       "    <tr>\n",
       "      <th>shape</th>\n",
       "      <td>15</td>\n",
       "      <td>*✓⇒♥¦→★¯↓❌❐†↑←↔</td>\n",
       "      <td>7954</td>\n",
       "    </tr>\n",
       "    <tr>\n",
       "      <th>sign</th>\n",
       "      <td>3</td>\n",
       "      <td>©®™</td>\n",
       "      <td>1754</td>\n",
       "    </tr>\n",
       "    <tr>\n",
       "      <th>unit</th>\n",
       "      <td>6</td>\n",
       "      <td>%°§µØ‰</td>\n",
       "      <td>102213</td>\n",
       "    </tr>\n",
       "  </tbody>\n",
       "</table>\n",
       "</div>"
      ],
      "text/plain": [
       "                       Char  \\\n",
       "                      count   \n",
       "Category  SubCategory         \n",
       "emoticon  hand           12   \n",
       "          head           28   \n",
       "          object         16   \n",
       "letter    digit          10   \n",
       "          encoding        3   \n",
       "          greek           2   \n",
       "          latin-fr       84   \n",
       "          latin-other    25   \n",
       "          other           5   \n",
       "separator control         0   \n",
       "          punctuation    23   \n",
       "          space           3   \n",
       "symbol    currency        6   \n",
       "          math           14   \n",
       "          shape          15   \n",
       "          sign            3   \n",
       "          unit            6   \n",
       "\n",
       "                                                                          \\\n",
       "                                                                     sum   \n",
       "Category  SubCategory                                                      \n",
       "emoticon  hand                                              💪👉👍👏🙏🙌👇👊👎👌✌✊   \n",
       "          head                              🙂😉😀😂😁😊🙁😅😍😃😡🤣😄🤔😎😭👹😱😜😋🤩🙄😆😛🤪😢😇🤦   \n",
       "          object                                        ⚠🔴🔥🏆⚽💡🚨💥⚡♫♂♀🎉✍✉✝   \n",
       "letter    digit                                               0123549876   \n",
       "          encoding                                                   Ã�￼   \n",
       "          greek                                                       λπ   \n",
       "          latin-fr     abcdefghijklmnopqrstuvwxyzàâäçèéêëîïôöùûüÿABCD...   \n",
       "          latin-other                          áãåćčėğıíìńñóòõøšşßúÁÅŠÚŽ   \n",
       "          other                                                    _&@\\#   \n",
       "separator control                                                      0   \n",
       "          punctuation                            ,'.-:/\")(?!»«|…;[]}{•¿¡   \n",
       "          space                                                     \\n\\t   \n",
       "symbol    currency                                                €$¤£¥¢   \n",
       "          math                                            =>+<^~×≤÷≥±≠∞√   \n",
       "          shape                                          *✓⇒♥¦→★¯↓❌❐†↑←↔   \n",
       "          sign                                                       ©®™   \n",
       "          unit                                                    %°§µØ‰   \n",
       "\n",
       "                      CountBusiness  \n",
       "                                sum  \n",
       "Category  SubCategory                \n",
       "emoticon  hand                   42  \n",
       "          head                  233  \n",
       "          object                 60  \n",
       "letter    digit             3271115  \n",
       "          encoding              249  \n",
       "          greek                   2  \n",
       "          latin-fr         91437146  \n",
       "          latin-other           712  \n",
       "          other               40814  \n",
       "separator control                 0  \n",
       "          punctuation       4684722  \n",
       "          space              361183  \n",
       "symbol    currency            21099  \n",
       "          math                50056  \n",
       "          shape                7954  \n",
       "          sign                 1754  \n",
       "          unit               102213  "
      ]
     },
     "execution_count": null,
     "metadata": {},
     "output_type": "execute_result"
    }
   ],
   "source": [
    "dfblocks = dfcharsnorm.groupby(by=[\"Category\",\"SubCategory\"]).agg({\"Char\":[\"count\",\"sum\"],\"CountBusiness\":\"sum\"})\n",
    "dfblocks[\"CountBusiness\"] = (dfblocks[\"CountBusiness\"] / charsCountBusiness * 100000000).astype(int)\n",
    "dfblocks"
   ]
  },
  {
   "cell_type": "markdown",
   "metadata": {},
   "source": [
    "# 2. Characters normalization pipeline"
   ]
  },
  {
   "cell_type": "markdown",
   "metadata": {},
   "source": [
    "After a detailed study of all the frequent chars, the goal is to design a noramization pipeline which can retain as much information as possible while greatly reducing the number of dinstinct chars.\n",
    "\n",
    "We saw before that it is possible to preserve 99.9996% of the original chars while keeping only 500 distinct chars. By being clever and replacing equivalent chars, we can divide this number by 2 and still retain the same amount of information.\n",
    "\n",
    "It may then be useful to limit the number of distinct characters after normalization to **255 distinct characters** : \n",
    "- if needed, french text chars can then be encoded with a single byte\n",
    "- the list of supported chars can be memorized by NLP application developers and users"
   ]
  },
  {
   "cell_type": "markdown",
   "metadata": {},
   "source": [
    "The normalization pipeline applies the following **14 steps**, which are explained and illustrated in the sections below.\n",
    "\n",
    "- Fix encoding errors\n",
    "  - fix windows1252 text read as iso8859-1\n",
    "  - fix utf8 text read as windows1252\n",
    "  - fix windows1252 text read as utf8\n",
    "  - merge Unicode combining chars\n",
    "  - ignore control chars\n",
    "- Remove display attributes\n",
    "  - replace latin letter symbols\n",
    "  - replace latin letter ligatures\n",
    "  - replace latin number symbols\n",
    "- Normalize visually equivalent chars\n",
    "  - replace equivalent chars \n",
    "  - replace cyrillic and greek chars looking like latin letters\n",
    "- Encode infrequent chars while losing a little bit of information \n",
    "  - replace infrequent latin letters with diacritics\n",
    "  - replace infrequent chars from other scripts\n",
    "  - replace infrequent symbols \n",
    "  - ignore remaining chars with no glyph "
   ]
  },
  {
   "cell_type": "markdown",
   "metadata": {},
   "source": [
    "### 2.1 Frequent encoding errors : windows1252 read as iso8859-1"
   ]
  },
  {
   "cell_type": "code",
   "execution_count": null,
   "metadata": {},
   "outputs": [
    {
     "data": {
      "text/html": [
       "<div>\n",
       "<style scoped>\n",
       "    .dataframe tbody tr th:only-of-type {\n",
       "        vertical-align: middle;\n",
       "    }\n",
       "\n",
       "    .dataframe tbody tr th {\n",
       "        vertical-align: top;\n",
       "    }\n",
       "\n",
       "    .dataframe thead th {\n",
       "        text-align: right;\n",
       "    }\n",
       "</style>\n",
       "<table border=\"1\" class=\"dataframe\">\n",
       "  <thead>\n",
       "    <tr style=\"text-align: right;\">\n",
       "      <th></th>\n",
       "      <th>Code</th>\n",
       "      <th>Char</th>\n",
       "      <th>DecodedCode</th>\n",
       "      <th>DecodedChar</th>\n",
       "    </tr>\n",
       "  </thead>\n",
       "  <tbody>\n",
       "    <tr>\n",
       "      <th>0</th>\n",
       "      <td>146</td>\n",
       "      <td></td>\n",
       "      <td>8217</td>\n",
       "      <td>’</td>\n",
       "    </tr>\n",
       "    <tr>\n",
       "      <th>1</th>\n",
       "      <td>128</td>\n",
       "      <td></td>\n",
       "      <td>8364</td>\n",
       "      <td>€</td>\n",
       "    </tr>\n",
       "    <tr>\n",
       "      <th>2</th>\n",
       "      <td>133</td>\n",
       "      <td></td>\n",
       "      <td>8230</td>\n",
       "      <td>…</td>\n",
       "    </tr>\n",
       "    <tr>\n",
       "      <th>3</th>\n",
       "      <td>150</td>\n",
       "      <td></td>\n",
       "      <td>8211</td>\n",
       "      <td>–</td>\n",
       "    </tr>\n",
       "    <tr>\n",
       "      <th>4</th>\n",
       "      <td>156</td>\n",
       "      <td></td>\n",
       "      <td>339</td>\n",
       "      <td>œ</td>\n",
       "    </tr>\n",
       "    <tr>\n",
       "      <th>5</th>\n",
       "      <td>149</td>\n",
       "      <td></td>\n",
       "      <td>8226</td>\n",
       "      <td>•</td>\n",
       "    </tr>\n",
       "    <tr>\n",
       "      <th>6</th>\n",
       "      <td>147</td>\n",
       "      <td></td>\n",
       "      <td>8220</td>\n",
       "      <td>“</td>\n",
       "    </tr>\n",
       "    <tr>\n",
       "      <th>7</th>\n",
       "      <td>148</td>\n",
       "      <td></td>\n",
       "      <td>8221</td>\n",
       "      <td>”</td>\n",
       "    </tr>\n",
       "    <tr>\n",
       "      <th>8</th>\n",
       "      <td>151</td>\n",
       "      <td></td>\n",
       "      <td>8212</td>\n",
       "      <td>—</td>\n",
       "    </tr>\n",
       "    <tr>\n",
       "      <th>9</th>\n",
       "      <td>145</td>\n",
       "      <td></td>\n",
       "      <td>8216</td>\n",
       "      <td>‘</td>\n",
       "    </tr>\n",
       "  </tbody>\n",
       "</table>\n",
       "</div>"
      ],
      "text/plain": [
       "   Code Char  DecodedCode DecodedChar\n",
       "0   146             8217           ’\n",
       "1   128             8364           €\n",
       "2   133    \n",
       "         8230           …\n",
       "3   150             8211           –\n",
       "4   156              339           œ\n",
       "5   149             8226           •\n",
       "6   147             8220           “\n",
       "7   148             8221           ”\n",
       "8   151             8212           —\n",
       "9   145             8216           ‘"
      ]
     },
     "execution_count": null,
     "metadata": {},
     "output_type": "execute_result"
    }
   ],
   "source": [
    "dfencodingwin1252 = pd.read_csv(chardatadir / \"windows1252-iso8859-errors.csv\", sep=\";\")\n",
    "dfencodingwin1252.head(10)"
   ]
  },
  {
   "cell_type": "code",
   "execution_count": null,
   "metadata": {},
   "outputs": [
    {
     "name": "stdout",
     "output_type": "stream",
     "text": [
      "10 frequent encoding errors seen in french datasets : a character encoded as windows1252 was incorrectly decoded as iso8859-1\n"
     ]
    }
   ],
   "source": [
    "print(f\"{len(dfencodingwin1252)} frequent encoding errors seen in french datasets : a character encoded as windows1252 was incorrectly decoded as iso8859-1\")"
   ]
  },
  {
   "cell_type": "markdown",
   "metadata": {},
   "source": [
    "Columns :\n",
    "- Code/Char : incorrectly decoded control char seen in french text\n",
    "- DecodedCode/DecodedChare : properly decoded char which should replace the original control char"
   ]
  },
  {
   "cell_type": "markdown",
   "metadata": {},
   "source": [
    "### 2.2 Frequent encoding errors : utf8 read as windows1252"
   ]
  },
  {
   "cell_type": "code",
   "execution_count": null,
   "metadata": {},
   "outputs": [
    {
     "data": {
      "text/html": [
       "<div>\n",
       "<style scoped>\n",
       "    .dataframe tbody tr th:only-of-type {\n",
       "        vertical-align: middle;\n",
       "    }\n",
       "\n",
       "    .dataframe tbody tr th {\n",
       "        vertical-align: top;\n",
       "    }\n",
       "\n",
       "    .dataframe thead th {\n",
       "        text-align: right;\n",
       "    }\n",
       "</style>\n",
       "<table border=\"1\" class=\"dataframe\">\n",
       "  <thead>\n",
       "    <tr style=\"text-align: right;\">\n",
       "      <th></th>\n",
       "      <th>ErrorSubstring</th>\n",
       "      <th>DecodedCode</th>\n",
       "      <th>DecodedChar</th>\n",
       "    </tr>\n",
       "  </thead>\n",
       "  <tbody>\n",
       "    <tr>\n",
       "      <th>0</th>\n",
       "      <td>â‚¬</td>\n",
       "      <td>8364</td>\n",
       "      <td>€</td>\n",
       "    </tr>\n",
       "    <tr>\n",
       "      <th>1</th>\n",
       "      <td>â€š</td>\n",
       "      <td>8218</td>\n",
       "      <td>‚</td>\n",
       "    </tr>\n",
       "    <tr>\n",
       "      <th>2</th>\n",
       "      <td>Æ’</td>\n",
       "      <td>402</td>\n",
       "      <td>ƒ</td>\n",
       "    </tr>\n",
       "    <tr>\n",
       "      <th>3</th>\n",
       "      <td>â€ž</td>\n",
       "      <td>8222</td>\n",
       "      <td>„</td>\n",
       "    </tr>\n",
       "    <tr>\n",
       "      <th>4</th>\n",
       "      <td>â€¦</td>\n",
       "      <td>8230</td>\n",
       "      <td>…</td>\n",
       "    </tr>\n",
       "    <tr>\n",
       "      <th>5</th>\n",
       "      <td>â€</td>\n",
       "      <td>8224</td>\n",
       "      <td>†</td>\n",
       "    </tr>\n",
       "    <tr>\n",
       "      <th>6</th>\n",
       "      <td>â€¡</td>\n",
       "      <td>8225</td>\n",
       "      <td>‡</td>\n",
       "    </tr>\n",
       "    <tr>\n",
       "      <th>7</th>\n",
       "      <td>Ë†</td>\n",
       "      <td>710</td>\n",
       "      <td>ˆ</td>\n",
       "    </tr>\n",
       "    <tr>\n",
       "      <th>8</th>\n",
       "      <td>â€°</td>\n",
       "      <td>8240</td>\n",
       "      <td>‰</td>\n",
       "    </tr>\n",
       "    <tr>\n",
       "      <th>9</th>\n",
       "      <td>Å</td>\n",
       "      <td>352</td>\n",
       "      <td>Š</td>\n",
       "    </tr>\n",
       "  </tbody>\n",
       "</table>\n",
       "</div>"
      ],
      "text/plain": [
       "  ErrorSubstring  DecodedCode DecodedChar\n",
       "0            â‚¬         8364           €\n",
       "1            â€š         8218           ‚\n",
       "2             Æ’          402           ƒ\n",
       "3            â€ž         8222           „\n",
       "4            â€¦         8230           …\n",
       "5            â€          8224           †\n",
       "6            â€¡         8225           ‡\n",
       "7             Ë†          710           ˆ\n",
       "8            â€°         8240           ‰\n",
       "9             Å           352           Š"
      ]
     },
     "execution_count": null,
     "metadata": {},
     "output_type": "execute_result"
    }
   ],
   "source": [
    "dfencodingutf8 = pd.read_csv(chardatadir / \"utf8-windows1252-errors.csv\", sep=\";\")\n",
    "dfencodingutf8.head(10)"
   ]
  },
  {
   "cell_type": "code",
   "execution_count": null,
   "metadata": {},
   "outputs": [
    {
     "name": "stdout",
     "output_type": "stream",
     "text": [
      "117 very unlikely substrings produced when text encoded with UTF-8 is decoded by mistake as iso8859-1 or windows1252\n"
     ]
    }
   ],
   "source": [
    "print(f\"{len(dfencodingutf8)} very unlikely substrings produced when text encoded with UTF-8 is decoded by mistake as iso8859-1 or windows1252\")"
   ]
  },
  {
   "cell_type": "markdown",
   "metadata": {},
   "source": [
    "Columns :\n",
    "- ErrorSubstring : unlikely substring of length 2 or 3 characters produced when UTF-8 text is decoded by mistake as windows1252\n",
    "- DecodedCode/DecodedChar : properly decoded char which should be used to replace the unlikley substring"
   ]
  },
  {
   "cell_type": "markdown",
   "metadata": {},
   "source": [
    "### 2.3 Frequent encoding errors : windows1252 read as utf8"
   ]
  },
  {
   "cell_type": "code",
   "execution_count": null,
   "metadata": {},
   "outputs": [
    {
     "data": {
      "text/html": [
       "<div>\n",
       "<style scoped>\n",
       "    .dataframe tbody tr th:only-of-type {\n",
       "        vertical-align: middle;\n",
       "    }\n",
       "\n",
       "    .dataframe tbody tr th {\n",
       "        vertical-align: top;\n",
       "    }\n",
       "\n",
       "    .dataframe thead th {\n",
       "        text-align: right;\n",
       "    }\n",
       "</style>\n",
       "<table border=\"1\" class=\"dataframe\">\n",
       "  <thead>\n",
       "    <tr style=\"text-align: right;\">\n",
       "      <th></th>\n",
       "      <th>Code</th>\n",
       "      <th>Char</th>\n",
       "      <th>DecodedCodes</th>\n",
       "      <th>DecodedChars</th>\n",
       "    </tr>\n",
       "  </thead>\n",
       "  <tbody>\n",
       "    <tr>\n",
       "      <th>0</th>\n",
       "      <td>38971</td>\n",
       "      <td>頻</td>\n",
       "      <td>[233, 160, 187]</td>\n",
       "      <td>é »</td>\n",
       "    </tr>\n",
       "  </tbody>\n",
       "</table>\n",
       "</div>"
      ],
      "text/plain": [
       "    Code Char     DecodedCodes DecodedChars\n",
       "0  38971    頻  [233, 160, 187]          é »"
      ]
     },
     "execution_count": null,
     "metadata": {},
     "output_type": "execute_result"
    }
   ],
   "source": [
    "dfencodingwin1252utf8 = pd.read_csv(chardatadir / \"windows1252-utf8-errors.csv\", sep=\";\")\n",
    "dfencodingwin1252utf8.head()"
   ]
  },
  {
   "cell_type": "code",
   "execution_count": null,
   "metadata": {},
   "outputs": [
    {
     "name": "stdout",
     "output_type": "stream",
     "text": [
      "1 char very unlikely in french text produced when text encoded with iso8859-1 or windows1252 is decoded by mistake as UTF-8\n"
     ]
    }
   ],
   "source": [
    "print(f\"{len(dfencodingwin1252utf8)} char very unlikely in french text produced when text encoded with iso8859-1 or windows1252 is decoded by mistake as UTF-8\")"
   ]
  },
  {
   "cell_type": "markdown",
   "metadata": {},
   "source": [
    "Columns :\n",
    "- Char : unlikely char produced when text encoded with iso8859-1 or windows1252 is decoded by mistake as UTF-8\n",
    "- DecodedCodes/DecodedChars : properly decoded substring which should be used to replace the unlikley char"
   ]
  },
  {
   "cell_type": "markdown",
   "metadata": {},
   "source": [
    "### 2.4 Unicode combining chars"
   ]
  },
  {
   "cell_type": "code",
   "execution_count": null,
   "metadata": {},
   "outputs": [
    {
     "data": {
      "text/html": [
       "<div>\n",
       "<style scoped>\n",
       "    .dataframe tbody tr th:only-of-type {\n",
       "        vertical-align: middle;\n",
       "    }\n",
       "\n",
       "    .dataframe tbody tr th {\n",
       "        vertical-align: top;\n",
       "    }\n",
       "\n",
       "    .dataframe thead th {\n",
       "        text-align: right;\n",
       "    }\n",
       "</style>\n",
       "<table border=\"1\" class=\"dataframe\">\n",
       "  <thead>\n",
       "    <tr style=\"text-align: right;\">\n",
       "      <th></th>\n",
       "      <th>BaseChar</th>\n",
       "      <th>Code</th>\n",
       "      <th>Char</th>\n",
       "      <th>Diacritic</th>\n",
       "      <th>CombinedChar</th>\n",
       "    </tr>\n",
       "  </thead>\n",
       "  <tbody>\n",
       "    <tr>\n",
       "      <th>0</th>\n",
       "      <td>A</td>\n",
       "      <td>769</td>\n",
       "      <td>́</td>\n",
       "      <td>Acute</td>\n",
       "      <td>Á</td>\n",
       "    </tr>\n",
       "    <tr>\n",
       "      <th>1</th>\n",
       "      <td>E</td>\n",
       "      <td>769</td>\n",
       "      <td>́</td>\n",
       "      <td>Acute</td>\n",
       "      <td>É</td>\n",
       "    </tr>\n",
       "    <tr>\n",
       "      <th>2</th>\n",
       "      <td>I</td>\n",
       "      <td>769</td>\n",
       "      <td>́</td>\n",
       "      <td>Acute</td>\n",
       "      <td>Í</td>\n",
       "    </tr>\n",
       "    <tr>\n",
       "      <th>3</th>\n",
       "      <td>O</td>\n",
       "      <td>769</td>\n",
       "      <td>́</td>\n",
       "      <td>Acute</td>\n",
       "      <td>Ó</td>\n",
       "    </tr>\n",
       "    <tr>\n",
       "      <th>4</th>\n",
       "      <td>U</td>\n",
       "      <td>769</td>\n",
       "      <td>́</td>\n",
       "      <td>Acute</td>\n",
       "      <td>Ú</td>\n",
       "    </tr>\n",
       "  </tbody>\n",
       "</table>\n",
       "</div>"
      ],
      "text/plain": [
       "  BaseChar  Code Char Diacritic CombinedChar\n",
       "0        A   769    ́     Acute            Á\n",
       "1        E   769    ́     Acute            É\n",
       "2        I   769    ́     Acute            Í\n",
       "3        O   769    ́     Acute            Ó\n",
       "4        U   769    ́     Acute            Ú"
      ]
     },
     "execution_count": null,
     "metadata": {},
     "output_type": "execute_result"
    }
   ],
   "source": [
    "dfcombiningchars = pd.read_csv(chardatadir / \"combiningdiacritics.csv\", sep=\";\")\n",
    "dfcombiningchars.head()"
   ]
  },
  {
   "cell_type": "code",
   "execution_count": null,
   "metadata": {},
   "outputs": [
    {
     "name": "stdout",
     "output_type": "stream",
     "text": [
      "12 combining chars ['Acute', 'Grave', 'Circumflex', 'Cedilla', 'Tilde', 'Diaeresis', 'Long Stroke Overlay', 'Macron', 'Caron', 'Dot Below', 'Dot Above', 'Ring Above'] should be recombined with 274 base latin characters to produce standard latin characters with diacritics\n"
     ]
    }
   ],
   "source": [
    "print(f\"{len(dfcombiningchars['Char'].unique())} combining chars {list(dfcombiningchars['Diacritic'].unique())} should be recombined with {len(dfcombiningchars)} base latin characters to produce standard latin characters with diacritics\")"
   ]
  },
  {
   "cell_type": "markdown",
   "metadata": {},
   "source": [
    "Columns :\n",
    "- BaseChar : latin char encountered first in the string, which will be modified by the combining char immediately following it\n",
    "- Code/Char : combining char immediately following BaseChar, which should be combined with it to produce CombinedChar\n",
    "- Diacritic : type of accent / diacritic applied by the combining char\n",
    "- CombinedChar : latin char with diacritic produced by the combination of BaseChar and the combining Char following it"
   ]
  },
  {
   "cell_type": "markdown",
   "metadata": {},
   "source": [
    "### 2.5 Control chars"
   ]
  },
  {
   "cell_type": "code",
   "execution_count": null,
   "metadata": {},
   "outputs": [
    {
     "data": {
      "text/html": [
       "<div>\n",
       "<style scoped>\n",
       "    .dataframe tbody tr th:only-of-type {\n",
       "        vertical-align: middle;\n",
       "    }\n",
       "\n",
       "    .dataframe tbody tr th {\n",
       "        vertical-align: top;\n",
       "    }\n",
       "\n",
       "    .dataframe thead th {\n",
       "        text-align: right;\n",
       "    }\n",
       "</style>\n",
       "<table border=\"1\" class=\"dataframe\">\n",
       "  <thead>\n",
       "    <tr style=\"text-align: right;\">\n",
       "      <th></th>\n",
       "      <th>Code</th>\n",
       "      <th>Char</th>\n",
       "      <th>CharName</th>\n",
       "    </tr>\n",
       "  </thead>\n",
       "  <tbody>\n",
       "    <tr>\n",
       "      <th>0</th>\n",
       "      <td>0</td>\n",
       "      <td>\u0000</td>\n",
       "      <td>Char 0</td>\n",
       "    </tr>\n",
       "    <tr>\n",
       "      <th>1</th>\n",
       "      <td>1</td>\n",
       "      <td>\u0001</td>\n",
       "      <td>Char 1</td>\n",
       "    </tr>\n",
       "    <tr>\n",
       "      <th>2</th>\n",
       "      <td>2</td>\n",
       "      <td>\u0002</td>\n",
       "      <td>Char 2</td>\n",
       "    </tr>\n",
       "    <tr>\n",
       "      <th>3</th>\n",
       "      <td>3</td>\n",
       "      <td>\u0003</td>\n",
       "      <td>Char 3</td>\n",
       "    </tr>\n",
       "    <tr>\n",
       "      <th>4</th>\n",
       "      <td>4</td>\n",
       "      <td>\u0004</td>\n",
       "      <td>Char 4</td>\n",
       "    </tr>\n",
       "    <tr>\n",
       "      <th>...</th>\n",
       "      <td>...</td>\n",
       "      <td>...</td>\n",
       "      <td>...</td>\n",
       "    </tr>\n",
       "    <tr>\n",
       "      <th>120</th>\n",
       "      <td>65532</td>\n",
       "      <td>￼</td>\n",
       "      <td>Object Replacement Character</td>\n",
       "    </tr>\n",
       "    <tr>\n",
       "      <th>121</th>\n",
       "      <td>127995</td>\n",
       "      <td>🏻</td>\n",
       "      <td>Emoji Modifier Fitzpatrick Type-1-2</td>\n",
       "    </tr>\n",
       "    <tr>\n",
       "      <th>122</th>\n",
       "      <td>127996</td>\n",
       "      <td>🏼</td>\n",
       "      <td>Emoji Modifier Fitzpatrick Type-3</td>\n",
       "    </tr>\n",
       "    <tr>\n",
       "      <th>123</th>\n",
       "      <td>127997</td>\n",
       "      <td>🏽</td>\n",
       "      <td>Emoji Modifier Fitzpatrick Type-4</td>\n",
       "    </tr>\n",
       "    <tr>\n",
       "      <th>124</th>\n",
       "      <td>127998</td>\n",
       "      <td>🏾</td>\n",
       "      <td>Emoji Modifier Fitzpatrick Type-5</td>\n",
       "    </tr>\n",
       "  </tbody>\n",
       "</table>\n",
       "<p>125 rows × 3 columns</p>\n",
       "</div>"
      ],
      "text/plain": [
       "       Code Char                             CharName\n",
       "0         0    \u0000                               Char 0\n",
       "1         1    \u0001                               Char 1\n",
       "2         2    \u0002                               Char 2\n",
       "3         3    \u0003                               Char 3\n",
       "4         4    \u0004                               Char 4\n",
       "..      ...  ...                                  ...\n",
       "120   65532    ￼         Object Replacement Character\n",
       "121  127995    🏻  Emoji Modifier Fitzpatrick Type-1-2\n",
       "122  127996    🏼    Emoji Modifier Fitzpatrick Type-3\n",
       "123  127997    🏽    Emoji Modifier Fitzpatrick Type-4\n",
       "124  127998    🏾    Emoji Modifier Fitzpatrick Type-5\n",
       "\n",
       "[125 rows x 3 columns]"
      ]
     },
     "execution_count": null,
     "metadata": {},
     "output_type": "execute_result"
    }
   ],
   "source": [
    "dfcontrolchars = pd.read_csv(chardatadir / \"controlchars.csv\", sep=\";\")\n",
    "dfcontrolchars.loc[0,\"Char\"] = chr(0) # chr(0) can't be saved in CSV file\n",
    "dfcontrolchars"
   ]
  },
  {
   "cell_type": "code",
   "execution_count": null,
   "metadata": {},
   "outputs": [
    {
     "name": "stdout",
     "output_type": "stream",
     "text": [
      "125 control chars seen in french datasets, which can't be displayed and should be ignored\n"
     ]
    }
   ],
   "source": [
    "print(f\"{len(dfcontrolchars)} control chars seen in french datasets, which can't be displayed and should be ignored\")"
   ]
  },
  {
   "cell_type": "markdown",
   "metadata": {},
   "source": [
    "Columns :\n",
    "- Code : Unicode code point for the character\n",
    "- Char : control character\n",
    "- CharName : name of the character in the Python Unicode database"
   ]
  },
  {
   "cell_type": "markdown",
   "metadata": {},
   "source": [
    "### 2.6 Latin letter symbols"
   ]
  },
  {
   "cell_type": "code",
   "execution_count": null,
   "metadata": {},
   "outputs": [
    {
     "data": {
      "text/html": [
       "<div>\n",
       "<style scoped>\n",
       "    .dataframe tbody tr th:only-of-type {\n",
       "        vertical-align: middle;\n",
       "    }\n",
       "\n",
       "    .dataframe tbody tr th {\n",
       "        vertical-align: top;\n",
       "    }\n",
       "\n",
       "    .dataframe thead th {\n",
       "        text-align: right;\n",
       "    }\n",
       "</style>\n",
       "<table border=\"1\" class=\"dataframe\">\n",
       "  <thead>\n",
       "    <tr style=\"text-align: right;\">\n",
       "      <th></th>\n",
       "      <th>Code</th>\n",
       "      <th>Char</th>\n",
       "      <th>CharName</th>\n",
       "      <th>NormString</th>\n",
       "      <th>Layout</th>\n",
       "    </tr>\n",
       "  </thead>\n",
       "  <tbody>\n",
       "    <tr>\n",
       "      <th>0</th>\n",
       "      <td>8253</td>\n",
       "      <td>‽</td>\n",
       "      <td>Interrobang</td>\n",
       "      <td>?!</td>\n",
       "      <td>NaN</td>\n",
       "    </tr>\n",
       "    <tr>\n",
       "      <th>1</th>\n",
       "      <td>8265</td>\n",
       "      <td>⁉</td>\n",
       "      <td>Exclamation Question Mark</td>\n",
       "      <td>!?</td>\n",
       "      <td>NaN</td>\n",
       "    </tr>\n",
       "    <tr>\n",
       "      <th>2</th>\n",
       "      <td>8448</td>\n",
       "      <td>℀</td>\n",
       "      <td>Account Of</td>\n",
       "      <td>a/c</td>\n",
       "      <td>NaN</td>\n",
       "    </tr>\n",
       "    <tr>\n",
       "      <th>3</th>\n",
       "      <td>8449</td>\n",
       "      <td>℁</td>\n",
       "      <td>Addressed To The Subject</td>\n",
       "      <td>a/s</td>\n",
       "      <td>NaN</td>\n",
       "    </tr>\n",
       "    <tr>\n",
       "      <th>4</th>\n",
       "      <td>8450</td>\n",
       "      <td>ℂ</td>\n",
       "      <td>Double-Struck Capital C</td>\n",
       "      <td>C</td>\n",
       "      <td>Double-Struck</td>\n",
       "    </tr>\n",
       "    <tr>\n",
       "      <th>5</th>\n",
       "      <td>8451</td>\n",
       "      <td>℃</td>\n",
       "      <td>Degree Celsius</td>\n",
       "      <td>°C</td>\n",
       "      <td>Unit</td>\n",
       "    </tr>\n",
       "    <tr>\n",
       "      <th>6</th>\n",
       "      <td>8453</td>\n",
       "      <td>℅</td>\n",
       "      <td>Care Of</td>\n",
       "      <td>c/o</td>\n",
       "      <td>NaN</td>\n",
       "    </tr>\n",
       "    <tr>\n",
       "      <th>7</th>\n",
       "      <td>8454</td>\n",
       "      <td>℆</td>\n",
       "      <td>Cada Una</td>\n",
       "      <td>c/u</td>\n",
       "      <td>NaN</td>\n",
       "    </tr>\n",
       "    <tr>\n",
       "      <th>8</th>\n",
       "      <td>8457</td>\n",
       "      <td>℉</td>\n",
       "      <td>Degree Fahrenheit</td>\n",
       "      <td>°F</td>\n",
       "      <td>Unit</td>\n",
       "    </tr>\n",
       "    <tr>\n",
       "      <th>9</th>\n",
       "      <td>8458</td>\n",
       "      <td>ℊ</td>\n",
       "      <td>Script Small G</td>\n",
       "      <td>g</td>\n",
       "      <td>Script</td>\n",
       "    </tr>\n",
       "  </tbody>\n",
       "</table>\n",
       "</div>"
      ],
      "text/plain": [
       "   Code Char                   CharName NormString         Layout\n",
       "0  8253    ‽                Interrobang         ?!            NaN\n",
       "1  8265    ⁉  Exclamation Question Mark         !?            NaN\n",
       "2  8448    ℀                 Account Of        a/c            NaN\n",
       "3  8449    ℁   Addressed To The Subject        a/s            NaN\n",
       "4  8450    ℂ    Double-Struck Capital C          C  Double-Struck\n",
       "5  8451    ℃             Degree Celsius         °C           Unit\n",
       "6  8453    ℅                    Care Of        c/o            NaN\n",
       "7  8454    ℆                   Cada Una        c/u            NaN\n",
       "8  8457    ℉          Degree Fahrenheit         °F           Unit\n",
       "9  8458    ℊ             Script Small G          g         Script"
      ]
     },
     "execution_count": null,
     "metadata": {},
     "output_type": "execute_result"
    }
   ],
   "source": [
    "dflatinsymbols = pd.read_csv(chardatadir / \"latinsymbols.csv\", sep=\";\")\n",
    "dflatinsymbols.head(10)"
   ]
  },
  {
   "cell_type": "code",
   "execution_count": null,
   "metadata": {},
   "outputs": [
    {
     "data": {
      "text/html": [
       "<div>\n",
       "<style scoped>\n",
       "    .dataframe tbody tr th:only-of-type {\n",
       "        vertical-align: middle;\n",
       "    }\n",
       "\n",
       "    .dataframe tbody tr th {\n",
       "        vertical-align: top;\n",
       "    }\n",
       "\n",
       "    .dataframe thead th {\n",
       "        text-align: right;\n",
       "    }\n",
       "</style>\n",
       "<table border=\"1\" class=\"dataframe\">\n",
       "  <thead>\n",
       "    <tr style=\"text-align: right;\">\n",
       "      <th></th>\n",
       "      <th>Code</th>\n",
       "      <th>Char</th>\n",
       "      <th>CharName</th>\n",
       "      <th>NormString</th>\n",
       "      <th>Layout</th>\n",
       "    </tr>\n",
       "  </thead>\n",
       "  <tbody>\n",
       "    <tr>\n",
       "      <th>230</th>\n",
       "      <td>119908</td>\n",
       "      <td>𝑤</td>\n",
       "      <td>Mathematical Italic Small W</td>\n",
       "      <td>w</td>\n",
       "      <td>Mathematical Italic</td>\n",
       "    </tr>\n",
       "    <tr>\n",
       "      <th>231</th>\n",
       "      <td>119909</td>\n",
       "      <td>𝑥</td>\n",
       "      <td>Mathematical Italic Small X</td>\n",
       "      <td>x</td>\n",
       "      <td>Mathematical Italic</td>\n",
       "    </tr>\n",
       "    <tr>\n",
       "      <th>232</th>\n",
       "      <td>119910</td>\n",
       "      <td>𝑦</td>\n",
       "      <td>Mathematical Italic Small Y</td>\n",
       "      <td>y</td>\n",
       "      <td>Mathematical Italic</td>\n",
       "    </tr>\n",
       "    <tr>\n",
       "      <th>233</th>\n",
       "      <td>119911</td>\n",
       "      <td>𝑧</td>\n",
       "      <td>Mathematical Italic Small Z</td>\n",
       "      <td>z</td>\n",
       "      <td>Mathematical Italic</td>\n",
       "    </tr>\n",
       "    <tr>\n",
       "      <th>234</th>\n",
       "      <td>119912</td>\n",
       "      <td>𝑨</td>\n",
       "      <td>Mathematical Bold Italic Capital A</td>\n",
       "      <td>A</td>\n",
       "      <td>Mathematical Bold Italic</td>\n",
       "    </tr>\n",
       "    <tr>\n",
       "      <th>235</th>\n",
       "      <td>119913</td>\n",
       "      <td>𝑩</td>\n",
       "      <td>Mathematical Bold Italic Capital B</td>\n",
       "      <td>B</td>\n",
       "      <td>Mathematical Bold Italic</td>\n",
       "    </tr>\n",
       "    <tr>\n",
       "      <th>236</th>\n",
       "      <td>119914</td>\n",
       "      <td>𝑪</td>\n",
       "      <td>Mathematical Bold Italic Capital C</td>\n",
       "      <td>C</td>\n",
       "      <td>Mathematical Bold Italic</td>\n",
       "    </tr>\n",
       "    <tr>\n",
       "      <th>237</th>\n",
       "      <td>119915</td>\n",
       "      <td>𝑫</td>\n",
       "      <td>Mathematical Bold Italic Capital D</td>\n",
       "      <td>D</td>\n",
       "      <td>Mathematical Bold Italic</td>\n",
       "    </tr>\n",
       "    <tr>\n",
       "      <th>238</th>\n",
       "      <td>119916</td>\n",
       "      <td>𝑬</td>\n",
       "      <td>Mathematical Bold Italic Capital E</td>\n",
       "      <td>E</td>\n",
       "      <td>Mathematical Bold Italic</td>\n",
       "    </tr>\n",
       "    <tr>\n",
       "      <th>239</th>\n",
       "      <td>119917</td>\n",
       "      <td>𝑭</td>\n",
       "      <td>Mathematical Bold Italic Capital F</td>\n",
       "      <td>F</td>\n",
       "      <td>Mathematical Bold Italic</td>\n",
       "    </tr>\n",
       "  </tbody>\n",
       "</table>\n",
       "</div>"
      ],
      "text/plain": [
       "       Code Char                            CharName NormString  \\\n",
       "230  119908    𝑤         Mathematical Italic Small W          w   \n",
       "231  119909    𝑥         Mathematical Italic Small X          x   \n",
       "232  119910    𝑦         Mathematical Italic Small Y          y   \n",
       "233  119911    𝑧         Mathematical Italic Small Z          z   \n",
       "234  119912    𝑨  Mathematical Bold Italic Capital A          A   \n",
       "235  119913    𝑩  Mathematical Bold Italic Capital B          B   \n",
       "236  119914    𝑪  Mathematical Bold Italic Capital C          C   \n",
       "237  119915    𝑫  Mathematical Bold Italic Capital D          D   \n",
       "238  119916    𝑬  Mathematical Bold Italic Capital E          E   \n",
       "239  119917    𝑭  Mathematical Bold Italic Capital F          F   \n",
       "\n",
       "                       Layout  \n",
       "230       Mathematical Italic  \n",
       "231       Mathematical Italic  \n",
       "232       Mathematical Italic  \n",
       "233       Mathematical Italic  \n",
       "234  Mathematical Bold Italic  \n",
       "235  Mathematical Bold Italic  \n",
       "236  Mathematical Bold Italic  \n",
       "237  Mathematical Bold Italic  \n",
       "238  Mathematical Bold Italic  \n",
       "239  Mathematical Bold Italic  "
      ]
     },
     "execution_count": null,
     "metadata": {},
     "output_type": "execute_result"
    }
   ],
   "source": [
    "dflatinsymbols[230:240]"
   ]
  },
  {
   "cell_type": "code",
   "execution_count": null,
   "metadata": {},
   "outputs": [
    {
     "name": "stdout",
     "output_type": "stream",
     "text": [
      "917 Unicode symbols which represent latin letters with a specific layout like [nan, 'Double-Struck', 'Unit', 'Script', 'Black-Letter', 'Turned', 'Rotated', 'Turned Sans-Serif', 'Reversed Sans-Serif', 'Double-Struck Italic', 'Parenthesized', 'Circled', 'Mathematical Bold', 'Mathematical Italic', 'Mathematical Bold Italic', 'Mathematical Script', 'Mathematical Bold Script', 'Mathematical Fraktur', 'Mathematical Double-Struck', 'Mathematical Bold Fraktur', 'Mathematical Sans-Serif', 'Mathematical Sans-Serif Bold', 'Mathematical Sans-Serif Italic', 'Mathematical Sans-Serif Bold Italic', 'Mathematical Monospace', 'Tortoise Shell Bracketed', 'Circled Italic', 'Squared', 'Negative Circled', 'Negative Squared', 'Crossed Negative Squared', 'Regional Indicator']\n"
     ]
    }
   ],
   "source": [
    "print(f\"{len(dflatinsymbols)} Unicode symbols which represent latin letters with a specific layout like {list(dflatinsymbols['Layout'].unique())}\")"
   ]
  },
  {
   "cell_type": "markdown",
   "metadata": {},
   "source": [
    "Columns :\n",
    "- Code/Char/CharName : Unicode symbol representing a latin letter with a specific layout\n",
    "- NormString : normalized string using only very frequent chars\n",
    "- Layout : info about the specific layout applied to the latin char"
   ]
  },
  {
   "cell_type": "markdown",
   "metadata": {},
   "source": [
    "### 2.7 Latin letters ligatures / Latin letters diacritics"
   ]
  },
  {
   "cell_type": "code",
   "execution_count": null,
   "metadata": {},
   "outputs": [
    {
     "data": {
      "text/html": [
       "<div>\n",
       "<style scoped>\n",
       "    .dataframe tbody tr th:only-of-type {\n",
       "        vertical-align: middle;\n",
       "    }\n",
       "\n",
       "    .dataframe tbody tr th {\n",
       "        vertical-align: top;\n",
       "    }\n",
       "\n",
       "    .dataframe thead th {\n",
       "        text-align: right;\n",
       "    }\n",
       "</style>\n",
       "<table border=\"1\" class=\"dataframe\">\n",
       "  <thead>\n",
       "    <tr style=\"text-align: right;\">\n",
       "      <th></th>\n",
       "      <th>Code</th>\n",
       "      <th>Char</th>\n",
       "      <th>LetterName</th>\n",
       "      <th>IsUpper</th>\n",
       "      <th>UpperChar</th>\n",
       "      <th>IsLower</th>\n",
       "      <th>LowerChar</th>\n",
       "      <th>IsDiacritic</th>\n",
       "      <th>BaseChar</th>\n",
       "      <th>Diacritics</th>\n",
       "      <th>IsLigature</th>\n",
       "      <th>MultiChars</th>\n",
       "      <th>CharName</th>\n",
       "      <th>Block</th>\n",
       "      <th>Category</th>\n",
       "      <th>SubCategory</th>\n",
       "    </tr>\n",
       "  </thead>\n",
       "  <tbody>\n",
       "    <tr>\n",
       "      <th>89</th>\n",
       "      <td>230</td>\n",
       "      <td>æ</td>\n",
       "      <td>Ae</td>\n",
       "      <td>False</td>\n",
       "      <td>Æ</td>\n",
       "      <td>True</td>\n",
       "      <td>æ</td>\n",
       "      <td>False</td>\n",
       "      <td>NaN</td>\n",
       "      <td>NaN</td>\n",
       "      <td>True</td>\n",
       "      <td>ae</td>\n",
       "      <td>Latin Small Letter Ae</td>\n",
       "      <td>Latin-1 Supplement</td>\n",
       "      <td>Letter</td>\n",
       "      <td>Lowercase</td>\n",
       "    </tr>\n",
       "    <tr>\n",
       "      <th>90</th>\n",
       "      <td>231</td>\n",
       "      <td>ç</td>\n",
       "      <td>C</td>\n",
       "      <td>False</td>\n",
       "      <td>Ç</td>\n",
       "      <td>True</td>\n",
       "      <td>ç</td>\n",
       "      <td>True</td>\n",
       "      <td>c</td>\n",
       "      <td>Cedilla</td>\n",
       "      <td>False</td>\n",
       "      <td>NaN</td>\n",
       "      <td>Latin Small Letter C With Cedilla</td>\n",
       "      <td>Latin-1 Supplement</td>\n",
       "      <td>Letter</td>\n",
       "      <td>Lowercase</td>\n",
       "    </tr>\n",
       "    <tr>\n",
       "      <th>91</th>\n",
       "      <td>232</td>\n",
       "      <td>è</td>\n",
       "      <td>E</td>\n",
       "      <td>False</td>\n",
       "      <td>È</td>\n",
       "      <td>True</td>\n",
       "      <td>è</td>\n",
       "      <td>True</td>\n",
       "      <td>e</td>\n",
       "      <td>Grave</td>\n",
       "      <td>False</td>\n",
       "      <td>NaN</td>\n",
       "      <td>Latin Small Letter E With Grave</td>\n",
       "      <td>Latin-1 Supplement</td>\n",
       "      <td>Letter</td>\n",
       "      <td>Lowercase</td>\n",
       "    </tr>\n",
       "    <tr>\n",
       "      <th>92</th>\n",
       "      <td>233</td>\n",
       "      <td>é</td>\n",
       "      <td>E</td>\n",
       "      <td>False</td>\n",
       "      <td>É</td>\n",
       "      <td>True</td>\n",
       "      <td>é</td>\n",
       "      <td>True</td>\n",
       "      <td>e</td>\n",
       "      <td>Acute</td>\n",
       "      <td>False</td>\n",
       "      <td>NaN</td>\n",
       "      <td>Latin Small Letter E With Acute</td>\n",
       "      <td>Latin-1 Supplement</td>\n",
       "      <td>Letter</td>\n",
       "      <td>Lowercase</td>\n",
       "    </tr>\n",
       "    <tr>\n",
       "      <th>93</th>\n",
       "      <td>234</td>\n",
       "      <td>ê</td>\n",
       "      <td>E</td>\n",
       "      <td>False</td>\n",
       "      <td>Ê</td>\n",
       "      <td>True</td>\n",
       "      <td>ê</td>\n",
       "      <td>True</td>\n",
       "      <td>e</td>\n",
       "      <td>Circumflex</td>\n",
       "      <td>False</td>\n",
       "      <td>NaN</td>\n",
       "      <td>Latin Small Letter E With Circumflex</td>\n",
       "      <td>Latin-1 Supplement</td>\n",
       "      <td>Letter</td>\n",
       "      <td>Lowercase</td>\n",
       "    </tr>\n",
       "    <tr>\n",
       "      <th>94</th>\n",
       "      <td>235</td>\n",
       "      <td>ë</td>\n",
       "      <td>E</td>\n",
       "      <td>False</td>\n",
       "      <td>Ë</td>\n",
       "      <td>True</td>\n",
       "      <td>ë</td>\n",
       "      <td>True</td>\n",
       "      <td>e</td>\n",
       "      <td>Diaeresis</td>\n",
       "      <td>False</td>\n",
       "      <td>NaN</td>\n",
       "      <td>Latin Small Letter E With Diaeresis</td>\n",
       "      <td>Latin-1 Supplement</td>\n",
       "      <td>Letter</td>\n",
       "      <td>Lowercase</td>\n",
       "    </tr>\n",
       "    <tr>\n",
       "      <th>95</th>\n",
       "      <td>236</td>\n",
       "      <td>ì</td>\n",
       "      <td>I</td>\n",
       "      <td>False</td>\n",
       "      <td>Ì</td>\n",
       "      <td>True</td>\n",
       "      <td>ì</td>\n",
       "      <td>True</td>\n",
       "      <td>i</td>\n",
       "      <td>Grave</td>\n",
       "      <td>False</td>\n",
       "      <td>NaN</td>\n",
       "      <td>Latin Small Letter I With Grave</td>\n",
       "      <td>Latin-1 Supplement</td>\n",
       "      <td>Letter</td>\n",
       "      <td>Lowercase</td>\n",
       "    </tr>\n",
       "    <tr>\n",
       "      <th>96</th>\n",
       "      <td>237</td>\n",
       "      <td>í</td>\n",
       "      <td>I</td>\n",
       "      <td>False</td>\n",
       "      <td>Í</td>\n",
       "      <td>True</td>\n",
       "      <td>í</td>\n",
       "      <td>True</td>\n",
       "      <td>i</td>\n",
       "      <td>Acute</td>\n",
       "      <td>False</td>\n",
       "      <td>NaN</td>\n",
       "      <td>Latin Small Letter I With Acute</td>\n",
       "      <td>Latin-1 Supplement</td>\n",
       "      <td>Letter</td>\n",
       "      <td>Lowercase</td>\n",
       "    </tr>\n",
       "    <tr>\n",
       "      <th>97</th>\n",
       "      <td>238</td>\n",
       "      <td>î</td>\n",
       "      <td>I</td>\n",
       "      <td>False</td>\n",
       "      <td>Î</td>\n",
       "      <td>True</td>\n",
       "      <td>î</td>\n",
       "      <td>True</td>\n",
       "      <td>i</td>\n",
       "      <td>Circumflex</td>\n",
       "      <td>False</td>\n",
       "      <td>NaN</td>\n",
       "      <td>Latin Small Letter I With Circumflex</td>\n",
       "      <td>Latin-1 Supplement</td>\n",
       "      <td>Letter</td>\n",
       "      <td>Lowercase</td>\n",
       "    </tr>\n",
       "    <tr>\n",
       "      <th>98</th>\n",
       "      <td>239</td>\n",
       "      <td>ï</td>\n",
       "      <td>I</td>\n",
       "      <td>False</td>\n",
       "      <td>Ï</td>\n",
       "      <td>True</td>\n",
       "      <td>ï</td>\n",
       "      <td>True</td>\n",
       "      <td>i</td>\n",
       "      <td>Diaeresis</td>\n",
       "      <td>False</td>\n",
       "      <td>NaN</td>\n",
       "      <td>Latin Small Letter I With Diaeresis</td>\n",
       "      <td>Latin-1 Supplement</td>\n",
       "      <td>Letter</td>\n",
       "      <td>Lowercase</td>\n",
       "    </tr>\n",
       "  </tbody>\n",
       "</table>\n",
       "</div>"
      ],
      "text/plain": [
       "    Code Char LetterName  IsUpper UpperChar  IsLower LowerChar  IsDiacritic  \\\n",
       "89   230    æ         Ae    False         Æ     True         æ        False   \n",
       "90   231    ç          C    False         Ç     True         ç         True   \n",
       "91   232    è          E    False         È     True         è         True   \n",
       "92   233    é          E    False         É     True         é         True   \n",
       "93   234    ê          E    False         Ê     True         ê         True   \n",
       "94   235    ë          E    False         Ë     True         ë         True   \n",
       "95   236    ì          I    False         Ì     True         ì         True   \n",
       "96   237    í          I    False         Í     True         í         True   \n",
       "97   238    î          I    False         Î     True         î         True   \n",
       "98   239    ï          I    False         Ï     True         ï         True   \n",
       "\n",
       "   BaseChar  Diacritics  IsLigature MultiChars  \\\n",
       "89      NaN         NaN        True         ae   \n",
       "90        c     Cedilla       False        NaN   \n",
       "91        e       Grave       False        NaN   \n",
       "92        e       Acute       False        NaN   \n",
       "93        e  Circumflex       False        NaN   \n",
       "94        e   Diaeresis       False        NaN   \n",
       "95        i       Grave       False        NaN   \n",
       "96        i       Acute       False        NaN   \n",
       "97        i  Circumflex       False        NaN   \n",
       "98        i   Diaeresis       False        NaN   \n",
       "\n",
       "                                CharName               Block Category  \\\n",
       "89                 Latin Small Letter Ae  Latin-1 Supplement   Letter   \n",
       "90     Latin Small Letter C With Cedilla  Latin-1 Supplement   Letter   \n",
       "91       Latin Small Letter E With Grave  Latin-1 Supplement   Letter   \n",
       "92       Latin Small Letter E With Acute  Latin-1 Supplement   Letter   \n",
       "93  Latin Small Letter E With Circumflex  Latin-1 Supplement   Letter   \n",
       "94   Latin Small Letter E With Diaeresis  Latin-1 Supplement   Letter   \n",
       "95       Latin Small Letter I With Grave  Latin-1 Supplement   Letter   \n",
       "96       Latin Small Letter I With Acute  Latin-1 Supplement   Letter   \n",
       "97  Latin Small Letter I With Circumflex  Latin-1 Supplement   Letter   \n",
       "98   Latin Small Letter I With Diaeresis  Latin-1 Supplement   Letter   \n",
       "\n",
       "   SubCategory  \n",
       "89   Lowercase  \n",
       "90   Lowercase  \n",
       "91   Lowercase  \n",
       "92   Lowercase  \n",
       "93   Lowercase  \n",
       "94   Lowercase  \n",
       "95   Lowercase  \n",
       "96   Lowercase  \n",
       "97   Lowercase  \n",
       "98   Lowercase  "
      ]
     },
     "execution_count": null,
     "metadata": {},
     "output_type": "execute_result"
    }
   ],
   "source": [
    "dflatinletters = pd.read_csv(chardatadir / \"latinletters.csv\", sep=\";\")\n",
    "dflatinletters[89:99]"
   ]
  },
  {
   "cell_type": "code",
   "execution_count": null,
   "metadata": {},
   "outputs": [
    {
     "name": "stdout",
     "output_type": "stream",
     "text": [
      "1230 chars representing latin letters, 459 upper case and 704 lower case, 1031 with diacritics like ['Grave', 'Acute', 'Circumflex', 'Tilde', 'Diaeresis', 'Ring Above', 'Cedilla', 'Stroke', 'Macron', 'Breve', 'Ogonek', 'Dot Above', 'Caron', 'Dotless', 'Middle Dot', 'Preceded By Apostrophe', 'Double Acute', 'Long', 'Hook', 'Topbar'], 88 representing multiple letters in ligature\n"
     ]
    }
   ],
   "source": [
    "print(f\"{len(dflatinletters)} chars representing latin letters, {len(dflatinletters[dflatinletters['IsUpper']])} upper case and {len(dflatinletters[dflatinletters['IsLower']])} lower case, {len(dflatinletters[dflatinletters['IsDiacritic']])} with diacritics like {list(dflatinletters[dflatinletters['IsDiacritic']]['Diacritics'].unique())[0:20]}, {len(dflatinletters[dflatinletters['IsLigature']])} representing multiple letters in ligature\")"
   ]
  },
  {
   "cell_type": "markdown",
   "metadata": {},
   "source": [
    "Columns :\n",
    "- Code/Char/CharName : Unicode character representing one or more latin letters\n",
    "- LetterName : name of the latin letter (without case and diacritics qualifiers)\n",
    "- IsUpper/UpperChar and IsLower/LowerChar : upper case or lower case equivalent chars\n",
    "- IsDiacritic => BaseChar : equivalent char without any diacritic (accents ...), Diacritics : description of all diacritics applied to the char\n",
    "- IsLigature => MultiChars : if the char represents multiple latin letters in a single ligature, string representing the equivalent list of letters\n",
    "- Block/Category/SubCategory : Unicode classification for each char"
   ]
  },
  {
   "cell_type": "markdown",
   "metadata": {},
   "source": [
    "### 2.8 Latin numbers and number symbols"
   ]
  },
  {
   "cell_type": "code",
   "execution_count": null,
   "metadata": {},
   "outputs": [
    {
     "data": {
      "text/html": [
       "<div>\n",
       "<style scoped>\n",
       "    .dataframe tbody tr th:only-of-type {\n",
       "        vertical-align: middle;\n",
       "    }\n",
       "\n",
       "    .dataframe tbody tr th {\n",
       "        vertical-align: top;\n",
       "    }\n",
       "\n",
       "    .dataframe thead th {\n",
       "        text-align: right;\n",
       "    }\n",
       "</style>\n",
       "<table border=\"1\" class=\"dataframe\">\n",
       "  <thead>\n",
       "    <tr style=\"text-align: right;\">\n",
       "      <th></th>\n",
       "      <th>Code</th>\n",
       "      <th>Char</th>\n",
       "      <th>CharName</th>\n",
       "      <th>NormString</th>\n",
       "      <th>Layout</th>\n",
       "    </tr>\n",
       "  </thead>\n",
       "  <tbody>\n",
       "    <tr>\n",
       "      <th>30</th>\n",
       "      <td>8327</td>\n",
       "      <td>₇</td>\n",
       "      <td>Subscript Seven</td>\n",
       "      <td>(7)</td>\n",
       "      <td>Subscript</td>\n",
       "    </tr>\n",
       "    <tr>\n",
       "      <th>31</th>\n",
       "      <td>8328</td>\n",
       "      <td>₈</td>\n",
       "      <td>Subscript Eight</td>\n",
       "      <td>(8)</td>\n",
       "      <td>Subscript</td>\n",
       "    </tr>\n",
       "    <tr>\n",
       "      <th>32</th>\n",
       "      <td>8329</td>\n",
       "      <td>₉</td>\n",
       "      <td>Subscript Nine</td>\n",
       "      <td>(9)</td>\n",
       "      <td>Subscript</td>\n",
       "    </tr>\n",
       "    <tr>\n",
       "      <th>33</th>\n",
       "      <td>8528</td>\n",
       "      <td>⅐</td>\n",
       "      <td>Vulgar Fraction One Seventh</td>\n",
       "      <td>1/7</td>\n",
       "      <td>Vulgar Fraction</td>\n",
       "    </tr>\n",
       "    <tr>\n",
       "      <th>34</th>\n",
       "      <td>8529</td>\n",
       "      <td>⅑</td>\n",
       "      <td>Vulgar Fraction One Ninth</td>\n",
       "      <td>1/9</td>\n",
       "      <td>Vulgar Fraction</td>\n",
       "    </tr>\n",
       "    <tr>\n",
       "      <th>35</th>\n",
       "      <td>8530</td>\n",
       "      <td>⅒</td>\n",
       "      <td>Vulgar Fraction One Tenth</td>\n",
       "      <td>1/10</td>\n",
       "      <td>Vulgar Fraction</td>\n",
       "    </tr>\n",
       "    <tr>\n",
       "      <th>36</th>\n",
       "      <td>8531</td>\n",
       "      <td>⅓</td>\n",
       "      <td>Vulgar Fraction One Third</td>\n",
       "      <td>1/3</td>\n",
       "      <td>Vulgar Fraction</td>\n",
       "    </tr>\n",
       "    <tr>\n",
       "      <th>37</th>\n",
       "      <td>8532</td>\n",
       "      <td>⅔</td>\n",
       "      <td>Vulgar Fraction Two Thirds</td>\n",
       "      <td>2/3</td>\n",
       "      <td>Vulgar Fraction</td>\n",
       "    </tr>\n",
       "    <tr>\n",
       "      <th>38</th>\n",
       "      <td>8533</td>\n",
       "      <td>⅕</td>\n",
       "      <td>Vulgar Fraction One Fifth</td>\n",
       "      <td>1/5</td>\n",
       "      <td>Vulgar Fraction</td>\n",
       "    </tr>\n",
       "    <tr>\n",
       "      <th>39</th>\n",
       "      <td>8534</td>\n",
       "      <td>⅖</td>\n",
       "      <td>Vulgar Fraction Two Fifths</td>\n",
       "      <td>2/5</td>\n",
       "      <td>Vulgar Fraction</td>\n",
       "    </tr>\n",
       "  </tbody>\n",
       "</table>\n",
       "</div>"
      ],
      "text/plain": [
       "    Code Char                     CharName NormString           Layout\n",
       "30  8327    ₇              Subscript Seven        (7)        Subscript\n",
       "31  8328    ₈              Subscript Eight        (8)        Subscript\n",
       "32  8329    ₉               Subscript Nine        (9)        Subscript\n",
       "33  8528    ⅐  Vulgar Fraction One Seventh        1/7  Vulgar Fraction\n",
       "34  8529    ⅑    Vulgar Fraction One Ninth        1/9  Vulgar Fraction\n",
       "35  8530    ⅒    Vulgar Fraction One Tenth       1/10  Vulgar Fraction\n",
       "36  8531    ⅓    Vulgar Fraction One Third        1/3  Vulgar Fraction\n",
       "37  8532    ⅔   Vulgar Fraction Two Thirds        2/3  Vulgar Fraction\n",
       "38  8533    ⅕    Vulgar Fraction One Fifth        1/5  Vulgar Fraction\n",
       "39  8534    ⅖   Vulgar Fraction Two Fifths        2/5  Vulgar Fraction"
      ]
     },
     "execution_count": null,
     "metadata": {},
     "output_type": "execute_result"
    }
   ],
   "source": [
    "dflatinnumbers = pd.read_csv(chardatadir / \"latinnumbers.csv\", sep=\";\")\n",
    "dflatinnumbers[30:40]"
   ]
  },
  {
   "cell_type": "code",
   "execution_count": null,
   "metadata": {},
   "outputs": [
    {
     "data": {
      "text/html": [
       "<div>\n",
       "<style scoped>\n",
       "    .dataframe tbody tr th:only-of-type {\n",
       "        vertical-align: middle;\n",
       "    }\n",
       "\n",
       "    .dataframe tbody tr th {\n",
       "        vertical-align: top;\n",
       "    }\n",
       "\n",
       "    .dataframe thead th {\n",
       "        text-align: right;\n",
       "    }\n",
       "</style>\n",
       "<table border=\"1\" class=\"dataframe\">\n",
       "  <thead>\n",
       "    <tr style=\"text-align: right;\">\n",
       "      <th></th>\n",
       "      <th>Code</th>\n",
       "      <th>Char</th>\n",
       "      <th>CharName</th>\n",
       "      <th>NormString</th>\n",
       "      <th>Layout</th>\n",
       "    </tr>\n",
       "  </thead>\n",
       "  <tbody>\n",
       "    <tr>\n",
       "      <th>200</th>\n",
       "      <td>12881</td>\n",
       "      <td>㉑</td>\n",
       "      <td>Circled Number Twenty One</td>\n",
       "      <td>(21)</td>\n",
       "      <td>Circled</td>\n",
       "    </tr>\n",
       "    <tr>\n",
       "      <th>201</th>\n",
       "      <td>12882</td>\n",
       "      <td>㉒</td>\n",
       "      <td>Circled Number Twenty Two</td>\n",
       "      <td>(22)</td>\n",
       "      <td>Circled</td>\n",
       "    </tr>\n",
       "    <tr>\n",
       "      <th>202</th>\n",
       "      <td>12883</td>\n",
       "      <td>㉓</td>\n",
       "      <td>Circled Number Twenty Three</td>\n",
       "      <td>(23)</td>\n",
       "      <td>Circled</td>\n",
       "    </tr>\n",
       "    <tr>\n",
       "      <th>203</th>\n",
       "      <td>12884</td>\n",
       "      <td>㉔</td>\n",
       "      <td>Circled Number Twenty Four</td>\n",
       "      <td>(24)</td>\n",
       "      <td>Circled</td>\n",
       "    </tr>\n",
       "    <tr>\n",
       "      <th>204</th>\n",
       "      <td>12885</td>\n",
       "      <td>㉕</td>\n",
       "      <td>Circled Number Twenty Five</td>\n",
       "      <td>(25)</td>\n",
       "      <td>Circled</td>\n",
       "    </tr>\n",
       "    <tr>\n",
       "      <th>205</th>\n",
       "      <td>12886</td>\n",
       "      <td>㉖</td>\n",
       "      <td>Circled Number Twenty Six</td>\n",
       "      <td>(26)</td>\n",
       "      <td>Circled</td>\n",
       "    </tr>\n",
       "    <tr>\n",
       "      <th>206</th>\n",
       "      <td>12887</td>\n",
       "      <td>㉗</td>\n",
       "      <td>Circled Number Twenty Seven</td>\n",
       "      <td>(27)</td>\n",
       "      <td>Circled</td>\n",
       "    </tr>\n",
       "    <tr>\n",
       "      <th>207</th>\n",
       "      <td>12888</td>\n",
       "      <td>㉘</td>\n",
       "      <td>Circled Number Twenty Eight</td>\n",
       "      <td>(28)</td>\n",
       "      <td>Circled</td>\n",
       "    </tr>\n",
       "    <tr>\n",
       "      <th>208</th>\n",
       "      <td>12889</td>\n",
       "      <td>㉙</td>\n",
       "      <td>Circled Number Twenty Nine</td>\n",
       "      <td>(29)</td>\n",
       "      <td>Circled</td>\n",
       "    </tr>\n",
       "    <tr>\n",
       "      <th>209</th>\n",
       "      <td>12890</td>\n",
       "      <td>㉚</td>\n",
       "      <td>Circled Number Thirty</td>\n",
       "      <td>(30)</td>\n",
       "      <td>Circled</td>\n",
       "    </tr>\n",
       "  </tbody>\n",
       "</table>\n",
       "</div>"
      ],
      "text/plain": [
       "      Code Char                     CharName NormString   Layout\n",
       "200  12881    ㉑    Circled Number Twenty One       (21)  Circled\n",
       "201  12882    ㉒    Circled Number Twenty Two       (22)  Circled\n",
       "202  12883    ㉓  Circled Number Twenty Three       (23)  Circled\n",
       "203  12884    ㉔   Circled Number Twenty Four       (24)  Circled\n",
       "204  12885    ㉕   Circled Number Twenty Five       (25)  Circled\n",
       "205  12886    ㉖    Circled Number Twenty Six       (26)  Circled\n",
       "206  12887    ㉗  Circled Number Twenty Seven       (27)  Circled\n",
       "207  12888    ㉘  Circled Number Twenty Eight       (28)  Circled\n",
       "208  12889    ㉙   Circled Number Twenty Nine       (29)  Circled\n",
       "209  12890    ㉚        Circled Number Thirty       (30)  Circled"
      ]
     },
     "execution_count": null,
     "metadata": {},
     "output_type": "execute_result"
    }
   ],
   "source": [
    "dflatinnumbers[200:210]"
   ]
  },
  {
   "cell_type": "code",
   "execution_count": null,
   "metadata": {},
   "outputs": [
    {
     "name": "stdout",
     "output_type": "stream",
     "text": [
      "302 chars representing latin digits, some with specific layouts like ['Superscript', 'Vulgar Fraction', 'Subscript', 'Roman Numeral', 'Small Roman Numeral', 'Circled', 'Parenthesized', ' Full Stop', 'Negative Circled', 'Double Circled', 'Dingbat Negative Circled', 'Dingbat Circled Sans-Serif', 'Dingbat Negative Circled Sans-Serif ', 'Circled On Black Square', 'Fullwidth', 'Mathematical Bold', 'Mathematical Double-Struck', 'Mathematical Sans-Serif', 'Mathematical Sans-Serif Bold', 'Mathematical Monospace', 'Full Stop', 'Comma']\n"
     ]
    }
   ],
   "source": [
    "print(f\"{len(dflatinnumbers)} chars representing latin digits, some with specific layouts like {list(dflatinnumbers['Layout'].unique())[1:]}\")"
   ]
  },
  {
   "cell_type": "markdown",
   "metadata": {},
   "source": [
    "Columns :\n",
    "- Code/Char/CharName : Unicode char representing on or more latin digits\n",
    "- NormString : normalized string representing the equivalent number, plus punctuation if needed\n",
    "- Layout : info about the specific layout applied to the latin digits"
   ]
  },
  {
   "cell_type": "markdown",
   "metadata": {},
   "source": [
    "### 2.9 Variations on frequent chars to normalize"
   ]
  },
  {
   "cell_type": "code",
   "execution_count": null,
   "metadata": {},
   "outputs": [
    {
     "data": {
      "text/html": [
       "<div>\n",
       "<style scoped>\n",
       "    .dataframe tbody tr th:only-of-type {\n",
       "        vertical-align: middle;\n",
       "    }\n",
       "\n",
       "    .dataframe tbody tr th {\n",
       "        vertical-align: top;\n",
       "    }\n",
       "\n",
       "    .dataframe thead th {\n",
       "        text-align: right;\n",
       "    }\n",
       "</style>\n",
       "<table border=\"1\" class=\"dataframe\">\n",
       "  <thead>\n",
       "    <tr style=\"text-align: right;\">\n",
       "      <th></th>\n",
       "      <th>Code</th>\n",
       "      <th>Char</th>\n",
       "      <th>CharName</th>\n",
       "      <th>NormCode</th>\n",
       "      <th>NormChar</th>\n",
       "      <th>NormCharName</th>\n",
       "    </tr>\n",
       "  </thead>\n",
       "  <tbody>\n",
       "    <tr>\n",
       "      <th>0</th>\n",
       "      <td>11</td>\n",
       "      <td></td>\n",
       "      <td>Char 11</td>\n",
       "      <td>10</td>\n",
       "      <td>\\n</td>\n",
       "      <td>Char 10</td>\n",
       "    </tr>\n",
       "    <tr>\n",
       "      <th>1</th>\n",
       "      <td>13</td>\n",
       "      <td>\\r</td>\n",
       "      <td>Char 13</td>\n",
       "      <td>10</td>\n",
       "      <td>\\n</td>\n",
       "      <td>Char 10</td>\n",
       "    </tr>\n",
       "    <tr>\n",
       "      <th>2</th>\n",
       "      <td>182</td>\n",
       "      <td>¶</td>\n",
       "      <td>Pilcrow Sign</td>\n",
       "      <td>10</td>\n",
       "      <td>\\n</td>\n",
       "      <td>Char 10</td>\n",
       "    </tr>\n",
       "    <tr>\n",
       "      <th>3</th>\n",
       "      <td>8232</td>\n",
       "      <td></td>\n",
       "      <td>Line Separator</td>\n",
       "      <td>10</td>\n",
       "      <td>\\n</td>\n",
       "      <td>Char 10</td>\n",
       "    </tr>\n",
       "    <tr>\n",
       "      <th>4</th>\n",
       "      <td>160</td>\n",
       "      <td></td>\n",
       "      <td>No-Break Space</td>\n",
       "      <td>32</td>\n",
       "      <td></td>\n",
       "      <td>Space</td>\n",
       "    </tr>\n",
       "  </tbody>\n",
       "</table>\n",
       "</div>"
      ],
      "text/plain": [
       "   Code Char        CharName  NormCode NormChar NormCharName\n",
       "0    11    \n",
       "         Char 11        10       \\n      Char 10\n",
       "1    13   \\r         Char 13        10       \\n      Char 10\n",
       "2   182    ¶    Pilcrow Sign        10       \\n      Char 10\n",
       "3  8232    \n",
       "  Line Separator        10       \\n      Char 10\n",
       "4   160       No-Break Space        32                 Space"
      ]
     },
     "execution_count": null,
     "metadata": {},
     "output_type": "execute_result"
    }
   ],
   "source": [
    "dfnormchars = pd.read_csv(chardatadir / \"normalizedchars.csv\", sep=\";\")\n",
    "dfnormchars.head()"
   ]
  },
  {
   "cell_type": "code",
   "execution_count": null,
   "metadata": {},
   "outputs": [
    {
     "data": {
      "text/html": [
       "<div>\n",
       "<style scoped>\n",
       "    .dataframe tbody tr th:only-of-type {\n",
       "        vertical-align: middle;\n",
       "    }\n",
       "\n",
       "    .dataframe tbody tr th {\n",
       "        vertical-align: top;\n",
       "    }\n",
       "\n",
       "    .dataframe thead th {\n",
       "        text-align: right;\n",
       "    }\n",
       "</style>\n",
       "<table border=\"1\" class=\"dataframe\">\n",
       "  <thead>\n",
       "    <tr style=\"text-align: right;\">\n",
       "      <th></th>\n",
       "      <th>Code</th>\n",
       "      <th>Char</th>\n",
       "      <th>CharName</th>\n",
       "      <th>NormCode</th>\n",
       "      <th>NormChar</th>\n",
       "      <th>NormCharName</th>\n",
       "    </tr>\n",
       "  </thead>\n",
       "  <tbody>\n",
       "    <tr>\n",
       "      <th>49</th>\n",
       "      <td>8209</td>\n",
       "      <td>‑</td>\n",
       "      <td>Non-Breaking Hyphen</td>\n",
       "      <td>45</td>\n",
       "      <td>-</td>\n",
       "      <td>Hyphen-Minus</td>\n",
       "    </tr>\n",
       "    <tr>\n",
       "      <th>50</th>\n",
       "      <td>8210</td>\n",
       "      <td>‒</td>\n",
       "      <td>Figure Dash</td>\n",
       "      <td>45</td>\n",
       "      <td>-</td>\n",
       "      <td>Hyphen-Minus</td>\n",
       "    </tr>\n",
       "    <tr>\n",
       "      <th>51</th>\n",
       "      <td>8211</td>\n",
       "      <td>–</td>\n",
       "      <td>En Dash</td>\n",
       "      <td>45</td>\n",
       "      <td>-</td>\n",
       "      <td>Hyphen-Minus</td>\n",
       "    </tr>\n",
       "    <tr>\n",
       "      <th>52</th>\n",
       "      <td>8212</td>\n",
       "      <td>—</td>\n",
       "      <td>Em Dash</td>\n",
       "      <td>45</td>\n",
       "      <td>-</td>\n",
       "      <td>Hyphen-Minus</td>\n",
       "    </tr>\n",
       "    <tr>\n",
       "      <th>53</th>\n",
       "      <td>8213</td>\n",
       "      <td>―</td>\n",
       "      <td>Horizontal Bar</td>\n",
       "      <td>45</td>\n",
       "      <td>-</td>\n",
       "      <td>Hyphen-Minus</td>\n",
       "    </tr>\n",
       "    <tr>\n",
       "      <th>54</th>\n",
       "      <td>8259</td>\n",
       "      <td>⁃</td>\n",
       "      <td>Hyphen Bullet</td>\n",
       "      <td>45</td>\n",
       "      <td>-</td>\n",
       "      <td>Hyphen-Minus</td>\n",
       "    </tr>\n",
       "    <tr>\n",
       "      <th>55</th>\n",
       "      <td>8288</td>\n",
       "      <td>⁠</td>\n",
       "      <td>Word Joiner</td>\n",
       "      <td>45</td>\n",
       "      <td>-</td>\n",
       "      <td>Hyphen-Minus</td>\n",
       "    </tr>\n",
       "    <tr>\n",
       "      <th>56</th>\n",
       "      <td>8315</td>\n",
       "      <td>⁻</td>\n",
       "      <td>Superscript Minus</td>\n",
       "      <td>45</td>\n",
       "      <td>-</td>\n",
       "      <td>Hyphen-Minus</td>\n",
       "    </tr>\n",
       "    <tr>\n",
       "      <th>57</th>\n",
       "      <td>8331</td>\n",
       "      <td>₋</td>\n",
       "      <td>Subscript Minus</td>\n",
       "      <td>45</td>\n",
       "      <td>-</td>\n",
       "      <td>Hyphen-Minus</td>\n",
       "    </tr>\n",
       "    <tr>\n",
       "      <th>58</th>\n",
       "      <td>8722</td>\n",
       "      <td>−</td>\n",
       "      <td>Minus Sign</td>\n",
       "      <td>45</td>\n",
       "      <td>-</td>\n",
       "      <td>Hyphen-Minus</td>\n",
       "    </tr>\n",
       "  </tbody>\n",
       "</table>\n",
       "</div>"
      ],
      "text/plain": [
       "    Code Char             CharName  NormCode NormChar  NormCharName\n",
       "49  8209    ‑  Non-Breaking Hyphen        45        -  Hyphen-Minus\n",
       "50  8210    ‒          Figure Dash        45        -  Hyphen-Minus\n",
       "51  8211    –              En Dash        45        -  Hyphen-Minus\n",
       "52  8212    —              Em Dash        45        -  Hyphen-Minus\n",
       "53  8213    ―       Horizontal Bar        45        -  Hyphen-Minus\n",
       "54  8259    ⁃        Hyphen Bullet        45        -  Hyphen-Minus\n",
       "55  8288    ⁠          Word Joiner        45        -  Hyphen-Minus\n",
       "56  8315    ⁻    Superscript Minus        45        -  Hyphen-Minus\n",
       "57  8331    ₋      Subscript Minus        45        -  Hyphen-Minus\n",
       "58  8722    −           Minus Sign        45        -  Hyphen-Minus"
      ]
     },
     "execution_count": null,
     "metadata": {},
     "output_type": "execute_result"
    }
   ],
   "source": [
    "dfnormchars[49:59]"
   ]
  },
  {
   "cell_type": "code",
   "execution_count": null,
   "metadata": {},
   "outputs": [
    {
     "data": {
      "text/html": [
       "<div>\n",
       "<style scoped>\n",
       "    .dataframe tbody tr th:only-of-type {\n",
       "        vertical-align: middle;\n",
       "    }\n",
       "\n",
       "    .dataframe tbody tr th {\n",
       "        vertical-align: top;\n",
       "    }\n",
       "\n",
       "    .dataframe thead th {\n",
       "        text-align: right;\n",
       "    }\n",
       "</style>\n",
       "<table border=\"1\" class=\"dataframe\">\n",
       "  <thead>\n",
       "    <tr style=\"text-align: right;\">\n",
       "      <th></th>\n",
       "      <th>Code</th>\n",
       "      <th>Char</th>\n",
       "      <th>CharName</th>\n",
       "      <th>NormCode</th>\n",
       "      <th>NormChar</th>\n",
       "      <th>NormCharName</th>\n",
       "    </tr>\n",
       "  </thead>\n",
       "  <tbody>\n",
       "    <tr>\n",
       "      <th>25</th>\n",
       "      <td>697</td>\n",
       "      <td>ʹ</td>\n",
       "      <td>Modifier Letter Prime</td>\n",
       "      <td>39</td>\n",
       "      <td>'</td>\n",
       "      <td>Apostrophe</td>\n",
       "    </tr>\n",
       "    <tr>\n",
       "      <th>26</th>\n",
       "      <td>699</td>\n",
       "      <td>ʻ</td>\n",
       "      <td>Modifier Letter Turned Comma</td>\n",
       "      <td>39</td>\n",
       "      <td>'</td>\n",
       "      <td>Apostrophe</td>\n",
       "    </tr>\n",
       "    <tr>\n",
       "      <th>27</th>\n",
       "      <td>700</td>\n",
       "      <td>ʼ</td>\n",
       "      <td>Modifier Letter Apostrophe</td>\n",
       "      <td>39</td>\n",
       "      <td>'</td>\n",
       "      <td>Apostrophe</td>\n",
       "    </tr>\n",
       "    <tr>\n",
       "      <th>28</th>\n",
       "      <td>702</td>\n",
       "      <td>ʾ</td>\n",
       "      <td>Modifier Letter Right Half Ring</td>\n",
       "      <td>39</td>\n",
       "      <td>'</td>\n",
       "      <td>Apostrophe</td>\n",
       "    </tr>\n",
       "    <tr>\n",
       "      <th>29</th>\n",
       "      <td>703</td>\n",
       "      <td>ʿ</td>\n",
       "      <td>Modifier Letter Left Half Ring</td>\n",
       "      <td>39</td>\n",
       "      <td>'</td>\n",
       "      <td>Apostrophe</td>\n",
       "    </tr>\n",
       "    <tr>\n",
       "      <th>30</th>\n",
       "      <td>712</td>\n",
       "      <td>ˈ</td>\n",
       "      <td>Modifier Letter Vertical Line</td>\n",
       "      <td>39</td>\n",
       "      <td>'</td>\n",
       "      <td>Apostrophe</td>\n",
       "    </tr>\n",
       "    <tr>\n",
       "      <th>31</th>\n",
       "      <td>714</td>\n",
       "      <td>ˊ</td>\n",
       "      <td>Modifier Letter Acute Accent</td>\n",
       "      <td>39</td>\n",
       "      <td>'</td>\n",
       "      <td>Apostrophe</td>\n",
       "    </tr>\n",
       "    <tr>\n",
       "      <th>32</th>\n",
       "      <td>715</td>\n",
       "      <td>ˋ</td>\n",
       "      <td>Modifier Letter Grave Accent</td>\n",
       "      <td>39</td>\n",
       "      <td>'</td>\n",
       "      <td>Apostrophe</td>\n",
       "    </tr>\n",
       "    <tr>\n",
       "      <th>33</th>\n",
       "      <td>729</td>\n",
       "      <td>˙</td>\n",
       "      <td>Dot Above</td>\n",
       "      <td>39</td>\n",
       "      <td>'</td>\n",
       "      <td>Apostrophe</td>\n",
       "    </tr>\n",
       "    <tr>\n",
       "      <th>34</th>\n",
       "      <td>8216</td>\n",
       "      <td>‘</td>\n",
       "      <td>Left Single Quotation Mark</td>\n",
       "      <td>39</td>\n",
       "      <td>'</td>\n",
       "      <td>Apostrophe</td>\n",
       "    </tr>\n",
       "  </tbody>\n",
       "</table>\n",
       "</div>"
      ],
      "text/plain": [
       "    Code Char                         CharName  NormCode NormChar NormCharName\n",
       "25   697    ʹ            Modifier Letter Prime        39        '   Apostrophe\n",
       "26   699    ʻ     Modifier Letter Turned Comma        39        '   Apostrophe\n",
       "27   700    ʼ       Modifier Letter Apostrophe        39        '   Apostrophe\n",
       "28   702    ʾ  Modifier Letter Right Half Ring        39        '   Apostrophe\n",
       "29   703    ʿ   Modifier Letter Left Half Ring        39        '   Apostrophe\n",
       "30   712    ˈ    Modifier Letter Vertical Line        39        '   Apostrophe\n",
       "31   714    ˊ     Modifier Letter Acute Accent        39        '   Apostrophe\n",
       "32   715    ˋ     Modifier Letter Grave Accent        39        '   Apostrophe\n",
       "33   729    ˙                        Dot Above        39        '   Apostrophe\n",
       "34  8216    ‘       Left Single Quotation Mark        39        '   Apostrophe"
      ]
     },
     "execution_count": null,
     "metadata": {},
     "output_type": "execute_result"
    }
   ],
   "source": [
    "dfnormchars[25:35]"
   ]
  },
  {
   "cell_type": "code",
   "execution_count": null,
   "metadata": {},
   "outputs": [
    {
     "name": "stdout",
     "output_type": "stream",
     "text": [
      "171 alternative chars which are sometimes used as equivalent visual representations for 53 other very frequent chars\n"
     ]
    }
   ],
   "source": [
    "print(f\"{len(dfnormchars)} alternative chars which are sometimes used as equivalent visual representations for {len(dfnormchars['NormChar'].unique())} other very frequent chars\")"
   ]
  },
  {
   "cell_type": "markdown",
   "metadata": {},
   "source": [
    "Columns :\n",
    "- Code/Char/CharName : alternative Unicode char often used as a visual equivalent of a more frequent char\n",
    "- NormCode/NormChar/NormCharName : more frequent char which should be used to normalize text"
   ]
  },
  {
   "cell_type": "markdown",
   "metadata": {},
   "source": [
    "### 2.10 Cyrillic and greek chars looking like latin letters"
   ]
  },
  {
   "cell_type": "code",
   "execution_count": null,
   "metadata": {},
   "outputs": [
    {
     "data": {
      "text/html": [
       "<div>\n",
       "<style scoped>\n",
       "    .dataframe tbody tr th:only-of-type {\n",
       "        vertical-align: middle;\n",
       "    }\n",
       "\n",
       "    .dataframe tbody tr th {\n",
       "        vertical-align: top;\n",
       "    }\n",
       "\n",
       "    .dataframe thead th {\n",
       "        text-align: right;\n",
       "    }\n",
       "</style>\n",
       "<table border=\"1\" class=\"dataframe\">\n",
       "  <thead>\n",
       "    <tr style=\"text-align: right;\">\n",
       "      <th></th>\n",
       "      <th>Code</th>\n",
       "      <th>Char</th>\n",
       "      <th>CharName</th>\n",
       "      <th>NormCode</th>\n",
       "      <th>NormChar</th>\n",
       "      <th>NormCharName</th>\n",
       "    </tr>\n",
       "  </thead>\n",
       "  <tbody>\n",
       "    <tr>\n",
       "      <th>5</th>\n",
       "      <td>949</td>\n",
       "      <td>ε</td>\n",
       "      <td>Greek Small Letter Epsilon</td>\n",
       "      <td>101</td>\n",
       "      <td>e</td>\n",
       "      <td>Latin Small Letter E</td>\n",
       "    </tr>\n",
       "    <tr>\n",
       "      <th>6</th>\n",
       "      <td>1077</td>\n",
       "      <td>е</td>\n",
       "      <td>Cyrillic Small Letter Ie</td>\n",
       "      <td>101</td>\n",
       "      <td>e</td>\n",
       "      <td>Latin Small Letter E</td>\n",
       "    </tr>\n",
       "    <tr>\n",
       "      <th>7</th>\n",
       "      <td>1108</td>\n",
       "      <td>є</td>\n",
       "      <td>Cyrillic Small Letter Ukrainian Ie</td>\n",
       "      <td>101</td>\n",
       "      <td>e</td>\n",
       "      <td>Latin Small Letter E</td>\n",
       "    </tr>\n",
       "    <tr>\n",
       "      <th>8</th>\n",
       "      <td>1085</td>\n",
       "      <td>н</td>\n",
       "      <td>Cyrillic Small Letter En</td>\n",
       "      <td>104</td>\n",
       "      <td>h</td>\n",
       "      <td>Latin Small Letter H</td>\n",
       "    </tr>\n",
       "    <tr>\n",
       "      <th>9</th>\n",
       "      <td>953</td>\n",
       "      <td>ι</td>\n",
       "      <td>Greek Small Letter Iota</td>\n",
       "      <td>105</td>\n",
       "      <td>i</td>\n",
       "      <td>Latin Small Letter I</td>\n",
       "    </tr>\n",
       "    <tr>\n",
       "      <th>10</th>\n",
       "      <td>1082</td>\n",
       "      <td>к</td>\n",
       "      <td>Cyrillic Small Letter Ka</td>\n",
       "      <td>107</td>\n",
       "      <td>k</td>\n",
       "      <td>Latin Small Letter K</td>\n",
       "    </tr>\n",
       "    <tr>\n",
       "      <th>11</th>\n",
       "      <td>1084</td>\n",
       "      <td>м</td>\n",
       "      <td>Cyrillic Small Letter Em</td>\n",
       "      <td>109</td>\n",
       "      <td>m</td>\n",
       "      <td>Latin Small Letter M</td>\n",
       "    </tr>\n",
       "    <tr>\n",
       "      <th>12</th>\n",
       "      <td>951</td>\n",
       "      <td>η</td>\n",
       "      <td>Greek Small Letter Eta</td>\n",
       "      <td>110</td>\n",
       "      <td>n</td>\n",
       "      <td>Latin Small Letter N</td>\n",
       "    </tr>\n",
       "    <tr>\n",
       "      <th>13</th>\n",
       "      <td>959</td>\n",
       "      <td>ο</td>\n",
       "      <td>Greek Small Letter Omicron</td>\n",
       "      <td>111</td>\n",
       "      <td>o</td>\n",
       "      <td>Latin Small Letter O</td>\n",
       "    </tr>\n",
       "    <tr>\n",
       "      <th>14</th>\n",
       "      <td>963</td>\n",
       "      <td>σ</td>\n",
       "      <td>Greek Small Letter Sigma</td>\n",
       "      <td>111</td>\n",
       "      <td>o</td>\n",
       "      <td>Latin Small Letter O</td>\n",
       "    </tr>\n",
       "  </tbody>\n",
       "</table>\n",
       "</div>"
      ],
      "text/plain": [
       "    Code Char                            CharName  NormCode NormChar  \\\n",
       "5    949    ε          Greek Small Letter Epsilon       101        e   \n",
       "6   1077    е            Cyrillic Small Letter Ie       101        e   \n",
       "7   1108    є  Cyrillic Small Letter Ukrainian Ie       101        e   \n",
       "8   1085    н            Cyrillic Small Letter En       104        h   \n",
       "9    953    ι             Greek Small Letter Iota       105        i   \n",
       "10  1082    к            Cyrillic Small Letter Ka       107        k   \n",
       "11  1084    м            Cyrillic Small Letter Em       109        m   \n",
       "12   951    η              Greek Small Letter Eta       110        n   \n",
       "13   959    ο          Greek Small Letter Omicron       111        o   \n",
       "14   963    σ            Greek Small Letter Sigma       111        o   \n",
       "\n",
       "            NormCharName  \n",
       "5   Latin Small Letter E  \n",
       "6   Latin Small Letter E  \n",
       "7   Latin Small Letter E  \n",
       "8   Latin Small Letter H  \n",
       "9   Latin Small Letter I  \n",
       "10  Latin Small Letter K  \n",
       "11  Latin Small Letter M  \n",
       "12  Latin Small Letter N  \n",
       "13  Latin Small Letter O  \n",
       "14  Latin Small Letter O  "
      ]
     },
     "execution_count": null,
     "metadata": {},
     "output_type": "execute_result"
    }
   ],
   "source": [
    "dfcgnormchars = pd.read_csv(chardatadir / \"cyrillic-greek-chars.csv\", sep=\";\")\n",
    "dfcgnormchars[5:15]"
   ]
  },
  {
   "cell_type": "code",
   "execution_count": null,
   "metadata": {},
   "outputs": [
    {
     "name": "stdout",
     "output_type": "stream",
     "text": [
      "27 cyrillic and greek chars used as equivalent visual representations for 18 latin letters\n"
     ]
    }
   ],
   "source": [
    "print(f\"{len(dfcgnormchars)} cyrillic and greek chars used as equivalent visual representations for {len(dfcgnormchars['NormChar'].unique())} latin letters\")"
   ]
  },
  {
   "cell_type": "markdown",
   "metadata": {},
   "source": [
    "NOTE :  this standardization step is optional. \n",
    "\n",
    "Even if it sounds strange, all cyrillic and greek letters in the table above are most often used as equivalent of latin letters in the french datasets."
   ]
  },
  {
   "cell_type": "markdown",
   "metadata": {},
   "source": [
    "Columns :\n",
    "- Code/Char/CharName : cyrillic or greek char often used as a visual equivalent of a latin letter\n",
    "- NormCode/NormChar/NormCharName : more frequent char which should be used to normalize text"
   ]
  },
  {
   "cell_type": "markdown",
   "metadata": {},
   "source": [
    "### 2.11 Replace infrequent latin letters with diacritics"
   ]
  },
  {
   "cell_type": "code",
   "execution_count": null,
   "metadata": {},
   "outputs": [
    {
     "data": {
      "text/plain": [
       "'  \\n \\t , \\' . - : / \" ) ( ? ! » « | … ; [ ] } { • ¿ ¡ 0 1 2 3 5 4 9 8 7 6 a b c d e f g h i j k l m n o p q r s t u v w x y z à â ä ç è é ê ë î ï ô ö ù û ü ÿ A B C D E F G H I J K L M N O P Q R S T U V W X Y Z À Â Ä Ç È É Ê Ë Î Ï Ô Ö Ù Û Ü Ÿ _ & @ \\\\ # á ã å ć č ė ğ ı í ì ń ñ ó ò õ ø š ş ß ú Á Å Š Ú Ž λ π Ã � ￼ % ° § µ Ø ‰ € $ ¤ £ ¥ ¢ = > + < ^ ~ × ≤ ÷ ≥ ± ≠ ∞ √ * ✓ ⇒ ♥ ¦ → ★ ¯ ↓ ❌ ❐ † ↑ ← ↔ © ® ™ 🙂 😉 😀 😂 😁 😊 🙁 😅 😍 😃 😡 🤣 😄 🤔 😎 😭 👹 😱 😜 😋 \\U0001f929 🙄 😆 😛 \\U0001f92a 😢 😇 🤦 💪 👉 👍 👏 🙏 🙌 👇 👊 👎 👌 ✌ ✊ ⚠ 🔴 🔥 🏆 ⚽ 💡 🚨 💥 ⚡ ♫ ♂ ♀ 🎉 ✍ ✉ ✝'"
      ]
     },
     "execution_count": null,
     "metadata": {},
     "output_type": "execute_result"
    }
   ],
   "source": [
    "supportedchars = dfcharsnorm[\"Char\"].values[1:]\n",
    "' '.join(supportedchars)"
   ]
  },
  {
   "cell_type": "code",
   "execution_count": null,
   "metadata": {},
   "outputs": [],
   "source": [
    "latinlettersnodiacritics = {}\n",
    "for rowidx,row in dflatinletters.iterrows():\n",
    "    if row[\"IsDiacritic\"]:\n",
    "        latinlettersnodiacritics[row[\"Char\"]] = row[\"BaseChar\"]"
   ]
  },
  {
   "cell_type": "code",
   "execution_count": null,
   "metadata": {},
   "outputs": [
    {
     "name": "stdout",
     "output_type": "stream",
     "text": [
      "Ì => I\n",
      "Í => I\n",
      "Ñ => N\n",
      "Ò => O\n",
      "Ó => O\n",
      "Õ => O\n",
      "Ý => Y\n",
      "ý => y\n",
      "Ā => A\n",
      "ā => a\n",
      "Ă => A\n",
      "ă => a\n",
      "Ą => A\n",
      "ą => a\n"
     ]
    }
   ],
   "source": [
    "for idx,letter in enumerate(latinlettersnodiacritics):\n",
    "    if not letter in supportedchars:\n",
    "        print(f\"{letter} => {latinlettersnodiacritics[letter]}\")\n",
    "    if idx >= 60 : break"
   ]
  },
  {
   "cell_type": "markdown",
   "metadata": {},
   "source": [
    "### 2.12 Replace infrequent chars from other scripts"
   ]
  },
  {
   "cell_type": "code",
   "execution_count": null,
   "metadata": {},
   "outputs": [],
   "source": [
    " def replaceotherscripts(charset, chariterator):\n",
    "    for char in chariterator:\n",
    "        if char in charset:\n",
    "            yield char\n",
    "        else:\n",
    "            family = blockfamily(charblock(char))\n",
    "            if not family in (\"Symbols\",\"Ignore\"):\n",
    "                resStr = chr(65532) + str(ord(char)) + '_'\n",
    "                for outchar in resStr:\n",
    "                    yield outchar\n",
    "            else:\n",
    "                yield char"
   ]
  },
  {
   "cell_type": "code",
   "execution_count": null,
   "metadata": {},
   "outputs": [
    {
     "data": {
      "text/plain": [
       "'Gu￼257_nhuà (￼23448_￼35805_/￼23448_￼35441_)'"
      ]
     },
     "execution_count": null,
     "metadata": {},
     "output_type": "execute_result"
    }
   ],
   "source": [
    "''.join(replaceotherscripts(supportedchars,\"Guānhuà (官话/官話)\"))"
   ]
  },
  {
   "cell_type": "markdown",
   "metadata": {},
   "source": [
    "All characters from non latin scripts are preserved by encoding them with the following sequence :\n",
    "\n",
    "[object replacement character] + unicode char number + [underscore]\n",
    "\n",
    "This is necessary to preserve the distinct entity names in unsupported scripts, and enables decoding with full fidelity at a later stage of the pipeline."
   ]
  },
  {
   "cell_type": "markdown",
   "metadata": {},
   "source": [
    "### 2.13 Replace infrequent symbols"
   ]
  },
  {
   "cell_type": "code",
   "execution_count": null,
   "metadata": {},
   "outputs": [],
   "source": [
    "def replacesymbols(charset, chariterator):\n",
    "    for index,char in enumerate(chariterator):\n",
    "        if char in charset:\n",
    "            yield char\n",
    "        else:\n",
    "            family = blockfamily(charblock(char))\n",
    "            if family == \"Symbols\":\n",
    "                resStr ='$' + charname(char).replace(' ','') + '_'\n",
    "                for outchar in resStr:\n",
    "                    yield outchar\n",
    "            else:\n",
    "                yield char"
   ]
  },
  {
   "cell_type": "code",
   "execution_count": null,
   "metadata": {},
   "outputs": [
    {
     "data": {
      "text/plain": [
       "'😀$SmilingFaceWithHorns_😎$See-No-EvilMonkey_🙌'"
      ]
     },
     "execution_count": null,
     "metadata": {},
     "output_type": "execute_result"
    }
   ],
   "source": [
    "''.join(replacesymbols(supportedchars,\"😀😈😎🙈🙌\"))"
   ]
  },
  {
   "cell_type": "markdown",
   "metadata": {},
   "source": [
    "All unsupported symbols are preserved by encoding them with the following sequence :\n",
    "\n",
    "[dollar] + unicode char name + [underscore]\n",
    "\n",
    "This enables a NLP pipeline to add english words to its vocabulary if some symbols are used frequently in the context of a sentiment analysis task."
   ]
  },
  {
   "cell_type": "markdown",
   "metadata": {},
   "source": [
    "### 2.14 Ignore remaining chars with no glyph"
   ]
  },
  {
   "cell_type": "code",
   "execution_count": null,
   "metadata": {},
   "outputs": [
    {
     "data": {
      "text/html": [
       "<div>\n",
       "<style scoped>\n",
       "    .dataframe tbody tr th:only-of-type {\n",
       "        vertical-align: middle;\n",
       "    }\n",
       "\n",
       "    .dataframe tbody tr th {\n",
       "        vertical-align: top;\n",
       "    }\n",
       "\n",
       "    .dataframe thead th {\n",
       "        text-align: right;\n",
       "    }\n",
       "</style>\n",
       "<table border=\"1\" class=\"dataframe\">\n",
       "  <thead>\n",
       "    <tr style=\"text-align: right;\">\n",
       "      <th></th>\n",
       "      <th>UnicodeBlock</th>\n",
       "      <th>CharFamily</th>\n",
       "    </tr>\n",
       "  </thead>\n",
       "  <tbody>\n",
       "    <tr>\n",
       "      <th>61</th>\n",
       "      <td>Combining Diacritical Marks</td>\n",
       "      <td>Ignore</td>\n",
       "    </tr>\n",
       "    <tr>\n",
       "      <th>62</th>\n",
       "      <td>Private Use Area</td>\n",
       "      <td>Ignore</td>\n",
       "    </tr>\n",
       "    <tr>\n",
       "      <th>63</th>\n",
       "      <td>Supplementary Private Use Area-A</td>\n",
       "      <td>Ignore</td>\n",
       "    </tr>\n",
       "    <tr>\n",
       "      <th>64</th>\n",
       "      <td>Supplementary Private Use Area-B</td>\n",
       "      <td>Ignore</td>\n",
       "    </tr>\n",
       "    <tr>\n",
       "      <th>65</th>\n",
       "      <td>Specials</td>\n",
       "      <td>Ignore</td>\n",
       "    </tr>\n",
       "    <tr>\n",
       "      <th>66</th>\n",
       "      <td>Tags</td>\n",
       "      <td>Ignore</td>\n",
       "    </tr>\n",
       "  </tbody>\n",
       "</table>\n",
       "</div>"
      ],
      "text/plain": [
       "                        UnicodeBlock CharFamily\n",
       "61       Combining Diacritical Marks     Ignore\n",
       "62                  Private Use Area     Ignore\n",
       "63  Supplementary Private Use Area-A     Ignore\n",
       "64  Supplementary Private Use Area-B     Ignore\n",
       "65                          Specials     Ignore\n",
       "66                              Tags     Ignore"
      ]
     },
     "execution_count": null,
     "metadata": {},
     "output_type": "execute_result"
    }
   ],
   "source": [
    "unicodefamilies[unicodefamilies[\"CharFamily\"]==\"Ignore\"]"
   ]
  },
  {
   "cell_type": "markdown",
   "metadata": {},
   "source": [
    "## 3. Text normalization"
   ]
  },
  {
   "cell_type": "markdown",
   "metadata": {},
   "source": [
    "### 3.1 Normalization functions"
   ]
  },
  {
   "cell_type": "markdown",
   "metadata": {},
   "source": [
    "We need to apply several replacement functions in a row, each replacement function building on the replacements already applied by the previous ones.\n",
    "\n",
    "We can't simply use replace statements on immutable strings to do this : we would need to allocate new strings for each replacement at each level, and this would put a high load on the garbage collector.\n",
    "\n",
    "A better solution is to implement our normalization function as a chain of iterators on chars."
   ]
  },
  {
   "cell_type": "markdown",
   "metadata": {},
   "source": [
    "Examples :"
   ]
  },
  {
   "cell_type": "code",
   "execution_count": null,
   "metadata": {},
   "outputs": [],
   "source": [
    "def ignorechars(chariterator, charset):\n",
    "    for char in chariterator:\n",
    "        if not char in charset:\n",
    "            yield char\n",
    "            \n",
    "def replacechars1to1(chariterator, chardict):\n",
    "    for char in chariterator:\n",
    "        if char in chardict:\n",
    "            yield chardict[char]\n",
    "        else:\n",
    "            yield char\n",
    "            \n",
    "def replacechars1toN(chariterator, chardict):\n",
    "    for char in chariterator:\n",
    "        if char in chardict:\n",
    "            for outchar in chardict[char]:\n",
    "                yield outchar\n",
    "        else:\n",
    "            yield char"
   ]
  },
  {
   "cell_type": "markdown",
   "metadata": {},
   "source": [
    "To match several chars in an iterator, we have to build a hierarchical dictionary structure.\n",
    "\n",
    "For example, if we want to implement the following replacements :\n",
    "```\n",
    "ABC => 1\n",
    "ABD => 2\n",
    "AC  => 3\n",
    "BC  => 4\n",
    "```\n",
    "We build the following dictionary structure :\n",
    "\n",
    "```\n",
    "A : { B : { C : 1\n",
    "            D : 2\n",
    "            \n",
    "      C : 3 }\n",
    "      \n",
    "B : { C : 4 }\n",
    "```"
   ]
  },
  {
   "cell_type": "markdown",
   "metadata": {},
   "source": [
    "The normalization functions are then chained in a chars replacement pipeline."
   ]
  },
  {
   "cell_type": "markdown",
   "metadata": {},
   "source": [
    "### 3.2 Normalization class with change tracking"
   ]
  },
  {
   "cell_type": "code",
   "execution_count": null,
   "metadata": {},
   "outputs": [],
   "source": [
    "#export\n",
    "class NormChange():\n",
    "    \n",
    "    def __init__(self, layer, index, charsInput, charsOutput, removedInfo=None):\n",
    "        self.layer, self.index, self.input, self.output, self.removedInfo = layer, index, charsInput, charsOutput, removedInfo\n",
    "        \n",
    "    def __repr__(self):\n",
    "        return f\"{self.layer} - {self.index} : {self.input} => {self.output}\""
   ]
  },
  {
   "cell_type": "code",
   "execution_count": null,
   "metadata": {},
   "outputs": [
    {
     "data": {
      "text/markdown": [
       "<h4 id=\"NormChange.__init__\" class=\"doc_header\"><code>NormChange.__init__</code><a href=\"__main__.py#L3\" class=\"source_link\" style=\"float:right\">[source]</a></h4>\n",
       "\n",
       "> <code>NormChange.__init__</code>(**`layer`**, **`index`**, **`charsInput`**, **`charsOutput`**, **`removedInfo`**=*`None`*)\n",
       "\n",
       "Initialize self.  See help(type(self)) for accurate signature."
      ],
      "text/plain": [
       "<IPython.core.display.Markdown object>"
      ]
     },
     "metadata": {},
     "output_type": "display_data"
    }
   ],
   "source": [
    "from nbdev.showdoc import *\n",
    "show_doc(NormChange.__init__)"
   ]
  },
  {
   "cell_type": "code",
   "execution_count": null,
   "metadata": {},
   "outputs": [],
   "source": [
    "#export\n",
    "class NormResult():\n",
    "    \n",
    "    def __init__(self, inputText, transformsDescs):\n",
    "        self.input, self.transforms = inputText, transformsDescs\n",
    "        self.layerChanges = None\n",
    "        self.output = \"\"\n",
    "    \n",
    "    def addChange(self, layer, index, charsInput, charsOutput, removedInfo=None):\n",
    "        if self.layerChanges is None:\n",
    "            self.layerChanges = []\n",
    "        if layer > (len(self.layerChanges)-1):\n",
    "            for i in range(0,layer-len(self.layerChanges)+1):\n",
    "                self.layerChanges.append([])\n",
    "        changes = self.layerChanges[layer]\n",
    "        change = NormChange(layer,index,charsInput,charsOutput,removedInfo)\n",
    "        changes.append(change)   \n",
    "        \n",
    "    def describeChanges(self):\n",
    "         if self.layerChanges is None:\n",
    "            return 'No change'\n",
    "         else:\n",
    "            desc = StringIO()\n",
    "            previousString = self.input\n",
    "            for changes in self.layerChanges:\n",
    "                if len(changes) == 0: continue\n",
    "                layer = changes[0].layer\n",
    "                layerDesc = self.transforms[layer]\n",
    "                desc.write(layerDesc+\"\\n\")                \n",
    "                dispInparts = []     \n",
    "                outparts = []\n",
    "                dispOutparts = []\n",
    "                lastIndex = 0\n",
    "                for change in changes:\n",
    "                    if change.index > lastIndex:\n",
    "                        samePart = previousString[lastIndex:change.index]\n",
    "                        dispInparts.append(samePart)\n",
    "                        outparts.append(samePart)\n",
    "                        dispOutparts.append(samePart) \n",
    "                    dispInpart = change.input\n",
    "                    outpart = change.output\n",
    "                    dispOutpart = outpart\n",
    "                    if len(dispInpart)>len(outpart):\n",
    "                        dispOutpart = outpart + (\"_\"*(len(dispInpart)-len(outpart)))\n",
    "                    elif len(outpart)>len(dispInpart):\n",
    "                        dispInpart = dispInpart + (\" \"*(len(outpart)-len(dispInpart)))\n",
    "                    dispInparts.append(' ['+dispInpart+'] ')\n",
    "                    outparts.append(outpart)\n",
    "                    dispOutparts.append(' ['+dispOutpart+'] ')\n",
    "                    lastIndex = change.index + len(change.input)\n",
    "                if lastIndex < len(previousString):\n",
    "                    samePart = previousString[lastIndex:]\n",
    "                    dispInparts.append(samePart)\n",
    "                    outparts.append(samePart)\n",
    "                    dispOutparts.append(samePart)\n",
    "                previousString = \"\".join(outparts)\n",
    "                desc.write(\" < \")\n",
    "                for inpart in dispInparts:\n",
    "                    desc.write(inpart)\n",
    "                desc.write('\\n')\n",
    "                desc.write(\" < \")\n",
    "                for outpart in dispOutparts:\n",
    "                    desc.write(outpart)\n",
    "                desc.write('\\n')\n",
    "            return desc.getvalue()\n",
    "            \n",
    "    def mapOutputIndexToInput(self,outputIndex):\n",
    "        inputIndex = outputIndex\n",
    "        for changes in self.layerChanges:\n",
    "            outputIndex = inputIndex\n",
    "            for change in changes:\n",
    "                if outputIndex < change.index:\n",
    "                    break\n",
    "                elif outputIndex > (change.index + len(change.output)):\n",
    "                    inputIndex = inputIndex + (len(change.input)-len(change.output))\n",
    "                else:\n",
    "                    inputIndex = inputIndex -(outputIndex-change.index)\n",
    "                    break\n",
    "        return inputIndex        \n",
    "            \n",
    "    def setOutput(self, outputText):\n",
    "        self.output = outputText\n",
    "        \n",
    "    def __repr__(self):\n",
    "        return self.output"
   ]
  },
  {
   "cell_type": "code",
   "execution_count": null,
   "metadata": {},
   "outputs": [
    {
     "data": {
      "text/markdown": [
       "<h4 id=\"NormResult.describeChanges\" class=\"doc_header\"><code>NormResult.describeChanges</code><a href=\"__main__.py#L18\" class=\"source_link\" style=\"float:right\">[source]</a></h4>\n",
       "\n",
       "> <code>NormResult.describeChanges</code>()\n",
       "\n"
      ],
      "text/plain": [
       "<IPython.core.display.Markdown object>"
      ]
     },
     "metadata": {},
     "output_type": "display_data"
    }
   ],
   "source": [
    "show_doc(NormResult.describeChanges)"
   ]
  },
  {
   "cell_type": "code",
   "execution_count": null,
   "metadata": {},
   "outputs": [
    {
     "data": {
      "text/markdown": [
       "<h4 id=\"NormResult.mapOutputIndexToInput\" class=\"doc_header\"><code>NormResult.mapOutputIndexToInput</code><a href=\"__main__.py#L66\" class=\"source_link\" style=\"float:right\">[source]</a></h4>\n",
       "\n",
       "> <code>NormResult.mapOutputIndexToInput</code>(**`outputIndex`**)\n",
       "\n"
      ],
      "text/plain": [
       "<IPython.core.display.Markdown object>"
      ]
     },
     "metadata": {},
     "output_type": "display_data"
    }
   ],
   "source": [
    "show_doc(NormResult.mapOutputIndexToInput)"
   ]
  },
  {
   "cell_type": "code",
   "execution_count": null,
   "metadata": {},
   "outputs": [],
   "source": [
    "# export\n",
    "from functools import partial\n",
    "from operator import itemgetter\n",
    "from io import StringIO\n",
    "    \n",
    "class TextNormalizer():\n",
    "    \n",
    "    def __init__(self):\n",
    "        \n",
    "        # 1. Load Unicode character set data for latin script        \n",
    "        # 1.1 Frequent encoding errors : windows1252 read as iso8859-1\n",
    "        dfencodingwin1252 = pd.read_csv(chardatadir / \"windows1252-iso8859-errors.csv\", sep=\";\")\n",
    "        win1252errorchars = {}\n",
    "        for rowidx,row in dfencodingwin1252.iterrows():\n",
    "            win1252errorchars[row[\"Char\"]] = row[\"DecodedChar\"]\n",
    "        # 1.2 Frequent encoding errors : utf8 read as windows1252\n",
    "        dfencodingutf8 = pd.read_csv(chardatadir / \"utf8-windows1252-errors.csv\", sep=\";\")\n",
    "        utf8errorchars = {}\n",
    "        for rowidx,row in dfencodingutf8.iterrows():\n",
    "            utf8errorchars[row[\"ErrorSubstring\"]] = row[\"DecodedChar\"]\n",
    "        utf8errorshdict = self.buildhierarchicaldict(utf8errorchars)\n",
    "        # 1.3 Frequent encoding errors : windows1252 read as utf8\n",
    "        dfencodingwin1252utf8 = pd.read_csv(chardatadir / \"windows1252-utf8-errors.csv\", sep=\";\")\n",
    "        win1252utf8errorchars = {}\n",
    "        for rowidx,row in dfencodingwin1252utf8.iterrows():\n",
    "            win1252utf8errorchars[row[\"Char\"]] = row[\"DecodedChars\"]\n",
    "        # 1.4 Unicode combining chars\n",
    "        dfcombiningchars = pd.read_csv(chardatadir / \"combiningdiacritics.csv\", sep=\";\")\n",
    "        combiningchars = {}\n",
    "        for rowidx,row in dfcombiningchars.iterrows():\n",
    "            combiningchars[row[\"BaseChar\"]+row[\"Char\"]] = row[\"CombinedChar\"]\n",
    "        combiningcharshdict = self.buildhierarchicaldict(combiningchars)\n",
    "        # 1.5 Control chars\n",
    "        dfcontrolchars = pd.read_csv(chardatadir / \"controlchars.csv\", sep=\";\")\n",
    "        dfcontrolchars.loc[0,\"Char\"] = chr(0) # chr(0) can't be saved in CSV file\n",
    "        controlchars = set(dfcontrolchars[\"Char\"])\n",
    "        # 1.6 Latin letter symbols\n",
    "        dflatinsymbols = pd.read_csv(chardatadir / \"latinsymbols.csv\", sep=\";\")\n",
    "        latinlettersnolayout = {}\n",
    "        latinlettersremovedlayout = {}\n",
    "        for rowidx,row in dflatinsymbols.iterrows():\n",
    "            latinlettersnolayout[row[\"Char\"]] = row[\"NormString\"]\n",
    "            latinlettersremovedlayout[row[\"Char\"]] = row[\"Layout\"]\n",
    "        # 1.7 Latin letters\n",
    "        dflatinletters = pd.read_csv(chardatadir / \"latinletters.csv\", sep=\";\")\n",
    "        latinletterstoupper = {}\n",
    "        for rowidx,row in dflatinletters.iterrows():\n",
    "            if row[\"Char\"] != row[\"UpperChar\"]:\n",
    "                latinletterstoupper[row[\"Char\"]] = row[\"UpperChar\"]\n",
    "        latinlettersnodiacritics = {}\n",
    "        latinlettersremoveddiacritics = {}\n",
    "        for rowidx,row in dflatinletters.iterrows():\n",
    "            if row[\"IsDiacritic\"]:\n",
    "                latinlettersnodiacritics[row[\"Char\"]] = row[\"BaseChar\"]\n",
    "                latinlettersremoveddiacritics[row[\"Char\"]] = row[\"Diacritics\"]\n",
    "        latinlettersnoligatures = {}\n",
    "        for rowidx,row in dflatinletters.iterrows():\n",
    "            if row[\"IsLigature\"]:\n",
    "                latinlettersnoligatures[row[\"Char\"]] = row[\"MultiChars\"]\n",
    "        # 1.8 Latin numbers and number symbols\n",
    "        dflatinnumbers = pd.read_csv(chardatadir / \"latinnumbers.csv\", sep=\";\")\n",
    "        latinnumbersnolayout = {}\n",
    "        latinnumbersremovedlayout = {}\n",
    "        for rowidx,row in dflatinnumbers.iterrows():\n",
    "            if rowidx < 10:\n",
    "                continue\n",
    "            latinnumbersnolayout[row[\"Char\"]] = row[\"NormString\"]\n",
    "            latinnumbersremovedlayout[row[\"Char\"]] = row[\"Layout\"]\n",
    "        # 1.9 Variations on frequent chars to normalize\n",
    "        dfnormchars = pd.read_csv(chardatadir / \"normalizedchars.csv\", sep=\";\")\n",
    "        normalizedchars = {}\n",
    "        for rowidx,row in dfnormchars.iterrows():\n",
    "            normalizedchars[row[\"Char\"]] = row[\"NormChar\"]\n",
    "        # 1.10 Optional replacement of cyrillic and greek chars looking like latin letters\n",
    "        dfcgnormchars = pd.read_csv(chardatadir / \"cyrillic-greek-chars.csv\", sep=\";\")\n",
    "        cgnormalizedchars = {}\n",
    "        for rowidx,row in dfcgnormchars.iterrows():\n",
    "            cgnormalizedchars[row[\"Char\"]] = row[\"NormChar\"]\n",
    "        # 1.11 Final supported french charset\n",
    "        dfsupportedchars = pd.read_csv(chardatadir / \"charset-fr.csv\", sep=\";\", quotechar='\"')\n",
    "        dfsupportedchars.loc[0,\"Char\"] = chr(0) # chr(0) can't be saved in CSV file\n",
    "        supportedchars = set(dfsupportedchars[\"Char\"])\n",
    "    \n",
    "        # 2.1 List successive transformations    \n",
    "        self.transformsDescs = []\n",
    "        transforms = []\n",
    "        self.transformsDescs.append(\"Fix encoding errors : windows1252 read as iso8859-1\")\n",
    "        transforms.append(partial(self.replacechars1to1, 0, win1252errorchars))\n",
    "        self.transformsDescs.append(\"Fix encoding errors : utf8 read as windows1252\")\n",
    "        transforms.append(partial(self.replacecharsNto1, 1, utf8errorshdict))\n",
    "        self.transformsDescs.append(\"Fix encoding errors :  windows1252 read as utf8\")\n",
    "        transforms.append(partial(self.replacechars1toN, 2, win1252utf8errorchars))\n",
    "        self.transformsDescs.append(\"Merge Unicode combining chars\")\n",
    "        transforms.append(partial(self.replacecharsNto1, 3, combiningcharshdict))\n",
    "        self.transformsDescs.append(\"Ignore control chars\")\n",
    "        transforms.append(partial(self.ignorechars, 4, controlchars))\n",
    "        self.transformsDescs.append(\"Replace latin letter symbols\")\n",
    "        transforms.append(partial(self.replacechars1toN, 5, latinlettersnolayout))\n",
    "        self.transformsDescs.append(\"Replace latin letter ligatures\")\n",
    "        transforms.append(partial(self.replacechars1toN, 6, latinlettersnoligatures))\n",
    "        self.transformsDescs.append(\"Replace latin number symbols\")\n",
    "        transforms.append(partial(self.replacechars1toN, 7, latinnumbersnolayout))\n",
    "        self.transformsDescs.append(\"Normalize equivalent chars\") \n",
    "        transforms.append(partial(self.replacechars1to1, 8, normalizedchars))   \n",
    "        self.transformsDescs.append(\"Replace cyrillic and greek chars looking like latin letters\") \n",
    "        transforms.append(partial(self.replacechars1to1,9, cgnormalizedchars))  \n",
    "        self.transformsDescs.append(\"Replace infrequent chars : latin letters with diacritics\") \n",
    "        transforms.append(partial(self.replacecharsnotinset, 10, supportedchars, latinlettersnodiacritics))  \n",
    "        self.transformsDescs.append(\"Replace infrequent chars : other scripts\") \n",
    "        transforms.append(partial(self.replaceotherscripts, 11, supportedchars))\n",
    "        self.transformsDescs.append(\"Replace infrequent chars : symbols\") \n",
    "        transforms.append(partial(self.replacesymbols, 12, supportedchars)) \n",
    "        self.transformsDescs.append(\"Replace infrequent chars : chars to ignore\") \n",
    "        transforms.append(partial(self.ignoreotherchars, 13, supportedchars))        \n",
    "        \n",
    "        # 2.2 Combine all transformations\n",
    "        def func(x,y):\n",
    "            ci = transforms[0](x,y)\n",
    "            for transform in transforms[1:]:\n",
    "                ci = transform(ci,y)\n",
    "            return ci\n",
    "        self.transformsFunc = func\n",
    "\n",
    "    def __repr__(self):\n",
    "        desc = StringIO()\n",
    "        for idx,transformDesc in enumerate(self.transformsDescs):\n",
    "            desc.write(f'{idx+1} - {transformDesc}\\n')\n",
    "        return desc.getvalue()\n",
    "        \n",
    "    def __call__(self, inputText):\n",
    "        result = NormResult(inputText, self.transformsDescs)\n",
    "        result.setOutput(self.tostring(self.transformsFunc(inputText,result)))\n",
    "        return result\n",
    "        \n",
    "    @staticmethod\n",
    "    def buildhierarchicaldict(idict):\n",
    "        hdict = {}\n",
    "        odicts = []\n",
    "        for key in idict:\n",
    "            if len(key) > 1:\n",
    "                firstchar = key[0]\n",
    "                remainingstring = key[1:]\n",
    "                if not firstchar in hdict:\n",
    "                    newdict = {}\n",
    "                    hdict[firstchar] = newdict\n",
    "                    odicts.append((firstchar,newdict))\n",
    "                hdict[firstchar][remainingstring] = idict[key]\n",
    "        for pkey,odict in odicts: \n",
    "            dictwithlongkey = False\n",
    "            for key in odict:\n",
    "                if len(key)>1:\n",
    "                    dictwithlongkey = True\n",
    "                    break\n",
    "            if dictwithlongkey:\n",
    "                hdict[pkey] = TextNormalizer.buildhierarchicaldict(odict)\n",
    "        return hdict\n",
    "\n",
    "    @staticmethod\n",
    "    def ignorechars(layer, charset, chariterator, result):\n",
    "        for index,char in enumerate(chariterator):\n",
    "            if not char in charset:\n",
    "                yield char\n",
    "            else:\n",
    "                result.addChange(layer, index, char, '')\n",
    "\n",
    "    @staticmethod  \n",
    "    def replacechars1to1(layer, chardict, chariterator, result):\n",
    "        for index,char in enumerate(chariterator):\n",
    "            if char in chardict:\n",
    "                resChar = chardict[char]\n",
    "                result.addChange(layer, index, char, resChar)\n",
    "                yield resChar\n",
    "            else:\n",
    "                yield char\n",
    "\n",
    "    @staticmethod  \n",
    "    def replacechars1toN(layer, chardict, chariterator, result):\n",
    "        for index,char in enumerate(chariterator):\n",
    "            if char in chardict:\n",
    "                resStr = chardict[char]\n",
    "                result.addChange(layer, index, char, resStr)\n",
    "                for outchar in resStr:\n",
    "                    yield outchar\n",
    "            else:\n",
    "                yield char\n",
    "\n",
    "    @staticmethod\n",
    "    def replacecharsNto1(layer, hierarchicaldict, chariterator, result):\n",
    "        candidatechars = []\n",
    "        candidatedicts = []\n",
    "        for index,char in enumerate(chariterator):\n",
    "            # Try to match previously started patterns\n",
    "            if len(candidatechars)>0:    \n",
    "                for idx,candidatedict in enumerate(candidatedicts):\n",
    "                    if not candidatedict is None:\n",
    "                        if char in candidatedict:\n",
    "                            value = candidatedict[char]\n",
    "                            if isinstance(value,dict):\n",
    "                                candidatedicts[idx] = value\n",
    "                            else:   \n",
    "                                # Success : found a char to return\n",
    "                                for ridx in range(0,idx):\n",
    "                                    yield candidatechars[ridx]\n",
    "                                replacedStr = \"\".join(candidatechars[idx:]) + char\n",
    "                                result.addChange(layer, index-len(replacedStr)+1, replacedStr, value)\n",
    "                                candidatechars = []\n",
    "                                candidatedicts = []\n",
    "                                char = None\n",
    "                                yield value\n",
    "                                break\n",
    "                        else:   \n",
    "                            candidatedicts[idx] = None\n",
    "                # Clean oldest failed attemps and return accumulated chars           \n",
    "                while len(candidatedicts)>0 and candidatedicts[0] is None:\n",
    "                    candidatedicts.pop(0)                  \n",
    "                    yield candidatechars.pop(0)\n",
    "            # Handle the current char  \n",
    "            if not char is None:\n",
    "                if len(candidatechars)==0:\n",
    "                    if char in hierarchicaldict:\n",
    "                        value = hierarchicaldict[char]\n",
    "                        if isinstance(value,dict):\n",
    "                            candidatechars.append(char)\n",
    "                            candidatedicts.append(value)\n",
    "                        else:\n",
    "                            result.addChange(layer, index, char, value)\n",
    "                            yield value\n",
    "                    else:\n",
    "                        yield char\n",
    "                else:\n",
    "                    candidatechars.append(char)\n",
    "                    if char in hierarchicaldict:\n",
    "                        value = hierarchicaldict[char]\n",
    "                        candidatedicts.append(value)\n",
    "                    else:\n",
    "                        candidatedicts.append(None)     \n",
    "        if len(candidatechars)>0:\n",
    "            for char in candidatechars:\n",
    "                yield char\n",
    "    \n",
    "    @staticmethod\n",
    "    def replacecharsnotinset(layer, charset, replacedict, chariterator, result):\n",
    "        for index,char in enumerate(chariterator):\n",
    "            if char in charset:\n",
    "                yield char\n",
    "            else:\n",
    "                if char in replacedict:\n",
    "                    resChar = replacedict[char]\n",
    "                    result.addChange(layer, index, char, resChar)\n",
    "                    yield resChar\n",
    "                else:\n",
    "                    yield char            \n",
    "    \n",
    "    @staticmethod\n",
    "    def replaceotherscripts(layer, charset, chariterator, result):\n",
    "        for index,char in enumerate(chariterator):\n",
    "            if char in charset:\n",
    "                yield char\n",
    "            else:\n",
    "                family = blockfamily(charblock(char))\n",
    "                if not family in (\"Symbols\",\"Ignore\"):\n",
    "                    resStr = chr(65532) + str(ord(char)) + '_'\n",
    "                    result.addChange(layer, index, char, resStr)\n",
    "                    for outchar in resStr:\n",
    "                        yield outchar\n",
    "                else:\n",
    "                    yield char           \n",
    "    \n",
    "    @staticmethod\n",
    "    def replacesymbols(layer, charset, chariterator, result):\n",
    "        for index,char in enumerate(chariterator):\n",
    "            if char in charset:\n",
    "                yield char\n",
    "            else:\n",
    "                family = blockfamily(charblock(char))\n",
    "                if family == \"Symbols\":\n",
    "                    resStr ='$' + charname(char).replace(' ','') + '_'\n",
    "                    result.addChange(layer, index, char, resStr)\n",
    "                    for outchar in resStr:\n",
    "                        yield outchar\n",
    "                else:\n",
    "                    yield char          \n",
    "    \n",
    "    @staticmethod\n",
    "    def ignoreotherchars(layer, charset, chariterator, result):\n",
    "        for index,char in enumerate(chariterator):\n",
    "            if char in charset:\n",
    "                yield char\n",
    "            else:\n",
    "                family = blockfamily(charblock(char))\n",
    "                if family == \"Ignore\":\n",
    "                    result.addChange(layer, index, char, '')\n",
    "                else:\n",
    "                    yield char            \n",
    "    \n",
    "    @staticmethod\n",
    "    def tostring(iterator):\n",
    "        return \"\".join(iterator)"
   ]
  },
  {
   "cell_type": "code",
   "execution_count": null,
   "metadata": {},
   "outputs": [
    {
     "data": {
      "text/markdown": [
       "<h4 id=\"TextNormalizer.__call__\" class=\"doc_header\"><code>TextNormalizer.__call__</code><a href=\"__main__.py#L130\" class=\"source_link\" style=\"float:right\">[source]</a></h4>\n",
       "\n",
       "> <code>TextNormalizer.__call__</code>(**`inputText`**)\n",
       "\n",
       "Call self as a function."
      ],
      "text/plain": [
       "<IPython.core.display.Markdown object>"
      ]
     },
     "metadata": {},
     "output_type": "display_data"
    }
   ],
   "source": [
    "show_doc(TextNormalizer.__call__)"
   ]
  },
  {
   "cell_type": "code",
   "execution_count": null,
   "metadata": {},
   "outputs": [
    {
     "name": "stdout",
     "output_type": "stream",
     "text": [
      "CPU times: user 2 s, sys: 0 ns, total: 2 s\n",
      "Wall time: 2.14 s\n"
     ]
    },
    {
     "data": {
      "text/plain": [
       "1 - Fix encoding errors : windows1252 read as iso8859-1\n",
       "2 - Fix encoding errors : utf8 read as windows1252\n",
       "3 - Fix encoding errors :  windows1252 read as utf8\n",
       "4 - Merge Unicode combining chars\n",
       "5 - Ignore control chars\n",
       "6 - Replace latin letter symbols\n",
       "7 - Replace latin letter ligatures\n",
       "8 - Replace latin number symbols\n",
       "9 - Normalize equivalent chars\n",
       "10 - Replace cyrillic and greek chars looking like latin letters\n",
       "11 - Replace infrequent chars : latin letters with diacritics\n",
       "12 - Replace infrequent chars : other scripts\n",
       "13 - Replace infrequent chars : symbols\n",
       "14 - Replace infrequent chars : chars to ignore"
      ]
     },
     "execution_count": null,
     "metadata": {},
     "output_type": "execute_result"
    }
   ],
   "source": [
    "%time norm = TextNormalizer()\n",
    "norm"
   ]
  },
  {
   "cell_type": "code",
   "execution_count": null,
   "metadata": {},
   "outputs": [
    {
     "data": {
      "text/plain": [
       "'🏻① l`\\x9cuv\\x7fre est¨ \\x93belle\\x94¸ Ã  Â½ â‚¬ énième â€° \\x85 ⁽🇪ﬃc🇦ce⁾ ！'"
      ]
     },
     "execution_count": null,
     "metadata": {},
     "output_type": "execute_result"
    }
   ],
   "source": [
    "teststring = chr(127995)+\"① l`\"+chr(156)+\"uv\"+chr(127)+\"re est¨ \"+chr(147)+\"belle\"+chr(148)+\"¸ Ã  Â½ â‚¬ énième â€° \"+chr(133)+\" ⁽🇪ﬃc🇦ce⁾ ！\"\n",
    "teststring"
   ]
  },
  {
   "cell_type": "code",
   "execution_count": null,
   "metadata": {},
   "outputs": [
    {
     "data": {
      "text/plain": [
       "(1) l'oeuvre est «belle», Ã  1/2 € énième ‰ … (EfficAce) !"
      ]
     },
     "execution_count": null,
     "metadata": {},
     "output_type": "execute_result"
    }
   ],
   "source": [
    "result = norm(teststring)\n",
    "result"
   ]
  },
  {
   "cell_type": "code",
   "execution_count": null,
   "metadata": {},
   "outputs": [
    {
     "name": "stdout",
     "output_type": "stream",
     "text": [
      "Fix encoding errors : windows1252 read as iso8859-1\n",
      " < 🏻① l` [] uvre est¨  [] belle [] ¸ Ã  Â½ â‚¬ énième â€°  [",
      "]  ⁽🇪ﬃc🇦ce⁾ ！\n",
      " < 🏻① l` [œ] uvre est¨  [“] belle [”] ¸ Ã  Â½ â‚¬ énième â€°  […]  ⁽🇪ﬃc🇦ce⁾ ！\n",
      "Fix encoding errors : utf8 read as windows1252\n",
      " < 🏻① l`œuvre est¨ “belle”¸ Ã   [Â½]   [â‚¬]  énième  [â€°]  … ⁽🇪ﬃc🇦ce⁾ ！\n",
      " < 🏻① l`œuvre est¨ “belle”¸ Ã   [½_]   [€__]  énième  [‰__]  … ⁽🇪ﬃc🇦ce⁾ ！\n",
      "Merge Unicode combining chars\n",
      " < 🏻① l`œuvre est¨ “belle”¸ Ã  ½ €  [é] ni [è] me ‰ … ⁽🇪ﬃc🇦ce⁾ ！\n",
      " < 🏻① l`œuvre est¨ “belle”¸ Ã  ½ €  [é_] ni [è_] me ‰ … ⁽🇪ﬃc🇦ce⁾ ！\n",
      "Ignore control chars\n",
      " <  [🏻] ① l`œuv [] re est [¨]  “belle”¸ Ã  ½ € énième ‰ … ⁽🇪ﬃc🇦ce⁾ ！\n",
      " <  [_] ① l`œuv [_] re est [_]  “belle”¸ Ã  ½ € énième ‰ … ⁽🇪ﬃc🇦ce⁾ ！\n",
      "Replace latin letter symbols\n",
      " < ① l`œuvre est “belle”¸ Ã  ½ € énième ‰ … ⁽ [🇪] ﬃc [🇦] ce⁾ ！\n",
      " < ① l`œuvre est “belle”¸ Ã  ½ € énième ‰ … ⁽ [E] ﬃc [A] ce⁾ ！\n",
      "Replace latin letter ligatures\n",
      " < ① l` [œ ] uvre est “belle”¸ Ã  ½ € énième ‰ … ⁽E [ﬃ  ] cAce⁾ ！\n",
      " < ① l` [oe] uvre est “belle”¸ Ã  ½ € énième ‰ … ⁽E [ffi] cAce⁾ ！\n",
      "Replace latin number symbols\n",
      " <  [①  ]  l`oeuvre est “belle”¸ Ã   [½  ]  € énième ‰ … ⁽EfficAce⁾ ！\n",
      " <  [(1)]  l`oeuvre est “belle”¸ Ã   [1/2]  € énième ‰ … ⁽EfficAce⁾ ！\n",
      "Normalize equivalent chars\n",
      " < (1) l [`] oeuvre est  [“] belle [”]  [¸]  Ã  1/2 € énième ‰ …  [⁽] EfficAce [⁾]   [！] \n",
      " < (1) l ['] oeuvre est  [«] belle [»]  [,]  Ã  1/2 € énième ‰ …  [(] EfficAce [)]   [!] \n",
      "\n"
     ]
    }
   ],
   "source": [
    "print(result.describeChanges())"
   ]
  },
  {
   "cell_type": "code",
   "execution_count": null,
   "metadata": {},
   "outputs": [
    {
     "data": {
      "text/plain": [
       "\"(1) l'oeuvre\""
      ]
     },
     "execution_count": null,
     "metadata": {},
     "output_type": "execute_result"
    }
   ],
   "source": [
    "result.output[0:12]"
   ]
  },
  {
   "cell_type": "code",
   "execution_count": null,
   "metadata": {},
   "outputs": [
    {
     "data": {
      "text/plain": [
       "'🏻① l`\\x9cuv\\x7fre'"
      ]
     },
     "execution_count": null,
     "metadata": {},
     "output_type": "execute_result"
    }
   ],
   "source": [
    "result.input[result.mapOutputIndexToInput(0):result.mapOutputIndexToInput(12)]"
   ]
  },
  {
   "cell_type": "code",
   "execution_count": null,
   "metadata": {},
   "outputs": [
    {
     "data": {
      "text/plain": [
       "\" l'oeuv\""
      ]
     },
     "execution_count": null,
     "metadata": {},
     "output_type": "execute_result"
    }
   ],
   "source": [
    "result.output[3:10]"
   ]
  },
  {
   "cell_type": "code",
   "execution_count": null,
   "metadata": {},
   "outputs": [
    {
     "data": {
      "text/plain": [
       "' l`\\x9cuv\\x7f'"
      ]
     },
     "execution_count": null,
     "metadata": {},
     "output_type": "execute_result"
    }
   ],
   "source": [
    "result.input[result.mapOutputIndexToInput(3):result.mapOutputIndexToInput(10)]"
   ]
  },
  {
   "cell_type": "code",
   "execution_count": null,
   "metadata": {},
   "outputs": [
    {
     "name": "stdout",
     "output_type": "stream",
     "text": [
      "344 µs ± 89.5 µs per loop (mean ± std. dev. of 7 runs, 100 loops each)\n"
     ]
    }
   ],
   "source": [
    "%timeit -n100 norm(teststring)"
   ]
  },
  {
   "cell_type": "markdown",
   "metadata": {},
   "source": [
    "### 3.3 Normalization pipeline stats"
   ]
  },
  {
   "cell_type": "markdown",
   "metadata": {},
   "source": [
    "The statistics below count the number of chars normalized **for 1 million chars** in 4 distinct parts of the french datasets : business websites, forums, news, wikipedia.\n",
    "\n",
    "The first line of the table below shows that :\n",
    "- in 1 million chars extracted from forum pages (raw users input), 41.8 chars will be encoding errors (windows1252 read as iso8859-1)\n",
    "- in 1 million chars extracted from business websites (curated content), only 0.5 chars will be encoding errors"
   ]
  },
  {
   "cell_type": "code",
   "execution_count": null,
   "metadata": {},
   "outputs": [
    {
     "data": {
      "text/html": [
       "<div>\n",
       "<style scoped>\n",
       "    .dataframe tbody tr th:only-of-type {\n",
       "        vertical-align: middle;\n",
       "    }\n",
       "\n",
       "    .dataframe tbody tr th {\n",
       "        vertical-align: top;\n",
       "    }\n",
       "\n",
       "    .dataframe thead th {\n",
       "        text-align: right;\n",
       "    }\n",
       "</style>\n",
       "<table border=\"1\" class=\"dataframe\">\n",
       "  <thead>\n",
       "    <tr style=\"text-align: right;\">\n",
       "      <th></th>\n",
       "      <th>Transform</th>\n",
       "      <th>FreqBusiness</th>\n",
       "      <th>FreqForum</th>\n",
       "      <th>FreqPresse</th>\n",
       "      <th>FreqWikipedia</th>\n",
       "    </tr>\n",
       "  </thead>\n",
       "  <tbody>\n",
       "    <tr>\n",
       "      <th>0</th>\n",
       "      <td>Fix encoding errors : windows1252 read as iso8...</td>\n",
       "      <td>0.510560</td>\n",
       "      <td>41.818746</td>\n",
       "      <td>0.813485</td>\n",
       "      <td>0.006025</td>\n",
       "    </tr>\n",
       "    <tr>\n",
       "      <th>1</th>\n",
       "      <td>Fix encoding errors : utf8 read as windows1252</td>\n",
       "      <td>0.126815</td>\n",
       "      <td>0.058024</td>\n",
       "      <td>0.072456</td>\n",
       "      <td>0.001037</td>\n",
       "    </tr>\n",
       "    <tr>\n",
       "      <th>2</th>\n",
       "      <td>Fix encoding errors :  windows1252 read as utf8</td>\n",
       "      <td>0.000000</td>\n",
       "      <td>0.000000</td>\n",
       "      <td>0.019315</td>\n",
       "      <td>0.000000</td>\n",
       "    </tr>\n",
       "    <tr>\n",
       "      <th>3</th>\n",
       "      <td>Merge Unicode combining chars</td>\n",
       "      <td>2.811983</td>\n",
       "      <td>0.432638</td>\n",
       "      <td>0.568146</td>\n",
       "      <td>0.000140</td>\n",
       "    </tr>\n",
       "    <tr>\n",
       "      <th>4</th>\n",
       "      <td>Ignore control chars</td>\n",
       "      <td>6.450737</td>\n",
       "      <td>349.052995</td>\n",
       "      <td>6.454367</td>\n",
       "      <td>4.118586</td>\n",
       "    </tr>\n",
       "    <tr>\n",
       "      <th>5</th>\n",
       "      <td>Replace latin letter symbols</td>\n",
       "      <td>0.019360</td>\n",
       "      <td>0.039701</td>\n",
       "      <td>0.297372</td>\n",
       "      <td>0.150550</td>\n",
       "    </tr>\n",
       "    <tr>\n",
       "      <th>6</th>\n",
       "      <td>Replace latin letter ligatures</td>\n",
       "      <td>6.603815</td>\n",
       "      <td>6.541480</td>\n",
       "      <td>10.097290</td>\n",
       "      <td>17.204422</td>\n",
       "    </tr>\n",
       "    <tr>\n",
       "      <th>7</th>\n",
       "      <td>Replace latin number symbols</td>\n",
       "      <td>2.528338</td>\n",
       "      <td>4.162482</td>\n",
       "      <td>2.560933</td>\n",
       "      <td>0.429792</td>\n",
       "    </tr>\n",
       "    <tr>\n",
       "      <th>8</th>\n",
       "      <td>Normalize equivalent chars</td>\n",
       "      <td>814.327384</td>\n",
       "      <td>1248.410777</td>\n",
       "      <td>684.333730</td>\n",
       "      <td>242.391239</td>\n",
       "    </tr>\n",
       "    <tr>\n",
       "      <th>9</th>\n",
       "      <td>Replace cyrillic and greek chars looking like ...</td>\n",
       "      <td>0.062432</td>\n",
       "      <td>0.760424</td>\n",
       "      <td>0.491996</td>\n",
       "      <td>7.479907</td>\n",
       "    </tr>\n",
       "    <tr>\n",
       "      <th>10</th>\n",
       "      <td>Replace infrequent chars : latin letters with ...</td>\n",
       "      <td>0.063782</td>\n",
       "      <td>0.078384</td>\n",
       "      <td>0.099106</td>\n",
       "      <td>9.124948</td>\n",
       "    </tr>\n",
       "    <tr>\n",
       "      <th>11</th>\n",
       "      <td>Replace infrequent chars : other scripts</td>\n",
       "      <td>0.085694</td>\n",
       "      <td>0.468776</td>\n",
       "      <td>1.192548</td>\n",
       "      <td>16.612142</td>\n",
       "    </tr>\n",
       "    <tr>\n",
       "      <th>12</th>\n",
       "      <td>Replace infrequent chars : symbols</td>\n",
       "      <td>0.139271</td>\n",
       "      <td>0.159821</td>\n",
       "      <td>0.399064</td>\n",
       "      <td>0.073566</td>\n",
       "    </tr>\n",
       "    <tr>\n",
       "      <th>13</th>\n",
       "      <td>Replace infrequent chars : chars to ignore</td>\n",
       "      <td>0.018910</td>\n",
       "      <td>0.044282</td>\n",
       "      <td>0.021320</td>\n",
       "      <td>0.016423</td>\n",
       "    </tr>\n",
       "  </tbody>\n",
       "</table>\n",
       "</div>"
      ],
      "text/plain": [
       "                                            Transform  FreqBusiness  \\\n",
       "0   Fix encoding errors : windows1252 read as iso8...      0.510560   \n",
       "1      Fix encoding errors : utf8 read as windows1252      0.126815   \n",
       "2     Fix encoding errors :  windows1252 read as utf8      0.000000   \n",
       "3                       Merge Unicode combining chars      2.811983   \n",
       "4                                Ignore control chars      6.450737   \n",
       "5                        Replace latin letter symbols      0.019360   \n",
       "6                      Replace latin letter ligatures      6.603815   \n",
       "7                        Replace latin number symbols      2.528338   \n",
       "8                          Normalize equivalent chars    814.327384   \n",
       "9   Replace cyrillic and greek chars looking like ...      0.062432   \n",
       "10  Replace infrequent chars : latin letters with ...      0.063782   \n",
       "11           Replace infrequent chars : other scripts      0.085694   \n",
       "12                 Replace infrequent chars : symbols      0.139271   \n",
       "13         Replace infrequent chars : chars to ignore      0.018910   \n",
       "\n",
       "      FreqForum  FreqPresse  FreqWikipedia  \n",
       "0     41.818746    0.813485       0.006025  \n",
       "1      0.058024    0.072456       0.001037  \n",
       "2      0.000000    0.019315       0.000000  \n",
       "3      0.432638    0.568146       0.000140  \n",
       "4    349.052995    6.454367       4.118586  \n",
       "5      0.039701    0.297372       0.150550  \n",
       "6      6.541480   10.097290      17.204422  \n",
       "7      4.162482    2.560933       0.429792  \n",
       "8   1248.410777  684.333730     242.391239  \n",
       "9      0.760424    0.491996       7.479907  \n",
       "10     0.078384    0.099106       9.124948  \n",
       "11     0.468776    1.192548      16.612142  \n",
       "12     0.159821    0.399064       0.073566  \n",
       "13     0.044282    0.021320       0.016423  "
      ]
     },
     "execution_count": null,
     "metadata": {},
     "output_type": "execute_result"
    }
   ],
   "source": [
    "normstats = pd.read_csv(chardatadir / \"stats\" / \"normalization.total.stats.csv\")\n",
    "normstats[[\"Transform\",\"FreqBusiness\",\"FreqForum\",\"FreqPresse\",\"FreqWikipedia\"]]"
   ]
  },
  {
   "cell_type": "markdown",
   "metadata": {},
   "source": [
    "Most frequent chars replaced from equivalent characters :"
   ]
  },
  {
   "cell_type": "code",
   "execution_count": null,
   "metadata": {},
   "outputs": [
    {
     "data": {
      "text/html": [
       "<div>\n",
       "<style scoped>\n",
       "    .dataframe tbody tr th:only-of-type {\n",
       "        vertical-align: middle;\n",
       "    }\n",
       "\n",
       "    .dataframe tbody tr th {\n",
       "        vertical-align: top;\n",
       "    }\n",
       "\n",
       "    .dataframe thead th {\n",
       "        text-align: right;\n",
       "    }\n",
       "</style>\n",
       "<table border=\"1\" class=\"dataframe\">\n",
       "  <thead>\n",
       "    <tr style=\"text-align: right;\">\n",
       "      <th></th>\n",
       "      <th>Char</th>\n",
       "      <th>CharName</th>\n",
       "      <th>FreqBusiness</th>\n",
       "      <th>FreqForum</th>\n",
       "      <th>FreqPresse</th>\n",
       "      <th>FreqWikipedia</th>\n",
       "    </tr>\n",
       "  </thead>\n",
       "  <tbody>\n",
       "    <tr>\n",
       "      <th>0</th>\n",
       "      <td>'</td>\n",
       "      <td>Apostrophe</td>\n",
       "      <td>486.034805</td>\n",
       "      <td>160.264219</td>\n",
       "      <td>376.104982</td>\n",
       "      <td>134.658673</td>\n",
       "    </tr>\n",
       "    <tr>\n",
       "      <th>1</th>\n",
       "      <td></td>\n",
       "      <td>Space</td>\n",
       "      <td>310.411117</td>\n",
       "      <td>1082.845985</td>\n",
       "      <td>288.635983</td>\n",
       "      <td>87.877649</td>\n",
       "    </tr>\n",
       "    <tr>\n",
       "      <th>2</th>\n",
       "      <td>-</td>\n",
       "      <td>Hyphen-Minus</td>\n",
       "      <td>14.431203</td>\n",
       "      <td>2.903761</td>\n",
       "      <td>12.828203</td>\n",
       "      <td>16.223154</td>\n",
       "    </tr>\n",
       "    <tr>\n",
       "      <th>3</th>\n",
       "      <td>«</td>\n",
       "      <td>Left-Pointing Double Angle Quotation Mark</td>\n",
       "      <td>1.429478</td>\n",
       "      <td>0.680513</td>\n",
       "      <td>3.002426</td>\n",
       "      <td>0.559632</td>\n",
       "    </tr>\n",
       "    <tr>\n",
       "      <th>4</th>\n",
       "      <td>»</td>\n",
       "      <td>Right-Pointing Double Angle Quotation Mark</td>\n",
       "      <td>1.323524</td>\n",
       "      <td>0.533926</td>\n",
       "      <td>2.461880</td>\n",
       "      <td>0.544134</td>\n",
       "    </tr>\n",
       "    <tr>\n",
       "      <th>5</th>\n",
       "      <td>|</td>\n",
       "      <td>Vertical Line</td>\n",
       "      <td>0.003452</td>\n",
       "      <td>0.001018</td>\n",
       "      <td>0.005488</td>\n",
       "      <td>0.875894</td>\n",
       "    </tr>\n",
       "    <tr>\n",
       "      <th>6</th>\n",
       "      <td>•</td>\n",
       "      <td>Bullet</td>\n",
       "      <td>0.204104</td>\n",
       "      <td>0.243295</td>\n",
       "      <td>0.189664</td>\n",
       "      <td>0.543237</td>\n",
       "    </tr>\n",
       "    <tr>\n",
       "      <th>7</th>\n",
       "      <td>.</td>\n",
       "      <td>Full Stop</td>\n",
       "      <td>0.059280</td>\n",
       "      <td>0.078893</td>\n",
       "      <td>0.856230</td>\n",
       "      <td>0.069278</td>\n",
       "    </tr>\n",
       "    <tr>\n",
       "      <th>8</th>\n",
       "      <td>\"</td>\n",
       "      <td>Quotation Mark</td>\n",
       "      <td>0.085093</td>\n",
       "      <td>0.023413</td>\n",
       "      <td>0.011504</td>\n",
       "      <td>0.292385</td>\n",
       "    </tr>\n",
       "    <tr>\n",
       "      <th>9</th>\n",
       "      <td>:</td>\n",
       "      <td>Colon</td>\n",
       "      <td>0.000150</td>\n",
       "      <td>0.000509</td>\n",
       "      <td>0.000053</td>\n",
       "      <td>0.169047</td>\n",
       "    </tr>\n",
       "    <tr>\n",
       "      <th>10</th>\n",
       "      <td>°</td>\n",
       "      <td>Degree Sign</td>\n",
       "      <td>0.148726</td>\n",
       "      <td>0.181199</td>\n",
       "      <td>0.014618</td>\n",
       "      <td>0.078302</td>\n",
       "    </tr>\n",
       "    <tr>\n",
       "      <th>11</th>\n",
       "      <td>é</td>\n",
       "      <td>Latin Small Letter E With Acute</td>\n",
       "      <td>0.001651</td>\n",
       "      <td>0.006108</td>\n",
       "      <td>0.003166</td>\n",
       "      <td>0.101114</td>\n",
       "    </tr>\n",
       "    <tr>\n",
       "      <th>12</th>\n",
       "      <td>←</td>\n",
       "      <td>Leftwards Arrow</td>\n",
       "      <td>0.000000</td>\n",
       "      <td>0.000000</td>\n",
       "      <td>0.000158</td>\n",
       "      <td>0.047194</td>\n",
       "    </tr>\n",
       "    <tr>\n",
       "      <th>13</th>\n",
       "      <td>=</td>\n",
       "      <td>Equals Sign</td>\n",
       "      <td>0.004802</td>\n",
       "      <td>0.029012</td>\n",
       "      <td>0.000686</td>\n",
       "      <td>0.041589</td>\n",
       "    </tr>\n",
       "    <tr>\n",
       "      <th>14</th>\n",
       "      <td>→</td>\n",
       "      <td>Rightwards Arrow</td>\n",
       "      <td>0.026113</td>\n",
       "      <td>0.002545</td>\n",
       "      <td>0.034302</td>\n",
       "      <td>0.015862</td>\n",
       "    </tr>\n",
       "    <tr>\n",
       "      <th>15</th>\n",
       "      <td>d</td>\n",
       "      <td>Latin Small Letter D</td>\n",
       "      <td>0.000000</td>\n",
       "      <td>0.024940</td>\n",
       "      <td>0.000000</td>\n",
       "      <td>0.036405</td>\n",
       "    </tr>\n",
       "    <tr>\n",
       "      <th>16</th>\n",
       "      <td>&lt;</td>\n",
       "      <td>Less-Than Sign</td>\n",
       "      <td>0.004202</td>\n",
       "      <td>0.142007</td>\n",
       "      <td>0.001267</td>\n",
       "      <td>0.024073</td>\n",
       "    </tr>\n",
       "    <tr>\n",
       "      <th>17</th>\n",
       "      <td>,</td>\n",
       "      <td>Comma</td>\n",
       "      <td>0.006453</td>\n",
       "      <td>0.101288</td>\n",
       "      <td>0.004538</td>\n",
       "      <td>0.022756</td>\n",
       "    </tr>\n",
       "    <tr>\n",
       "      <th>18</th>\n",
       "      <td>↓</td>\n",
       "      <td>Downwards Arrow</td>\n",
       "      <td>0.007504</td>\n",
       "      <td>0.001527</td>\n",
       "      <td>0.011188</td>\n",
       "      <td>0.021888</td>\n",
       "    </tr>\n",
       "    <tr>\n",
       "      <th>19</th>\n",
       "      <td>★</td>\n",
       "      <td>Black Star</td>\n",
       "      <td>0.001351</td>\n",
       "      <td>0.013743</td>\n",
       "      <td>0.022006</td>\n",
       "      <td>0.011686</td>\n",
       "    </tr>\n",
       "  </tbody>\n",
       "</table>\n",
       "</div>"
      ],
      "text/plain": [
       "   Char                                    CharName  FreqBusiness  \\\n",
       "0     '                                  Apostrophe    486.034805   \n",
       "1                                             Space    310.411117   \n",
       "2     -                                Hyphen-Minus     14.431203   \n",
       "3     «   Left-Pointing Double Angle Quotation Mark      1.429478   \n",
       "4     »  Right-Pointing Double Angle Quotation Mark      1.323524   \n",
       "5     |                               Vertical Line      0.003452   \n",
       "6     •                                      Bullet      0.204104   \n",
       "7     .                                   Full Stop      0.059280   \n",
       "8     \"                              Quotation Mark      0.085093   \n",
       "9     :                                       Colon      0.000150   \n",
       "10    °                                 Degree Sign      0.148726   \n",
       "11    é             Latin Small Letter E With Acute      0.001651   \n",
       "12    ←                             Leftwards Arrow      0.000000   \n",
       "13    =                                 Equals Sign      0.004802   \n",
       "14    →                            Rightwards Arrow      0.026113   \n",
       "15    d                        Latin Small Letter D      0.000000   \n",
       "16    <                              Less-Than Sign      0.004202   \n",
       "17    ,                                       Comma      0.006453   \n",
       "18    ↓                             Downwards Arrow      0.007504   \n",
       "19    ★                                  Black Star      0.001351   \n",
       "\n",
       "      FreqForum  FreqPresse  FreqWikipedia  \n",
       "0    160.264219  376.104982     134.658673  \n",
       "1   1082.845985  288.635983      87.877649  \n",
       "2      2.903761   12.828203      16.223154  \n",
       "3      0.680513    3.002426       0.559632  \n",
       "4      0.533926    2.461880       0.544134  \n",
       "5      0.001018    0.005488       0.875894  \n",
       "6      0.243295    0.189664       0.543237  \n",
       "7      0.078893    0.856230       0.069278  \n",
       "8      0.023413    0.011504       0.292385  \n",
       "9      0.000509    0.000053       0.169047  \n",
       "10     0.181199    0.014618       0.078302  \n",
       "11     0.006108    0.003166       0.101114  \n",
       "12     0.000000    0.000158       0.047194  \n",
       "13     0.029012    0.000686       0.041589  \n",
       "14     0.002545    0.034302       0.015862  \n",
       "15     0.024940    0.000000       0.036405  \n",
       "16     0.142007    0.001267       0.024073  \n",
       "17     0.101288    0.004538       0.022756  \n",
       "18     0.001527    0.011188       0.021888  \n",
       "19     0.013743    0.022006       0.011686  "
      ]
     },
     "execution_count": null,
     "metadata": {},
     "output_type": "execute_result"
    }
   ],
   "source": [
    "replacestats = pd.read_csv(chardatadir / \"stats\" / \"normalization.layer8.stats.csv\")\n",
    "replacestats[[\"Char\",\"CharName\",\"FreqBusiness\",\"FreqForum\",\"FreqPresse\",\"FreqWikipedia\"]].head(20)"
   ]
  },
  {
   "cell_type": "markdown",
   "metadata": {},
   "source": [
    "Frequency of characters from other scripts :"
   ]
  },
  {
   "cell_type": "code",
   "execution_count": null,
   "metadata": {},
   "outputs": [
    {
     "data": {
      "text/html": [
       "<div>\n",
       "<style scoped>\n",
       "    .dataframe tbody tr th:only-of-type {\n",
       "        vertical-align: middle;\n",
       "    }\n",
       "\n",
       "    .dataframe tbody tr th {\n",
       "        vertical-align: top;\n",
       "    }\n",
       "\n",
       "    .dataframe thead th {\n",
       "        text-align: right;\n",
       "    }\n",
       "</style>\n",
       "<table border=\"1\" class=\"dataframe\">\n",
       "  <thead>\n",
       "    <tr style=\"text-align: right;\">\n",
       "      <th></th>\n",
       "      <th>CharFamily</th>\n",
       "      <th>FreqBusiness</th>\n",
       "      <th>FreqForum</th>\n",
       "      <th>FreqPresse</th>\n",
       "      <th>FreqWikipedia</th>\n",
       "    </tr>\n",
       "  </thead>\n",
       "  <tbody>\n",
       "    <tr>\n",
       "      <th>0</th>\n",
       "      <td>ChineseJapaneseKorean</td>\n",
       "      <td>0.012456</td>\n",
       "      <td>0.177127</td>\n",
       "      <td>0.194677</td>\n",
       "      <td>4.059173</td>\n",
       "    </tr>\n",
       "    <tr>\n",
       "      <th>1</th>\n",
       "      <td>Arabic</td>\n",
       "      <td>0.012306</td>\n",
       "      <td>0.026467</td>\n",
       "      <td>0.460280</td>\n",
       "      <td>3.140120</td>\n",
       "    </tr>\n",
       "    <tr>\n",
       "      <th>2</th>\n",
       "      <td>Cyrillic</td>\n",
       "      <td>0.024462</td>\n",
       "      <td>0.166438</td>\n",
       "      <td>0.237159</td>\n",
       "      <td>3.118961</td>\n",
       "    </tr>\n",
       "    <tr>\n",
       "      <th>3</th>\n",
       "      <td>Greek</td>\n",
       "      <td>0.016058</td>\n",
       "      <td>0.022904</td>\n",
       "      <td>0.031347</td>\n",
       "      <td>2.423996</td>\n",
       "    </tr>\n",
       "    <tr>\n",
       "      <th>4</th>\n",
       "      <td>Hebrew</td>\n",
       "      <td>0.000150</td>\n",
       "      <td>0.000000</td>\n",
       "      <td>0.184914</td>\n",
       "      <td>1.132155</td>\n",
       "    </tr>\n",
       "    <tr>\n",
       "      <th>5</th>\n",
       "      <td>Other</td>\n",
       "      <td>0.000750</td>\n",
       "      <td>0.029012</td>\n",
       "      <td>0.004063</td>\n",
       "      <td>0.800871</td>\n",
       "    </tr>\n",
       "    <tr>\n",
       "      <th>6</th>\n",
       "      <td>Indian</td>\n",
       "      <td>0.000750</td>\n",
       "      <td>0.037665</td>\n",
       "      <td>0.033458</td>\n",
       "      <td>0.737955</td>\n",
       "    </tr>\n",
       "    <tr>\n",
       "      <th>7</th>\n",
       "      <td>Phonetic</td>\n",
       "      <td>0.002401</td>\n",
       "      <td>0.001527</td>\n",
       "      <td>0.001636</td>\n",
       "      <td>0.298579</td>\n",
       "    </tr>\n",
       "    <tr>\n",
       "      <th>8</th>\n",
       "      <td>Latin</td>\n",
       "      <td>0.013507</td>\n",
       "      <td>0.006108</td>\n",
       "      <td>0.007283</td>\n",
       "      <td>0.269377</td>\n",
       "    </tr>\n",
       "    <tr>\n",
       "      <th>9</th>\n",
       "      <td>Math</td>\n",
       "      <td>0.001801</td>\n",
       "      <td>0.000509</td>\n",
       "      <td>0.000528</td>\n",
       "      <td>0.240707</td>\n",
       "    </tr>\n",
       "    <tr>\n",
       "      <th>10</th>\n",
       "      <td>LaoThai</td>\n",
       "      <td>0.000000</td>\n",
       "      <td>0.001018</td>\n",
       "      <td>0.033194</td>\n",
       "      <td>0.217867</td>\n",
       "    </tr>\n",
       "    <tr>\n",
       "      <th>11</th>\n",
       "      <td>Armenian</td>\n",
       "      <td>0.001051</td>\n",
       "      <td>0.000000</td>\n",
       "      <td>0.004011</td>\n",
       "      <td>0.172382</td>\n",
       "    </tr>\n",
       "  </tbody>\n",
       "</table>\n",
       "</div>"
      ],
      "text/plain": [
       "               CharFamily  FreqBusiness  FreqForum  FreqPresse  FreqWikipedia\n",
       "0   ChineseJapaneseKorean      0.012456   0.177127    0.194677       4.059173\n",
       "1                  Arabic      0.012306   0.026467    0.460280       3.140120\n",
       "2                Cyrillic      0.024462   0.166438    0.237159       3.118961\n",
       "3                   Greek      0.016058   0.022904    0.031347       2.423996\n",
       "4                  Hebrew      0.000150   0.000000    0.184914       1.132155\n",
       "5                   Other      0.000750   0.029012    0.004063       0.800871\n",
       "6                  Indian      0.000750   0.037665    0.033458       0.737955\n",
       "7                Phonetic      0.002401   0.001527    0.001636       0.298579\n",
       "8                   Latin      0.013507   0.006108    0.007283       0.269377\n",
       "9                    Math      0.001801   0.000509    0.000528       0.240707\n",
       "10                LaoThai      0.000000   0.001018    0.033194       0.217867\n",
       "11               Armenian      0.001051   0.000000    0.004011       0.172382"
      ]
     },
     "execution_count": null,
     "metadata": {},
     "output_type": "execute_result"
    }
   ],
   "source": [
    "scriptsstats = pd.read_csv(chardatadir / \"stats\" / \"normalization.layer11.stats.csv\")\n",
    "scriptsstats[[\"CharFamily\",\"FreqBusiness\",\"FreqForum\",\"FreqPresse\",\"FreqWikipedia\"]]"
   ]
  },
  {
   "cell_type": "markdown",
   "metadata": {},
   "source": [
    "Detailed stats for the 14 layers of the normalization pipeline :"
   ]
  },
  {
   "cell_type": "code",
   "execution_count": null,
   "metadata": {},
   "outputs": [
    {
     "data": {
      "text/html": [
       "<div>\n",
       "<style scoped>\n",
       "    .dataframe tbody tr th:only-of-type {\n",
       "        vertical-align: middle;\n",
       "    }\n",
       "\n",
       "    .dataframe tbody tr th {\n",
       "        vertical-align: top;\n",
       "    }\n",
       "\n",
       "    .dataframe thead th {\n",
       "        text-align: right;\n",
       "    }\n",
       "</style>\n",
       "<table border=\"1\" class=\"dataframe\">\n",
       "  <thead>\n",
       "    <tr style=\"text-align: right;\">\n",
       "      <th></th>\n",
       "      <th>Layer</th>\n",
       "      <th>Input</th>\n",
       "      <th>CharName</th>\n",
       "      <th>Output</th>\n",
       "      <th>CountBusiness</th>\n",
       "      <th>CountForum</th>\n",
       "      <th>CountPresse</th>\n",
       "      <th>CountWikipedia</th>\n",
       "    </tr>\n",
       "  </thead>\n",
       "  <tbody>\n",
       "    <tr>\n",
       "      <th>639</th>\n",
       "      <td>8</td>\n",
       "      <td>’</td>\n",
       "      <td>Right Single Quotation Mark</td>\n",
       "      <td>'</td>\n",
       "      <td>3232470</td>\n",
       "      <td>311603</td>\n",
       "      <td>6944753</td>\n",
       "      <td>4755813</td>\n",
       "    </tr>\n",
       "    <tr>\n",
       "      <th>640</th>\n",
       "      <td>8</td>\n",
       "      <td></td>\n",
       "      <td>No-Break Space</td>\n",
       "      <td></td>\n",
       "      <td>2057917</td>\n",
       "      <td>2127216</td>\n",
       "      <td>4892006</td>\n",
       "      <td>3122348</td>\n",
       "    </tr>\n",
       "    <tr>\n",
       "      <th>641</th>\n",
       "      <td>8</td>\n",
       "      <td></td>\n",
       "      <td>Thin Space</td>\n",
       "      <td></td>\n",
       "      <td>8088</td>\n",
       "      <td>116</td>\n",
       "      <td>549846</td>\n",
       "      <td>5363</td>\n",
       "    </tr>\n",
       "    <tr>\n",
       "      <th>642</th>\n",
       "      <td>8</td>\n",
       "      <td>–</td>\n",
       "      <td>En Dash</td>\n",
       "      <td>-</td>\n",
       "      <td>80049</td>\n",
       "      <td>4540</td>\n",
       "      <td>172657</td>\n",
       "      <td>189791</td>\n",
       "    </tr>\n",
       "    <tr>\n",
       "      <th>643</th>\n",
       "      <td>8</td>\n",
       "      <td>—</td>\n",
       "      <td>Em Dash</td>\n",
       "      <td>-</td>\n",
       "      <td>13928</td>\n",
       "      <td>329</td>\n",
       "      <td>63048</td>\n",
       "      <td>157402</td>\n",
       "    </tr>\n",
       "    <tr>\n",
       "      <th>644</th>\n",
       "      <td>8</td>\n",
       "      <td>·</td>\n",
       "      <td>Middle Dot</td>\n",
       "      <td>-</td>\n",
       "      <td>958</td>\n",
       "      <td>565</td>\n",
       "      <td>4021</td>\n",
       "      <td>202542</td>\n",
       "    </tr>\n",
       "    <tr>\n",
       "      <th>645</th>\n",
       "      <td>8</td>\n",
       "      <td>`</td>\n",
       "      <td>Grave Accent</td>\n",
       "      <td>'</td>\n",
       "      <td>1202</td>\n",
       "      <td>999</td>\n",
       "      <td>161302</td>\n",
       "      <td>5167</td>\n",
       "    </tr>\n",
       "    <tr>\n",
       "      <th>646</th>\n",
       "      <td>8</td>\n",
       "      <td>“</td>\n",
       "      <td>Left Double Quotation Mark</td>\n",
       "      <td>«</td>\n",
       "      <td>9518</td>\n",
       "      <td>1329</td>\n",
       "      <td>56880</td>\n",
       "      <td>19728</td>\n",
       "    </tr>\n",
       "    <tr>\n",
       "      <th>647</th>\n",
       "      <td>8</td>\n",
       "      <td>”</td>\n",
       "      <td>Right Double Quotation Mark</td>\n",
       "      <td>»</td>\n",
       "      <td>8808</td>\n",
       "      <td>1040</td>\n",
       "      <td>46632</td>\n",
       "      <td>19173</td>\n",
       "    </tr>\n",
       "    <tr>\n",
       "      <th>648</th>\n",
       "      <td>8</td>\n",
       "      <td>‘</td>\n",
       "      <td>Left Single Quotation Mark</td>\n",
       "      <td>'</td>\n",
       "      <td>3557</td>\n",
       "      <td>952</td>\n",
       "      <td>12041</td>\n",
       "      <td>12981</td>\n",
       "    </tr>\n",
       "    <tr>\n",
       "      <th>649</th>\n",
       "      <td>8</td>\n",
       "      <td>│</td>\n",
       "      <td>Box Drawings Light Vertical</td>\n",
       "      <td>|</td>\n",
       "      <td>0</td>\n",
       "      <td>0</td>\n",
       "      <td>0</td>\n",
       "      <td>25990</td>\n",
       "    </tr>\n",
       "    <tr>\n",
       "      <th>650</th>\n",
       "      <td>8</td>\n",
       "      <td></td>\n",
       "      <td>Hair Space</td>\n",
       "      <td></td>\n",
       "      <td>69</td>\n",
       "      <td>1</td>\n",
       "      <td>19774</td>\n",
       "      <td>246</td>\n",
       "    </tr>\n",
       "    <tr>\n",
       "      <th>651</th>\n",
       "      <td>8</td>\n",
       "      <td>►</td>\n",
       "      <td>Black Right-Pointing Pointer</td>\n",
       "      <td>•</td>\n",
       "      <td>570</td>\n",
       "      <td>356</td>\n",
       "      <td>913</td>\n",
       "      <td>17134</td>\n",
       "    </tr>\n",
       "    <tr>\n",
       "      <th>652</th>\n",
       "      <td>8</td>\n",
       "      <td>−</td>\n",
       "      <td>Minus Sign</td>\n",
       "      <td>-</td>\n",
       "      <td>336</td>\n",
       "      <td>21</td>\n",
       "      <td>1705</td>\n",
       "      <td>15828</td>\n",
       "    </tr>\n",
       "    <tr>\n",
       "      <th>653</th>\n",
       "      <td>8</td>\n",
       "      <td>´</td>\n",
       "      <td>Acute Accent</td>\n",
       "      <td>'</td>\n",
       "      <td>986</td>\n",
       "      <td>1308</td>\n",
       "      <td>8649</td>\n",
       "      <td>6423</td>\n",
       "    </tr>\n",
       "  </tbody>\n",
       "</table>\n",
       "</div>"
      ],
      "text/plain": [
       "     Layer Input                      CharName Output  CountBusiness  \\\n",
       "639      8     ’   Right Single Quotation Mark      '        3232470   \n",
       "640      8                      No-Break Space               2057917   \n",
       "641      8                          Thin Space                  8088   \n",
       "642      8     –                       En Dash      -          80049   \n",
       "643      8     —                       Em Dash      -          13928   \n",
       "644      8     ·                    Middle Dot      -            958   \n",
       "645      8     `                  Grave Accent      '           1202   \n",
       "646      8     “    Left Double Quotation Mark      «           9518   \n",
       "647      8     ”   Right Double Quotation Mark      »           8808   \n",
       "648      8     ‘    Left Single Quotation Mark      '           3557   \n",
       "649      8     │   Box Drawings Light Vertical      |              0   \n",
       "650      8                          Hair Space                    69   \n",
       "651      8     ►  Black Right-Pointing Pointer      •            570   \n",
       "652      8     −                    Minus Sign      -            336   \n",
       "653      8     ´                  Acute Accent      '            986   \n",
       "\n",
       "     CountForum  CountPresse  CountWikipedia  \n",
       "639      311603      6944753         4755813  \n",
       "640     2127216      4892006         3122348  \n",
       "641         116       549846            5363  \n",
       "642        4540       172657          189791  \n",
       "643         329        63048          157402  \n",
       "644         565         4021          202542  \n",
       "645         999       161302            5167  \n",
       "646        1329        56880           19728  \n",
       "647        1040        46632           19173  \n",
       "648         952        12041           12981  \n",
       "649           0            0           25990  \n",
       "650           1        19774             246  \n",
       "651         356          913           17134  \n",
       "652          21         1705           15828  \n",
       "653        1308         8649            6423  "
      ]
     },
     "execution_count": null,
     "metadata": {},
     "output_type": "execute_result"
    }
   ],
   "source": [
    "layersstats = pd.read_csv(chardatadir / \"stats\" / \"normalization.stats.csv\")\n",
    "layer=8\n",
    "layersstats[layersstats[\"Layer\"]==layer][[\"Layer\",\"Input\",\"CharName\",\"Output\",\"CountBusiness\",\"CountForum\",\"CountPresse\",\"CountWikipedia\"]].head(15)"
   ]
  },
  {
   "cell_type": "code",
   "execution_count": null,
   "metadata": {},
   "outputs": [
    {
     "name": "stdout",
     "output_type": "stream",
     "text": [
      "Converted 00_core.ipynb.\n",
      "Converted 01_datasets.ipynb.\n",
      "Converted 02_chars.ipynb.\n",
      "Converted index.ipynb.\n"
     ]
    }
   ],
   "source": [
    "#hide\n",
    "from nbdev.export import notebook2script\n",
    "notebook2script()"
   ]
  },
  {
   "cell_type": "code",
   "execution_count": null,
   "metadata": {},
   "outputs": [],
   "source": []
  }
 ],
 "metadata": {
  "kernelspec": {
   "display_name": "Python 3",
   "language": "python",
   "name": "python3"
  }
 },
 "nbformat": 4,
 "nbformat_minor": 2
}
