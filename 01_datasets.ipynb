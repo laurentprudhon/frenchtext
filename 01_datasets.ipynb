{
 "cells": [
  {
   "cell_type": "code",
   "execution_count": null,
   "metadata": {},
   "outputs": [],
   "source": [
    "# default_exp datasets"
   ]
  },
  {
   "cell_type": "markdown",
   "metadata": {},
   "source": [
    "# datasets\n",
    "\n",
    "> Set of functions used to access the french text datasets."
   ]
  },
  {
   "cell_type": "markdown",
   "metadata": {},
   "source": [
    "External dependencies :\n",
    "> pip install numpy\n",
    "\n",
    "> pip install pandas\n",
    "\n",
    "> pip install pyarrow\n",
    "\n",
    "> pip install matplotlib"
   ]
  },
  {
   "cell_type": "markdown",
   "metadata": {},
   "source": [
    "Configure tabular data display :"
   ]
  },
  {
   "cell_type": "code",
   "execution_count": null,
   "metadata": {},
   "outputs": [],
   "source": [
    "# export\n",
    "import numpy as np\n",
    "import pandas as pd\n",
    "pd.options.display.max_rows = 100\n",
    "pd.options.display.max_columns = 50"
   ]
  },
  {
   "cell_type": "markdown",
   "metadata": {},
   "source": [
    "# French datasets for Natural Language Processing"
   ]
  },
  {
   "cell_type": "code",
   "execution_count": null,
   "metadata": {},
   "outputs": [],
   "source": [
    "# export\n",
    "from frenchtext.core import *"
   ]
  },
  {
   "cell_type": "markdown",
   "metadata": {},
   "source": [
    "The config object from frenchtext.core defines the directory where the datasets will be stored if you choose to download them :"
   ]
  },
  {
   "cell_type": "code",
   "execution_count": null,
   "metadata": {},
   "outputs": [
    {
     "data": {
      "text/plain": [
       "PosixPath('/home/laurent/.frenchtext/datasets')"
      ]
     },
     "execution_count": null,
     "metadata": {},
     "output_type": "execute_result"
    }
   ],
   "source": [
    "config.datasets"
   ]
  },
  {
   "cell_type": "markdown",
   "metadata": {},
   "source": [
    "You can change the default location if needed :\n",
    "> config[\"datasets_path\"] = \"/var/tmp\""
   ]
  },
  {
   "cell_type": "markdown",
   "metadata": {},
   "source": [
    "## 1.1 List datasets"
   ]
  },
  {
   "cell_type": "code",
   "execution_count": null,
   "metadata": {},
   "outputs": [],
   "source": [
    "# export\n",
    "def list_datasets():\n",
    "    return pd.read_csv(config.libdata /\"datasets\"/\"datasets.csv\",sep=';')\n",
    "    \n",
    "datasetsdf = list_datasets()"
   ]
  },
  {
   "cell_type": "code",
   "execution_count": null,
   "metadata": {},
   "outputs": [
    {
     "data": {
      "text/html": [
       "<div>\n",
       "<style scoped>\n",
       "    .dataframe tbody tr th:only-of-type {\n",
       "        vertical-align: middle;\n",
       "    }\n",
       "\n",
       "    .dataframe tbody tr th {\n",
       "        vertical-align: top;\n",
       "    }\n",
       "\n",
       "    .dataframe thead th {\n",
       "        text-align: right;\n",
       "    }\n",
       "</style>\n",
       "<table border=\"1\" class=\"dataframe\">\n",
       "  <thead>\n",
       "    <tr style=\"text-align: right;\">\n",
       "      <th></th>\n",
       "      <th>Dataset</th>\n",
       "      <th>DatasetFile</th>\n",
       "      <th>Website</th>\n",
       "      <th>Url</th>\n",
       "      <th>Scope</th>\n",
       "      <th>UrlsFile</th>\n",
       "      <th>Pages</th>\n",
       "      <th>Words</th>\n",
       "    </tr>\n",
       "  </thead>\n",
       "  <tbody>\n",
       "    <tr>\n",
       "      <th>0</th>\n",
       "      <td>Assurance</td>\n",
       "      <td>assurance</td>\n",
       "      <td>4</td>\n",
       "      <td>https://www.afer.fr/</td>\n",
       "      <td>domain</td>\n",
       "      <td>afer</td>\n",
       "      <td>148</td>\n",
       "      <td>66498</td>\n",
       "    </tr>\n",
       "    <tr>\n",
       "      <th>1</th>\n",
       "      <td>Assurance</td>\n",
       "      <td>assurance</td>\n",
       "      <td>5</td>\n",
       "      <td>https://www.ag2rlamondiale.fr/</td>\n",
       "      <td>domain</td>\n",
       "      <td>ag2rlamondiale</td>\n",
       "      <td>2683</td>\n",
       "      <td>1030393</td>\n",
       "    </tr>\n",
       "    <tr>\n",
       "      <th>2</th>\n",
       "      <td>Assurance</td>\n",
       "      <td>assurance</td>\n",
       "      <td>6</td>\n",
       "      <td>https://www.agpm.fr/</td>\n",
       "      <td>domain</td>\n",
       "      <td>agpm</td>\n",
       "      <td>267</td>\n",
       "      <td>82637</td>\n",
       "    </tr>\n",
       "    <tr>\n",
       "      <th>3</th>\n",
       "      <td>Assurance</td>\n",
       "      <td>assurance</td>\n",
       "      <td>7</td>\n",
       "      <td>https://www.amaguiz.com/</td>\n",
       "      <td>domain</td>\n",
       "      <td>amaguiz</td>\n",
       "      <td>706</td>\n",
       "      <td>314384</td>\n",
       "    </tr>\n",
       "    <tr>\n",
       "      <th>4</th>\n",
       "      <td>Assurance</td>\n",
       "      <td>assurance</td>\n",
       "      <td>10</td>\n",
       "      <td>https://www.aviva.fr/</td>\n",
       "      <td>domain</td>\n",
       "      <td>aviva</td>\n",
       "      <td>2501</td>\n",
       "      <td>792475</td>\n",
       "    </tr>\n",
       "    <tr>\n",
       "      <th>...</th>\n",
       "      <td>...</td>\n",
       "      <td>...</td>\n",
       "      <td>...</td>\n",
       "      <td>...</td>\n",
       "      <td>...</td>\n",
       "      <td>...</td>\n",
       "      <td>...</td>\n",
       "      <td>...</td>\n",
       "    </tr>\n",
       "    <tr>\n",
       "      <th>149</th>\n",
       "      <td>Wikipedia</td>\n",
       "      <td>wikipedia-4</td>\n",
       "      <td>101</td>\n",
       "      <td>https://dumps.wikimedia.org/frwiki/latest/300000</td>\n",
       "      <td>path</td>\n",
       "      <td>dumps-wikimedia-3</td>\n",
       "      <td>91984</td>\n",
       "      <td>106415763</td>\n",
       "    </tr>\n",
       "    <tr>\n",
       "      <th>150</th>\n",
       "      <td>Wikipedia</td>\n",
       "      <td>wikipedia-4</td>\n",
       "      <td>102</td>\n",
       "      <td>https://dumps.wikimedia.org/frwiki/latest/400000</td>\n",
       "      <td>path</td>\n",
       "      <td>dumps-wikimedia-4</td>\n",
       "      <td>64029</td>\n",
       "      <td>73602244</td>\n",
       "    </tr>\n",
       "    <tr>\n",
       "      <th>151</th>\n",
       "      <td>Wikipedia</td>\n",
       "      <td>wikipedia-5</td>\n",
       "      <td>102</td>\n",
       "      <td>https://dumps.wikimedia.org/frwiki/latest/400000</td>\n",
       "      <td>path</td>\n",
       "      <td>dumps-wikimedia-4</td>\n",
       "      <td>35821</td>\n",
       "      <td>42823357</td>\n",
       "    </tr>\n",
       "    <tr>\n",
       "      <th>152</th>\n",
       "      <td>Wikipedia</td>\n",
       "      <td>wikipedia-5</td>\n",
       "      <td>103</td>\n",
       "      <td>https://dumps.wikimedia.org/frwiki/latest/500000</td>\n",
       "      <td>path</td>\n",
       "      <td>dumps-wikimedia-5</td>\n",
       "      <td>99853</td>\n",
       "      <td>115271107</td>\n",
       "    </tr>\n",
       "    <tr>\n",
       "      <th>153</th>\n",
       "      <td>Wikipedia</td>\n",
       "      <td>wikipedia-5</td>\n",
       "      <td>104</td>\n",
       "      <td>https://dumps.wikimedia.org/frwiki/latest/515431</td>\n",
       "      <td>path</td>\n",
       "      <td>dumps-wikimedia-6</td>\n",
       "      <td>15415</td>\n",
       "      <td>20366639</td>\n",
       "    </tr>\n",
       "  </tbody>\n",
       "</table>\n",
       "<p>154 rows × 8 columns</p>\n",
       "</div>"
      ],
      "text/plain": [
       "       Dataset  DatasetFile  Website  \\\n",
       "0    Assurance    assurance        4   \n",
       "1    Assurance    assurance        5   \n",
       "2    Assurance    assurance        6   \n",
       "3    Assurance    assurance        7   \n",
       "4    Assurance    assurance       10   \n",
       "..         ...          ...      ...   \n",
       "149  Wikipedia  wikipedia-4      101   \n",
       "150  Wikipedia  wikipedia-4      102   \n",
       "151  Wikipedia  wikipedia-5      102   \n",
       "152  Wikipedia  wikipedia-5      103   \n",
       "153  Wikipedia  wikipedia-5      104   \n",
       "\n",
       "                                                  Url   Scope  \\\n",
       "0                                https://www.afer.fr/  domain   \n",
       "1                      https://www.ag2rlamondiale.fr/  domain   \n",
       "2                                https://www.agpm.fr/  domain   \n",
       "3                            https://www.amaguiz.com/  domain   \n",
       "4                               https://www.aviva.fr/  domain   \n",
       "..                                                ...     ...   \n",
       "149  https://dumps.wikimedia.org/frwiki/latest/300000    path   \n",
       "150  https://dumps.wikimedia.org/frwiki/latest/400000    path   \n",
       "151  https://dumps.wikimedia.org/frwiki/latest/400000    path   \n",
       "152  https://dumps.wikimedia.org/frwiki/latest/500000    path   \n",
       "153  https://dumps.wikimedia.org/frwiki/latest/515431    path   \n",
       "\n",
       "              UrlsFile  Pages      Words  \n",
       "0                 afer    148      66498  \n",
       "1       ag2rlamondiale   2683    1030393  \n",
       "2                 agpm    267      82637  \n",
       "3              amaguiz    706     314384  \n",
       "4                aviva   2501     792475  \n",
       "..                 ...    ...        ...  \n",
       "149  dumps-wikimedia-3  91984  106415763  \n",
       "150  dumps-wikimedia-4  64029   73602244  \n",
       "151  dumps-wikimedia-4  35821   42823357  \n",
       "152  dumps-wikimedia-5  99853  115271107  \n",
       "153  dumps-wikimedia-6  15415   20366639  \n",
       "\n",
       "[154 rows x 8 columns]"
      ]
     },
     "execution_count": null,
     "metadata": {},
     "output_type": "execute_result"
    }
   ],
   "source": [
    "datasetsdf"
   ]
  },
  {
   "cell_type": "markdown",
   "metadata": {},
   "source": [
    "1) The text content of the main french websites in the domain of finance and business (+ wikipedia) were extracted in september 2019 using [nlptextdoc](https://github.com/laurentprudhon/nlptextdoc).\n",
    "\n",
    "This extraction was done as \"politely\" as possible:\n",
    "- extract only freely and publicly available content\n",
    "- respect the robots.txt directives of each website (pages forbidden for indexing, maximum extraction rate)\n",
    "- detect when websites use tools to prevent indexing (like Datadome) and abort the crawl\n",
    "\n",
    "**IMPORTANT: The original authors of the websites own the copyright on all text blocks in this dataset.**\n",
    "\n",
    "To be able to link each text block to its original author, we track the origin URL of each text block throughout the whole process.\n",
    "\n",
    "**YOU CAN'T REUSE THE TEXT BLOCKS FOR ANY PURPOSE EXCEPT TRAINING A NATURAL LANGUAGE PROCESSING MODEL.**\n",
    "\n",
    "See the new European copyright rules : [European Parliament approves new copyright rules for the internet](https://www.europarl.europa.eu/news/en/headlines/priorities/copyright/20190321IPR32110/european-parliament-approves-new-copyright-rules-for-the-internet)\n",
    "\n",
    "\"*The directive aims to make it easier for copyrighted material to be used freely through text and data mining, thereby removing a significant competitive disadvantage that European researchers currently face.*\""
   ]
  },
  {
   "cell_type": "code",
   "execution_count": null,
   "metadata": {},
   "outputs": [
    {
     "name": "stdout",
     "output_type": "stream",
     "text": [
      "=> 131 websites and 2564755 HTML pages\n"
     ]
    }
   ],
   "source": [
    "print(f\"=> {len(datasetsdf)-23} websites and {datasetsdf['Pages'].sum()} HTML pages\")"
   ]
  },
  {
   "cell_type": "markdown",
   "metadata": {},
   "source": [
    "2) The text blocks were then:\n",
    "- deduplicated to keep only distinct text blocks for each website (forgetting part of the original document structure), \n",
    "- tagged (but not filtered) by language (using https://fasttext.cc/docs/en/language-identification.html),\n",
    "- grouped in categories according to the main theme of the original website,\n",
    "- split in [Pandas](https://pandas.pydata.org/) dataframes of size < 2 GB."
   ]
  },
  {
   "cell_type": "code",
   "execution_count": null,
   "metadata": {},
   "outputs": [
    {
     "name": "stdout",
     "output_type": "stream",
     "text": [
      "=> 10 categories: ['Assurance', 'Banque', 'Bourse', 'Comparateur', 'Crédit', 'Forum', 'Institution', 'Presse', 'SiteInfo', 'Wikipedia']\n"
     ]
    }
   ],
   "source": [
    "print(f\"=> {len(datasetsdf['Dataset'].unique())} categories: {list(datasetsdf['Dataset'].unique())}\")"
   ]
  },
  {
   "cell_type": "markdown",
   "metadata": {},
   "source": [
    "In each dataframe, the text blocks were additionnaly **SHUFFLED IN A RANDOM ORDER** to make it very difficult to reconstruct the original articles (safety measure to help protect the copyrights of the authors)."
   ]
  },
  {
   "cell_type": "markdown",
   "metadata": {},
   "source": [
    "The results of this second step can be downloaded in the *config.datasets* directory, as dataframes serialized in the [feather format](https://arrow.apache.org/docs/python/ipc.html?highlight=feather#feather-format), in files named according to the 'DatasetFile' column of the table above:\n",
    "- ['DatasetFile'].dataset.feather"
   ]
  },
  {
   "cell_type": "code",
   "execution_count": null,
   "metadata": {},
   "outputs": [
    {
     "name": "stdout",
     "output_type": "stream",
     "text": [
      "=> 19 dataset files: ['assurance', 'banque', 'bourse', 'comparateur', 'crédit', 'forum', 'institution', 'presse-1', 'presse-2', 'presse-3', 'presse-4', 'presse-5', 'presse-6', 'siteinfo', 'wikipedia-1', 'wikipedia-2', 'wikipedia-3', 'wikipedia-4', 'wikipedia-5']\n"
     ]
    }
   ],
   "source": [
    "print(f\"=> {len(datasetsdf['DatasetFile'].unique())} dataset files: {list(datasetsdf['DatasetFile'].unique())}\")"
   ]
  },
  {
   "cell_type": "markdown",
   "metadata": {},
   "source": [
    "The number of words in each text block was computed using the default french tokenizer from [spaCy](https://spacy.io/) v2.1.\n",
    "\n",
    "This business-oriented dataset contains **2 billion french words**."
   ]
  },
  {
   "cell_type": "code",
   "execution_count": null,
   "metadata": {},
   "outputs": [
    {
     "name": "stdout",
     "output_type": "stream",
     "text": [
      "=> Total number of words : 2008307510\n"
     ]
    }
   ],
   "source": [
    "print(f\"=> Total number of words : {datasetsdf['Words'].sum()}\")"
   ]
  },
  {
   "cell_type": "markdown",
   "metadata": {},
   "source": [
    "The detailed contribution of each website (number of pages and number of french words kept after all filters) to each category can be studied in the datasetsdf table :"
   ]
  },
  {
   "cell_type": "markdown",
   "metadata": {},
   "source": [
    "Here is a summary of the number of words contributed by each category **in millions**:"
   ]
  },
  {
   "cell_type": "code",
   "execution_count": null,
   "metadata": {},
   "outputs": [
    {
     "data": {
      "text/html": [
       "<div>\n",
       "<style scoped>\n",
       "    .dataframe tbody tr th:only-of-type {\n",
       "        vertical-align: middle;\n",
       "    }\n",
       "\n",
       "    .dataframe tbody tr th {\n",
       "        vertical-align: top;\n",
       "    }\n",
       "\n",
       "    .dataframe thead th {\n",
       "        text-align: right;\n",
       "    }\n",
       "</style>\n",
       "<table border=\"1\" class=\"dataframe\">\n",
       "  <thead>\n",
       "    <tr style=\"text-align: right;\">\n",
       "      <th></th>\n",
       "      <th>Words</th>\n",
       "    </tr>\n",
       "    <tr>\n",
       "      <th>Dataset</th>\n",
       "      <th></th>\n",
       "    </tr>\n",
       "  </thead>\n",
       "  <tbody>\n",
       "    <tr>\n",
       "      <th>Assurance</th>\n",
       "      <td>12.0</td>\n",
       "    </tr>\n",
       "    <tr>\n",
       "      <th>Banque</th>\n",
       "      <td>20.0</td>\n",
       "    </tr>\n",
       "    <tr>\n",
       "      <th>Bourse</th>\n",
       "      <td>26.0</td>\n",
       "    </tr>\n",
       "    <tr>\n",
       "      <th>Comparateur</th>\n",
       "      <td>20.0</td>\n",
       "    </tr>\n",
       "    <tr>\n",
       "      <th>Crédit</th>\n",
       "      <td>1.0</td>\n",
       "    </tr>\n",
       "    <tr>\n",
       "      <th>Forum</th>\n",
       "      <td>152.0</td>\n",
       "    </tr>\n",
       "    <tr>\n",
       "      <th>Institution</th>\n",
       "      <td>4.0</td>\n",
       "    </tr>\n",
       "    <tr>\n",
       "      <th>Presse</th>\n",
       "      <td>963.0</td>\n",
       "    </tr>\n",
       "    <tr>\n",
       "      <th>SiteInfo</th>\n",
       "      <td>78.0</td>\n",
       "    </tr>\n",
       "    <tr>\n",
       "      <th>Wikipedia</th>\n",
       "      <td>727.0</td>\n",
       "    </tr>\n",
       "  </tbody>\n",
       "</table>\n",
       "</div>"
      ],
      "text/plain": [
       "             Words\n",
       "Dataset           \n",
       "Assurance     12.0\n",
       "Banque        20.0\n",
       "Bourse        26.0\n",
       "Comparateur   20.0\n",
       "Crédit         1.0\n",
       "Forum        152.0\n",
       "Institution    4.0\n",
       "Presse       963.0\n",
       "SiteInfo      78.0\n",
       "Wikipedia    727.0"
      ]
     },
     "execution_count": null,
     "metadata": {},
     "output_type": "execute_result"
    }
   ],
   "source": [
    "np.floor(datasetsdf[[\"Dataset\",\"Words\"]].groupby(by=\"Dataset\").sum()/1000000)"
   ]
  },
  {
   "cell_type": "markdown",
   "metadata": {},
   "source": [
    "Detailed documentation for **list_datasets()** :\n",
    "\n",
    "list_datasets() returns one row per dataset file.\n",
    "\n",
    "\n",
    "Columns :\n",
    "\n",
    "- Dataset : 10 categories ('Assurance', 'Banque', 'Bourse', 'Comparateur', 'Crédit', 'Forum', 'Institution', 'Presse', 'SiteInfo', 'Wikipedia')\n",
    "\n",
    "\n",
    "- DatasetFile : 19 dataset file names, which should be passed to **read_dataset_file()** ('assurance', 'banque', 'bourse', 'comparateur', 'crédit', 'forum', 'institution', 'presse-1', 'presse-2', 'presse-3', 'presse-4', 'presse-5', 'presse-6', 'siteinfo', 'wikipedia-1', 'wikipedia-2', 'wikipedia-3', 'wikipedia-4', 'wikipedia-5')\n",
    "\n",
    "\n",
    "- Website : [only used during extraction phase] unique id for each extraction job\n",
    "\n",
    "\n",
    "- Url : base URL used to start crawling the website (with additional parameters when the crawl result was too big and needed to be split in several dataset files, ex : https://dumps.wikimedia.org/frwiki/latest/100000 => '/10000' was added at the end of the real base URL to register the fact that the corresponding dataset file contains the first 100000 pages of the wikipedia dump)\n",
    "\n",
    "\n",
    "- Scope : the crawl starts at the base URL, ex : https://fr.wikipedia.org/wiki/Finance, and then is limited to one of 3 possible scopes : 'domain' = \\*.wikipedia.org/\\*, 'subdomain' : fr.wikipedia.org/\\*, 'path' : fr.wikipedia.org/wiki/Finance/\\*\n",
    "\n",
    "\n",
    "- UrlsFile : name of the file where the original download URLs for each text block are tracked (used by the functions read_urls() and get_url_from_rowindex())\n",
    "\n",
    "\n",
    "- Pages : number of pages extracted from this website\n",
    "\n",
    "\n",
    "- Words : number of tokens extracted from this website (according to the default spaCy tokenizer for french), enables to see the contribution of each website to the aggregated dataset"
   ]
  },
  {
   "cell_type": "markdown",
   "metadata": {},
   "source": [
    "## 1.2 Download datasets"
   ]
  },
  {
   "cell_type": "code",
   "execution_count": null,
   "metadata": {},
   "outputs": [],
   "source": [
    "# export\n",
    "def read_download_info():\n",
    "    return pd.read_csv(config.libdata /\"datasets\"/\"download_info.csv\",sep=';')\n",
    "\n",
    "downloaddf = read_download_info()\n",
    "\n",
    "def download_all_datasets():\n",
    "    for datasetfile in datasetsdf['DatasetFile'].unique():\n",
    "        download_dataset_file(datasetfile)\n",
    "\n",
    "import math\n",
    "        \n",
    "def download_dataset_file(datasetfile):\n",
    "    row = downloaddf[downloaddf[\"DatasetFile\"]==datasetfile].iloc[0]\n",
    "    url = row[\"DownloadUrl\"]\n",
    "    size = row[\"FileSize\"]\n",
    "    print(f\"Downloading dataset file : {datasetfile} ({math.floor(size/1024/1024)} MB)\")\n",
    "    resfile = config.datasets / (datasetfile+\".dataset.feather\")\n",
    "    if not resfile.exists():\n",
    "        download_url(url, config.datasets / (datasetfile+\".dataset.zip\"), size)"
   ]
  },
  {
   "cell_type": "code",
   "execution_count": null,
   "metadata": {},
   "outputs": [
    {
     "name": "stdout",
     "output_type": "stream",
     "text": [
      "Downloading dataset file : assurance (17 MB)\n"
     ]
    }
   ],
   "source": [
    "download_dataset_file(\"assurance\")"
   ]
  },
  {
   "cell_type": "code",
   "execution_count": null,
   "metadata": {},
   "outputs": [
    {
     "name": "stdout",
     "output_type": "stream",
     "text": [
      "Downloading dataset file : assurance (17 MB)\n",
      "Downloading dataset file : banque (28 MB)\n",
      "Downloading dataset file : bourse (38 MB)\n",
      "Downloading dataset file : comparateur (28 MB)\n",
      "Downloading dataset file : crédit (2 MB)\n",
      "Downloading dataset file : forum (220 MB)\n",
      "Downloading dataset file : institution (5 MB)\n",
      "Downloading dataset file : presse-1 (218 MB)\n",
      "Downloading dataset file : presse-2 (196 MB)\n",
      "Downloading dataset file : presse-3 (190 MB)\n",
      "Downloading dataset file : presse-4 (234 MB)\n",
      "Downloading dataset file : presse-5 (269 MB)\n",
      "Downloading dataset file : presse-6 (334 MB)\n",
      "Downloading dataset file : siteinfo (116 MB)\n",
      "Downloading dataset file : wikipedia-1 (131 MB)\n",
      "Downloading dataset file : wikipedia-2 (182 MB)\n",
      "Downloading dataset file : wikipedia-3 (263 MB)\n",
      "Downloading dataset file : wikipedia-4 (269 MB)\n",
      "Downloading dataset file : wikipedia-5 (267 MB)\n"
     ]
    }
   ],
   "source": [
    "download_all_datasets()"
   ]
  },
  {
   "cell_type": "code",
   "execution_count": null,
   "metadata": {},
   "outputs": [
    {
     "name": "stdout",
     "output_type": "stream",
     "text": [
      "total 12489728\r\n",
      "-rw-rw-rw- 1 laurent laurent   91136056 Feb 15 21:45 assurance.dataset.feather\r\n",
      "-rw-rw-rw- 1 laurent laurent  144616048 Feb 15 21:45 banque.dataset.feather\r\n",
      "-rw-rw-rw- 1 laurent laurent  186553136 Feb 15 21:47 bourse.dataset.feather\r\n",
      "-rw-rw-rw- 1 laurent laurent  145062520 Feb 15 21:48 comparateur.dataset.feather\r\n",
      "-rw-rw-rw- 1 laurent laurent   11902488 Feb 15 21:48 crédit.dataset.feather\r\n",
      "-rw-rw-rw- 1 laurent laurent  962874856 Feb 15 21:50 forum.dataset.feather\r\n",
      "-rw-rw-rw- 1 laurent laurent   31609912 Feb 15 21:50 institution.dataset.feather\r\n",
      "-rw-rw-rw- 1 laurent laurent  921930504 Feb 15 21:51 presse-1.dataset.feather\r\n",
      "-rw-rw-rw- 1 laurent laurent  855158864 Feb 15 21:54 presse-2.dataset.feather\r\n",
      "-rw-rw-rw- 1 laurent laurent  809591952 Feb 15 21:55 presse-3.dataset.feather\r\n",
      "-rw-rw-rw- 1 laurent laurent  958970872 Feb 15 21:56 presse-4.dataset.feather\r\n",
      "-rw-rw-rw- 1 laurent laurent 1153696120 Feb 15 22:01 presse-5.dataset.feather\r\n",
      "-rw-rw-rw- 1 laurent laurent 1452331608 Feb 15 22:09 presse-6.dataset.feather\r\n",
      "-rw-rw-rw- 1 laurent laurent  543178032 Feb 15 22:10 siteinfo.dataset.feather\r\n",
      "-rw-rw-rw- 1 laurent laurent  549966224 Feb 15 22:10 wikipedia-1.dataset.feather\r\n",
      "-rw-rw-rw- 1 laurent laurent  729072464 Feb 15 22:12 wikipedia-2.dataset.feather\r\n",
      "-rw-rw-rw- 1 laurent laurent 1069759688 Feb 15 22:13 wikipedia-3.dataset.feather\r\n",
      "-rw-rw-rw- 1 laurent laurent 1086691712 Feb 15 22:16 wikipedia-4.dataset.feather\r\n",
      "-rw-rw-rw- 1 laurent laurent 1083060912 Feb 15 22:17 wikipedia-5.dataset.feather\r\n"
     ]
    }
   ],
   "source": [
    "!ls -l {config.datasets}"
   ]
  },
  {
   "cell_type": "markdown",
   "metadata": {},
   "source": [
    "## 1.3 Read dataset files"
   ]
  },
  {
   "cell_type": "code",
   "execution_count": null,
   "metadata": {},
   "outputs": [],
   "source": [
    "# export\n",
    "def read_dataset_file(datasetfile):\n",
    "    datasetdffile = config.datasets / (datasetfile+\".dataset.feather\")\n",
    "    if(datasetdffile.exists()):\n",
    "        datasetdf = pd.read_feather(datasetdffile)\n",
    "        print(f\"Loaded dataframe for dataset {datasetfile} : {len(datasetdf)} text blocks\")\n",
    "        return datasetdf\n",
    "    else:\n",
    "        raise Exception(f\"No dataframe for dataset {datasetfile}\")"
   ]
  },
  {
   "cell_type": "code",
   "execution_count": null,
   "metadata": {},
   "outputs": [
    {
     "name": "stdout",
     "output_type": "stream",
     "text": [
      "Loaded dataframe for dataset assurance : 563613 text blocks\n"
     ]
    }
   ],
   "source": [
    "datasetdf = read_dataset_file(\"assurance\")"
   ]
  },
  {
   "cell_type": "code",
   "execution_count": null,
   "metadata": {},
   "outputs": [
    {
     "data": {
      "text/html": [
       "<div>\n",
       "<style scoped>\n",
       "    .dataframe tbody tr th:only-of-type {\n",
       "        vertical-align: middle;\n",
       "    }\n",
       "\n",
       "    .dataframe tbody tr th {\n",
       "        vertical-align: top;\n",
       "    }\n",
       "\n",
       "    .dataframe thead th {\n",
       "        text-align: right;\n",
       "    }\n",
       "</style>\n",
       "<table border=\"1\" class=\"dataframe\">\n",
       "  <thead>\n",
       "    <tr style=\"text-align: right;\">\n",
       "      <th></th>\n",
       "      <th>Website</th>\n",
       "      <th>DocId</th>\n",
       "      <th>DocEltType</th>\n",
       "      <th>DocEltCmd</th>\n",
       "      <th>NestingLevel</th>\n",
       "      <th>Text</th>\n",
       "      <th>Lang</th>\n",
       "      <th>Words</th>\n",
       "      <th>Unique</th>\n",
       "    </tr>\n",
       "  </thead>\n",
       "  <tbody>\n",
       "    <tr>\n",
       "      <th>0</th>\n",
       "      <td>11</td>\n",
       "      <td>22332</td>\n",
       "      <td>ListItem</td>\n",
       "      <td>Text</td>\n",
       "      <td>2</td>\n",
       "      <td>5 tournages catastrophe pour un assureur</td>\n",
       "      <td>fr</td>\n",
       "      <td>6</td>\n",
       "      <td>True</td>\n",
       "    </tr>\n",
       "    <tr>\n",
       "      <th>1</th>\n",
       "      <td>74</td>\n",
       "      <td>710</td>\n",
       "      <td>Section</td>\n",
       "      <td>Start</td>\n",
       "      <td>1</td>\n",
       "      <td>Tout connaitre sur la nouvelle formation post-...</td>\n",
       "      <td>fr</td>\n",
       "      <td>7</td>\n",
       "      <td>True</td>\n",
       "    </tr>\n",
       "    <tr>\n",
       "      <th>2</th>\n",
       "      <td>11</td>\n",
       "      <td>12082</td>\n",
       "      <td>TextBlock</td>\n",
       "      <td>Text</td>\n",
       "      <td>1</td>\n",
       "      <td>Votre Agent Mandataire AXA - Civry Marie Claud...</td>\n",
       "      <td>?</td>\n",
       "      <td>18</td>\n",
       "      <td>True</td>\n",
       "    </tr>\n",
       "    <tr>\n",
       "      <th>3</th>\n",
       "      <td>87</td>\n",
       "      <td>461</td>\n",
       "      <td>TextBlock</td>\n",
       "      <td>Text</td>\n",
       "      <td>4</td>\n",
       "      <td>60 ans et 4 mois</td>\n",
       "      <td>fr</td>\n",
       "      <td>5</td>\n",
       "      <td>True</td>\n",
       "    </tr>\n",
       "    <tr>\n",
       "      <th>4</th>\n",
       "      <td>7</td>\n",
       "      <td>200</td>\n",
       "      <td>TextBlock</td>\n",
       "      <td>Text</td>\n",
       "      <td>1</td>\n",
       "      <td>Mon devis sur mesure</td>\n",
       "      <td>fr</td>\n",
       "      <td>4</td>\n",
       "      <td>True</td>\n",
       "    </tr>\n",
       "    <tr>\n",
       "      <th>...</th>\n",
       "      <td>...</td>\n",
       "      <td>...</td>\n",
       "      <td>...</td>\n",
       "      <td>...</td>\n",
       "      <td>...</td>\n",
       "      <td>...</td>\n",
       "      <td>...</td>\n",
       "      <td>...</td>\n",
       "      <td>...</td>\n",
       "    </tr>\n",
       "    <tr>\n",
       "      <th>563608</th>\n",
       "      <td>138</td>\n",
       "      <td>255</td>\n",
       "      <td>Section</td>\n",
       "      <td>Start</td>\n",
       "      <td>2</td>\n",
       "      <td>Les autres pouvoirs de police</td>\n",
       "      <td>fr</td>\n",
       "      <td>5</td>\n",
       "      <td>True</td>\n",
       "    </tr>\n",
       "    <tr>\n",
       "      <th>563609</th>\n",
       "      <td>11</td>\n",
       "      <td>19483</td>\n",
       "      <td>TextBlock</td>\n",
       "      <td>Text</td>\n",
       "      <td>1</td>\n",
       "      <td>Yves Nicolau assurance Laon</td>\n",
       "      <td>?</td>\n",
       "      <td>4</td>\n",
       "      <td>True</td>\n",
       "    </tr>\n",
       "    <tr>\n",
       "      <th>563610</th>\n",
       "      <td>106</td>\n",
       "      <td>1644</td>\n",
       "      <td>ListItem</td>\n",
       "      <td>Text</td>\n",
       "      <td>3</td>\n",
       "      <td>Evènements sportifs</td>\n",
       "      <td>fr</td>\n",
       "      <td>2</td>\n",
       "      <td>True</td>\n",
       "    </tr>\n",
       "    <tr>\n",
       "      <th>563611</th>\n",
       "      <td>58</td>\n",
       "      <td>4155</td>\n",
       "      <td>Section</td>\n",
       "      <td>Start</td>\n",
       "      <td>1</td>\n",
       "      <td>Agence Groupama Chalon</td>\n",
       "      <td>?</td>\n",
       "      <td>3</td>\n",
       "      <td>True</td>\n",
       "    </tr>\n",
       "    <tr>\n",
       "      <th>563612</th>\n",
       "      <td>10</td>\n",
       "      <td>150</td>\n",
       "      <td>TextBlock</td>\n",
       "      <td>Text</td>\n",
       "      <td>2</td>\n",
       "      <td>Nos agences d'assurance Aviva à OYONNAX sont h...</td>\n",
       "      <td>fr</td>\n",
       "      <td>26</td>\n",
       "      <td>True</td>\n",
       "    </tr>\n",
       "  </tbody>\n",
       "</table>\n",
       "<p>563613 rows × 9 columns</p>\n",
       "</div>"
      ],
      "text/plain": [
       "        Website  DocId DocEltType DocEltCmd  NestingLevel  \\\n",
       "0            11  22332   ListItem      Text             2   \n",
       "1            74    710    Section     Start             1   \n",
       "2            11  12082  TextBlock      Text             1   \n",
       "3            87    461  TextBlock      Text             4   \n",
       "4             7    200  TextBlock      Text             1   \n",
       "...         ...    ...        ...       ...           ...   \n",
       "563608      138    255    Section     Start             2   \n",
       "563609       11  19483  TextBlock      Text             1   \n",
       "563610      106   1644   ListItem      Text             3   \n",
       "563611       58   4155    Section     Start             1   \n",
       "563612       10    150  TextBlock      Text             2   \n",
       "\n",
       "                                                     Text Lang  Words  Unique  \n",
       "0                5 tournages catastrophe pour un assureur   fr      6    True  \n",
       "1       Tout connaitre sur la nouvelle formation post-...   fr      7    True  \n",
       "2       Votre Agent Mandataire AXA - Civry Marie Claud...    ?     18    True  \n",
       "3                                        60 ans et 4 mois   fr      5    True  \n",
       "4                                    Mon devis sur mesure   fr      4    True  \n",
       "...                                                   ...  ...    ...     ...  \n",
       "563608                      Les autres pouvoirs de police   fr      5    True  \n",
       "563609                        Yves Nicolau assurance Laon    ?      4    True  \n",
       "563610                                Evènements sportifs   fr      2    True  \n",
       "563611                             Agence Groupama Chalon    ?      3    True  \n",
       "563612  Nos agences d'assurance Aviva à OYONNAX sont h...   fr     26    True  \n",
       "\n",
       "[563613 rows x 9 columns]"
      ]
     },
     "execution_count": null,
     "metadata": {},
     "output_type": "execute_result"
    }
   ],
   "source": [
    "datasetdf"
   ]
  },
  {
   "cell_type": "markdown",
   "metadata": {},
   "source": [
    "The **dataset files** contain the following columns :\n",
    "\n",
    "- Website : unique **id of the website** (extraction job) from which the text block was extracted \n",
    "\n",
    "\n",
    "- DocId : unique identifier for each page of the website\n",
    "\n",
    "=> these two columns can be used to join with the datasets list table and the datasets urls table\n",
    "\n",
    "\n",
    "- DocEltType/DocEltCmd : Document structure delimiters and document content elements\n",
    "  - Document Start / Document End : beginning / end of a page\n",
    "    - Document Title : title of the page\n",
    "    - Document Url : url of the page\n",
    "  - Section Start / Section End : chapter or section delimited in the page\n",
    "    - Section Title : title of the section\n",
    "    - NestingLevel : sections can be nested at several levels of depth\n",
    "    - TextBlock Text : paragraph or block of text inside a section\n",
    "  - List Start / List End : list of elements\n",
    "  - NavigationList Start / NavigationList End : navigation menu\n",
    "    - ListItem Text : text of a list element   \n",
    "    - NestingLevel : lists can be nested inside each other\n",
    "  - Table Start / Table End : beginning / end of a table\n",
    "    - TableHeader/TableCell Start / TableHeader/TableCell End : beginning / end of a table cell\n",
    "      - TextBlock Text : paragraph or block of text inside a table cell\n",
    "    - NestingLevel : tables can be nested inside each other\n",
    " \n",
    " => a dataset file contains only **content text blocks** (Title and Text elements)\n",
    " \n",
    " \n",
    " - NestingLevel : the extraction algorithm ([nlptextdoc](https://github.com/laurentprudhon/nlptextdoc)) tries very hard to preserve the hierarchical structure of the text in the source web page\n",
    " \n",
    " \n",
    " - Text : Unicode text for document content elements lines (DocEltCmd = 'Title' or 'Text')\n",
    " \n",
    " \n",
    " - Lang : language of the text block in the Text column, as detected by [fastText](https://fasttext.cc/docs/en/language-identification.html)\n",
    " \n",
    " \n",
    " - Words : number of words of the text block in the Text column,after tokenization by [spaCy](https://spacy.io/)\n",
    " \n",
    " \n",
    " - Unique : True for the very first occurence of the text block in the current website (extraction file), False for all subsequent occurences of this same text block in this extraction file \n",
    " \n",
    " => always True because the deduplication filter was already applied when the dataset file was created"
   ]
  },
  {
   "cell_type": "markdown",
   "metadata": {},
   "source": [
    "ADDITIONAL INFO :\n",
    "\n",
    "- the text blocks are **shuffled in random order** : it is impossible to rebuild the original web pages from the dataset files (by design to protect the copyrights)\n",
    "\n",
    "\n",
    "- only **unique** text blocks from each website are kept\n",
    "\n",
    "\n",
    "- the **origin each text block is tracked** with the (Website,DocId) columns => can be used to join with the urls files (again by design to protect the copyrights)"
   ]
  },
  {
   "cell_type": "markdown",
   "metadata": {},
   "source": [
    "**Note** : before using a dataset file to train a model, you should filter it on language and number of words."
   ]
  },
  {
   "cell_type": "code",
   "execution_count": null,
   "metadata": {},
   "outputs": [
    {
     "data": {
      "text/plain": [
       "<matplotlib.axes._subplots.AxesSubplot at 0x7f26fb678b38>"
      ]
     },
     "execution_count": null,
     "metadata": {},
     "output_type": "execute_result"
    },
    {
     "data": {
      "image/png": "[encoded data removed]",
      "text/plain": [
       "<Figure size 432x288 with 1 Axes>"
      ]
     },
     "metadata": {
      "needs_background": "light"
     },
     "output_type": "display_data"
    }
   ],
   "source": [
    "datasetdf[\"Lang\"].value_counts()[:3].plot.barh()"
   ]
  },
  {
   "cell_type": "code",
   "execution_count": null,
   "metadata": {},
   "outputs": [
    {
     "data": {
      "text/plain": [
       "<matplotlib.axes._subplots.AxesSubplot at 0x7f26f91da240>"
      ]
     },
     "execution_count": null,
     "metadata": {},
     "output_type": "execute_result"
    },
    {
     "data": {
      "image/png": "[encoded data removed]",
      "text/plain": [
       "<Figure size 432x288 with 1 Axes>"
      ]
     },
     "metadata": {
      "needs_background": "light"
     },
     "output_type": "display_data"
    }
   ],
   "source": [
    "datasetdf[\"Lang\"].value_counts()[2:10].plot.barh()"
   ]
  },
  {
   "cell_type": "code",
   "execution_count": null,
   "metadata": {},
   "outputs": [
    {
     "data": {
      "text/plain": [
       "<matplotlib.axes._subplots.AxesSubplot at 0x7f26f9171c50>"
      ]
     },
     "execution_count": null,
     "metadata": {},
     "output_type": "execute_result"
    },
    {
     "data": {
      "image/png": "[encoded data removed]",
      "text/plain": [
       "<Figure size 432x288 with 1 Axes>"
      ]
     },
     "metadata": {
      "needs_background": "light"
     },
     "output_type": "display_data"
    }
   ],
   "source": [
    "datasetdf[\"Words\"].value_counts().sort_index()[:20].plot.barh()"
   ]
  },
  {
   "cell_type": "code",
   "execution_count": null,
   "metadata": {},
   "outputs": [
    {
     "data": {
      "text/plain": [
       "166275"
      ]
     },
     "execution_count": null,
     "metadata": {},
     "output_type": "execute_result"
    }
   ],
   "source": [
    "datasetdf[datasetdf[\"Words\"]<7][\"Words\"].count()"
   ]
  },
  {
   "cell_type": "code",
   "execution_count": null,
   "metadata": {},
   "outputs": [
    {
     "data": {
      "text/plain": [
       "217568"
      ]
     },
     "execution_count": null,
     "metadata": {},
     "output_type": "execute_result"
    }
   ],
   "source": [
    "datasetdf[(datasetdf[\"Words\"]>=7) & (datasetdf[\"Words\"]<20)][\"Words\"].count()"
   ]
  },
  {
   "cell_type": "code",
   "execution_count": null,
   "metadata": {},
   "outputs": [
    {
     "data": {
      "text/plain": [
       "166004"
      ]
     },
     "execution_count": null,
     "metadata": {},
     "output_type": "execute_result"
    }
   ],
   "source": [
    "datasetdf[(datasetdf[\"Words\"]>=20) & (datasetdf[\"Words\"]<100)][\"Words\"].count()"
   ]
  },
  {
   "cell_type": "code",
   "execution_count": null,
   "metadata": {},
   "outputs": [
    {
     "data": {
      "text/plain": [
       "13766"
      ]
     },
     "execution_count": null,
     "metadata": {},
     "output_type": "execute_result"
    }
   ],
   "source": [
    "datasetdf[datasetdf[\"Words\"]>=100][\"Words\"].count()"
   ]
  },
  {
   "cell_type": "markdown",
   "metadata": {},
   "source": [
    "## 1.4 Read URLs files"
   ]
  },
  {
   "cell_type": "code",
   "execution_count": null,
   "metadata": {},
   "outputs": [],
   "source": [
    "# export\n",
    "def download_urls_file():\n",
    "    row = downloaddf[downloaddf[\"DatasetFile\"]==\"urls\"].iloc[0]\n",
    "    url = row[\"DownloadUrl\"]\n",
    "    size = row[\"FileSize\"]\n",
    "    print(f\"Downloading datasets urls file ({math.floor(size/1024/1024)} MB)\")\n",
    "    download_url(url, config.datasets / \"datasets.urls.feather\", size)\n",
    "    print(\"Done\")\n",
    "\n",
    "urlsdf = None\n",
    "    \n",
    "def read_urls_file():\n",
    "    global urlsdf\n",
    "    if urlsdf is None:\n",
    "        download_urls_file()\n",
    "        urlsdf = pd.read_feather(config.datasets / \"datasets.urls.feather\")\n",
    "        print(f\"Loaded datasets urls : {len(urlsdf)} urls\")\n",
    "        return urlsdf\n",
    "    else:\n",
    "        raise Exception(f\"Datasets urls file not found\")"
   ]
  },
  {
   "cell_type": "markdown",
   "metadata": {},
   "source": [
    "During each website extraction, a corresponding **urls file** was created to track the urls and stats of all documents included in the extraction.\n",
    "\n",
    "A single table containing all urls for all datasets can be read with the **read_urls_file()** function.\n",
    "\n",
    "If the urls file wasn't downloaded before, it will be automatically downloaded."
   ]
  },
  {
   "cell_type": "code",
   "execution_count": null,
   "metadata": {},
   "outputs": [
    {
     "name": "stdout",
     "output_type": "stream",
     "text": [
      "Downloading datasets urls file (484 MB)\n",
      "Done\n",
      "Loaded datasets urls : 2668787 urls\n"
     ]
    },
    {
     "data": {
      "text/html": [
       "<div>\n",
       "<style scoped>\n",
       "    .dataframe tbody tr th:only-of-type {\n",
       "        vertical-align: middle;\n",
       "    }\n",
       "\n",
       "    .dataframe tbody tr th {\n",
       "        vertical-align: top;\n",
       "    }\n",
       "\n",
       "    .dataframe thead th {\n",
       "        text-align: right;\n",
       "    }\n",
       "</style>\n",
       "<table border=\"1\" class=\"dataframe\">\n",
       "  <thead>\n",
       "    <tr style=\"text-align: right;\">\n",
       "      <th></th>\n",
       "      <th>Website</th>\n",
       "      <th>DocId</th>\n",
       "      <th>DocUrl</th>\n",
       "      <th>Words</th>\n",
       "      <th>fr</th>\n",
       "      <th>en</th>\n",
       "      <th>de</th>\n",
       "      <th>es</th>\n",
       "      <th>?</th>\n",
       "      <th>%fr</th>\n",
       "      <th>%en</th>\n",
       "      <th>%de</th>\n",
       "      <th>%es</th>\n",
       "      <th>%?</th>\n",
       "    </tr>\n",
       "  </thead>\n",
       "  <tbody>\n",
       "    <tr>\n",
       "      <th>0</th>\n",
       "      <td>4</td>\n",
       "      <td>1</td>\n",
       "      <td>https://www.afer.fr/</td>\n",
       "      <td>573.0</td>\n",
       "      <td>524.0</td>\n",
       "      <td>3.0</td>\n",
       "      <td>0.0</td>\n",
       "      <td>0.0</td>\n",
       "      <td>46.0</td>\n",
       "      <td>0.914485</td>\n",
       "      <td>0.005236</td>\n",
       "      <td>0.0</td>\n",
       "      <td>0.0</td>\n",
       "      <td>0.080279</td>\n",
       "    </tr>\n",
       "    <tr>\n",
       "      <th>1</th>\n",
       "      <td>4</td>\n",
       "      <td>2</td>\n",
       "      <td>https://www.afer.fr/afer/adhesion/</td>\n",
       "      <td>74.0</td>\n",
       "      <td>74.0</td>\n",
       "      <td>0.0</td>\n",
       "      <td>0.0</td>\n",
       "      <td>0.0</td>\n",
       "      <td>0.0</td>\n",
       "      <td>1.000000</td>\n",
       "      <td>0.000000</td>\n",
       "      <td>0.0</td>\n",
       "      <td>0.0</td>\n",
       "      <td>0.000000</td>\n",
       "    </tr>\n",
       "    <tr>\n",
       "      <th>2</th>\n",
       "      <td>4</td>\n",
       "      <td>3</td>\n",
       "      <td>https://www.afer.fr/afer/adhesion/adherent-ass...</td>\n",
       "      <td>475.0</td>\n",
       "      <td>457.0</td>\n",
       "      <td>5.0</td>\n",
       "      <td>0.0</td>\n",
       "      <td>0.0</td>\n",
       "      <td>13.0</td>\n",
       "      <td>0.962105</td>\n",
       "      <td>0.010526</td>\n",
       "      <td>0.0</td>\n",
       "      <td>0.0</td>\n",
       "      <td>0.027368</td>\n",
       "    </tr>\n",
       "    <tr>\n",
       "      <th>3</th>\n",
       "      <td>4</td>\n",
       "      <td>4</td>\n",
       "      <td>https://www.afer.fr/afer/adhesion/adherer-assu...</td>\n",
       "      <td>519.0</td>\n",
       "      <td>519.0</td>\n",
       "      <td>0.0</td>\n",
       "      <td>0.0</td>\n",
       "      <td>0.0</td>\n",
       "      <td>0.0</td>\n",
       "      <td>1.000000</td>\n",
       "      <td>0.000000</td>\n",
       "      <td>0.0</td>\n",
       "      <td>0.0</td>\n",
       "      <td>0.000000</td>\n",
       "    </tr>\n",
       "    <tr>\n",
       "      <th>4</th>\n",
       "      <td>4</td>\n",
       "      <td>5</td>\n",
       "      <td>https://www.afer.fr/afer/adhesion/parrainage-a...</td>\n",
       "      <td>355.0</td>\n",
       "      <td>345.0</td>\n",
       "      <td>0.0</td>\n",
       "      <td>0.0</td>\n",
       "      <td>0.0</td>\n",
       "      <td>10.0</td>\n",
       "      <td>0.971831</td>\n",
       "      <td>0.000000</td>\n",
       "      <td>0.0</td>\n",
       "      <td>0.0</td>\n",
       "      <td>0.028169</td>\n",
       "    </tr>\n",
       "    <tr>\n",
       "      <th>...</th>\n",
       "      <td>...</td>\n",
       "      <td>...</td>\n",
       "      <td>...</td>\n",
       "      <td>...</td>\n",
       "      <td>...</td>\n",
       "      <td>...</td>\n",
       "      <td>...</td>\n",
       "      <td>...</td>\n",
       "      <td>...</td>\n",
       "      <td>...</td>\n",
       "      <td>...</td>\n",
       "      <td>...</td>\n",
       "      <td>...</td>\n",
       "      <td>...</td>\n",
       "    </tr>\n",
       "    <tr>\n",
       "      <th>2668782</th>\n",
       "      <td>104</td>\n",
       "      <td>15427</td>\n",
       "      <td>https://fr.wikipedia.org/wiki/___L_t</td>\n",
       "      <td>1277.0</td>\n",
       "      <td>1274.0</td>\n",
       "      <td>0.0</td>\n",
       "      <td>0.0</td>\n",
       "      <td>0.0</td>\n",
       "      <td>3.0</td>\n",
       "      <td>0.997651</td>\n",
       "      <td>0.000000</td>\n",
       "      <td>0.0</td>\n",
       "      <td>0.0</td>\n",
       "      <td>0.002349</td>\n",
       "    </tr>\n",
       "    <tr>\n",
       "      <th>2668783</th>\n",
       "      <td>104</td>\n",
       "      <td>15428</td>\n",
       "      <td>https://fr.wikipedia.org/wiki/___r_nad_S_zavou</td>\n",
       "      <td>387.0</td>\n",
       "      <td>382.0</td>\n",
       "      <td>0.0</td>\n",
       "      <td>0.0</td>\n",
       "      <td>0.0</td>\n",
       "      <td>5.0</td>\n",
       "      <td>0.987080</td>\n",
       "      <td>0.000000</td>\n",
       "      <td>0.0</td>\n",
       "      <td>0.0</td>\n",
       "      <td>0.012920</td>\n",
       "    </tr>\n",
       "    <tr>\n",
       "      <th>2668784</th>\n",
       "      <td>104</td>\n",
       "      <td>15429</td>\n",
       "      <td>https://fr.wikipedia.org/wiki/___suivre_</td>\n",
       "      <td>3816.0</td>\n",
       "      <td>3816.0</td>\n",
       "      <td>0.0</td>\n",
       "      <td>0.0</td>\n",
       "      <td>0.0</td>\n",
       "      <td>0.0</td>\n",
       "      <td>1.000000</td>\n",
       "      <td>0.000000</td>\n",
       "      <td>0.0</td>\n",
       "      <td>0.0</td>\n",
       "      <td>0.000000</td>\n",
       "    </tr>\n",
       "    <tr>\n",
       "      <th>2668785</th>\n",
       "      <td>104</td>\n",
       "      <td>15430</td>\n",
       "      <td>https://fr.wikipedia.org/wiki/___The_Heavens_a...</td>\n",
       "      <td>419.0</td>\n",
       "      <td>405.0</td>\n",
       "      <td>14.0</td>\n",
       "      <td>0.0</td>\n",
       "      <td>0.0</td>\n",
       "      <td>0.0</td>\n",
       "      <td>0.966587</td>\n",
       "      <td>0.033413</td>\n",
       "      <td>0.0</td>\n",
       "      <td>0.0</td>\n",
       "      <td>0.000000</td>\n",
       "    </tr>\n",
       "    <tr>\n",
       "      <th>2668786</th>\n",
       "      <td>104</td>\n",
       "      <td>15431</td>\n",
       "      <td>https://fr.wikipedia.org/wiki/____bergers__ass...</td>\n",
       "      <td>795.0</td>\n",
       "      <td>777.0</td>\n",
       "      <td>0.0</td>\n",
       "      <td>0.0</td>\n",
       "      <td>0.0</td>\n",
       "      <td>18.0</td>\n",
       "      <td>0.977358</td>\n",
       "      <td>0.000000</td>\n",
       "      <td>0.0</td>\n",
       "      <td>0.0</td>\n",
       "      <td>0.022642</td>\n",
       "    </tr>\n",
       "  </tbody>\n",
       "</table>\n",
       "<p>2668787 rows × 14 columns</p>\n",
       "</div>"
      ],
      "text/plain": [
       "         Website  DocId                                             DocUrl  \\\n",
       "0              4      1                               https://www.afer.fr/   \n",
       "1              4      2                 https://www.afer.fr/afer/adhesion/   \n",
       "2              4      3  https://www.afer.fr/afer/adhesion/adherent-ass...   \n",
       "3              4      4  https://www.afer.fr/afer/adhesion/adherer-assu...   \n",
       "4              4      5  https://www.afer.fr/afer/adhesion/parrainage-a...   \n",
       "...          ...    ...                                                ...   \n",
       "2668782      104  15427               https://fr.wikipedia.org/wiki/___L_t   \n",
       "2668783      104  15428     https://fr.wikipedia.org/wiki/___r_nad_S_zavou   \n",
       "2668784      104  15429           https://fr.wikipedia.org/wiki/___suivre_   \n",
       "2668785      104  15430  https://fr.wikipedia.org/wiki/___The_Heavens_a...   \n",
       "2668786      104  15431  https://fr.wikipedia.org/wiki/____bergers__ass...   \n",
       "\n",
       "          Words      fr    en   de   es     ?       %fr       %en  %de  %es  \\\n",
       "0         573.0   524.0   3.0  0.0  0.0  46.0  0.914485  0.005236  0.0  0.0   \n",
       "1          74.0    74.0   0.0  0.0  0.0   0.0  1.000000  0.000000  0.0  0.0   \n",
       "2         475.0   457.0   5.0  0.0  0.0  13.0  0.962105  0.010526  0.0  0.0   \n",
       "3         519.0   519.0   0.0  0.0  0.0   0.0  1.000000  0.000000  0.0  0.0   \n",
       "4         355.0   345.0   0.0  0.0  0.0  10.0  0.971831  0.000000  0.0  0.0   \n",
       "...         ...     ...   ...  ...  ...   ...       ...       ...  ...  ...   \n",
       "2668782  1277.0  1274.0   0.0  0.0  0.0   3.0  0.997651  0.000000  0.0  0.0   \n",
       "2668783   387.0   382.0   0.0  0.0  0.0   5.0  0.987080  0.000000  0.0  0.0   \n",
       "2668784  3816.0  3816.0   0.0  0.0  0.0   0.0  1.000000  0.000000  0.0  0.0   \n",
       "2668785   419.0   405.0  14.0  0.0  0.0   0.0  0.966587  0.033413  0.0  0.0   \n",
       "2668786   795.0   777.0   0.0  0.0  0.0  18.0  0.977358  0.000000  0.0  0.0   \n",
       "\n",
       "               %?  \n",
       "0        0.080279  \n",
       "1        0.000000  \n",
       "2        0.027368  \n",
       "3        0.000000  \n",
       "4        0.028169  \n",
       "...           ...  \n",
       "2668782  0.002349  \n",
       "2668783  0.012920  \n",
       "2668784  0.000000  \n",
       "2668785  0.000000  \n",
       "2668786  0.022642  \n",
       "\n",
       "[2668787 rows x 14 columns]"
      ]
     },
     "execution_count": null,
     "metadata": {},
     "output_type": "execute_result"
    }
   ],
   "source": [
    "read_urls_file()"
   ]
  },
  {
   "cell_type": "markdown",
   "metadata": {},
   "source": [
    "**read_urls_file()** returns one row per page extracted from a given website.\n",
    "\n",
    "Columns :\n",
    "\n",
    "- Website : unique **id of the website** (extraction job) from which the text blocks were extracted \n",
    "\n",
    "\n",
    "- DocId : unique identifier for each page of the website, same as 'DocId' column in extraction file\n",
    "\n",
    "\n",
    "- DocUrl : ansolute url (with query string) from which the page contents were extracted\n",
    "\n",
    "\n",
    "- Words : total number of words in the text block of this page\n",
    "\n",
    "\n",
    "- fr/en/es/de/? : number of words in text blocks for each language\n",
    "\n",
    "\n",
    "- %fr/%en/%es/%de/%? : % words in text blocks of the page for each language (can be used to filter datasets)"
   ]
  },
  {
   "cell_type": "markdown",
   "metadata": {},
   "source": [
    "## 1.5 Utility functions to use dataset files"
   ]
  },
  {
   "cell_type": "markdown",
   "metadata": {},
   "source": [
    "### Filter and iterate over the rows of a dataset file"
   ]
  },
  {
   "cell_type": "code",
   "execution_count": null,
   "metadata": {},
   "outputs": [],
   "source": [
    "# export\n",
    "def get_rows_from_datasetdf(datasetdf, minwords=5, maxwords=None, lang=None):\n",
    "    condition = datasetdf.index>=0\n",
    "    if isinstance(minwords,int):\n",
    "        condition = condition & (datasetdf[\"Words\"] >= minwords)\n",
    "    if isinstance(maxwords,int):\n",
    "        condition = condition & (datasetdf[\"Words\"] <= maxwords)\n",
    "    if isinstance(lang,str):\n",
    "        condition = condition & (datasetdf[\"Lang\"] == lang)\n",
    "    return datasetdf[condition].iterrows()\n",
    "\n",
    "def show_first_rows(rowsiterator, count=5, skip=0):\n",
    "    i=0\n",
    "    for rowidx,row in rowsiterator:   \n",
    "        i = i+1\n",
    "        if(i <= skip): continue\n",
    "        text = row[\"Text\"]\n",
    "        print(f\"{rowidx} - {text}\") \n",
    "        if(i >= skip+count): break"
   ]
  },
  {
   "cell_type": "code",
   "execution_count": null,
   "metadata": {},
   "outputs": [
    {
     "name": "stdout",
     "output_type": "stream",
     "text": [
      "7 - De la même manière, lorsque l’acheteur est titulaire d’un diplôme de mécanique, les juges apprécieront sa qualité de « professionnel » et pourront rejeter sa demande. En effet, ils pourront estimer qu’il aurait dû ou pu déceler le problème rencontré ultérieurement.\n",
      "9 - Lorsque vous souscrivez à une assurance classique, vous avez systématiquement le choix entre plusieurs formules, qui proposent différentes garanties. Et bien, concernant les assurances auto connectée, c’est pareil. Et ce n’est pas parce qu’il y a des réductions à la clé qu’il faut en oublier de vérifier les conditions du contrat auquel vous souscrivez !\n",
      "10 - Même si c’est un budget important, il vaut mieux payer en une seule fois. En effet, le paiement mensuel revient plus cher car il occasionne des frais supplémentaires.\n",
      "11 - Les agences Groupama à proximité de l'agence Olonzac\n",
      "13 - Generali Vie applique ce transfert des plus-values latentes :\n"
     ]
    }
   ],
   "source": [
    "rowsiterator = get_rows_from_datasetdf(datasetdf)\n",
    "show_first_rows(rowsiterator, skip=5)"
   ]
  },
  {
   "cell_type": "code",
   "execution_count": null,
   "metadata": {},
   "outputs": [
    {
     "name": "stdout",
     "output_type": "stream",
     "text": [
      "12 - COORDONNEES\n",
      "41 - 01 30 41 67 33\n",
      "49 - Dmitriy G.\n",
      "57 - Les atouts du Multisupport CONFIANCE\n",
      "74 - 01XXL meribel hiver\n",
      "76 - Garantie en cas de vol\n",
      "87 - Par AXA, le 01/08/2016\n",
      "96 - mgr@enderby.eu\n",
      "127 - 18 place De Strasbourg\n",
      "131 - Saint Gaudens\n"
     ]
    }
   ],
   "source": [
    "rowsiterator = get_rows_from_datasetdf(datasetdf, minwords=None, maxwords=5, lang=\"?\")\n",
    "show_first_rows(rowsiterator,10)"
   ]
  },
  {
   "cell_type": "markdown",
   "metadata": {},
   "source": [
    "### Filter and iterate over the text blocks of a full dataset (across multiple files)"
   ]
  },
  {
   "cell_type": "code",
   "execution_count": null,
   "metadata": {},
   "outputs": [],
   "source": [
    "# export\n",
    "def get_textblocks_from_dataset(dataset, minwords=5, maxwords=None, lang=None):\n",
    "    for datasetfile in datasetsdf.loc[datasetsdf[\"Dataset\"]==dataset,\"DatasetFile\"].unique():\n",
    "        datasetdf = read_dataset_file(datasetfile)\n",
    "        for rowidx,row in get_rows_from_datasetdf(datasetdf,minwords,maxwords,lang):\n",
    "            yield row[\"Text\"]\n",
    "        \n",
    "def show_first_textblocks(textiterator, count=5, skip=0):\n",
    "    i=0\n",
    "    for text in textiterator:   \n",
    "        i = i+1\n",
    "        if(i <= skip): continue\n",
    "        print(f\"{i} - {text}\") \n",
    "        if(i >= (skip+count)): break"
   ]
  },
  {
   "cell_type": "code",
   "execution_count": null,
   "metadata": {},
   "outputs": [
    {
     "name": "stdout",
     "output_type": "stream",
     "text": [
      "Loaded dataframe for dataset assurance : 563613 text blocks\n",
      "2001 - Rééquipement à neuf à vie\n",
      "2002 - Définition Conducteur secondaire- Lexique\n",
      "2003 - Comment éviter les fraudes\n",
      "2004 - Comment demander un remboursement santé - GENERALI\n",
      "2005 - Simulateur pour connaître les obligations de votre accord de branche\n",
      "2006 - Complémentaire Epargne retraite des indépendants et TNS - Malakoff Médéric\n",
      "2007 - Experts-Comptables, découvrez la mission épargne salariale\n",
      "2008 - Vous n’êtes pas encore client :\n",
      "2009 - Actualités (Page 6) | ameli.fr | Pharmacien\n",
      "2010 - Dépression : quelle prise en charge ? - Matmut\n"
     ]
    }
   ],
   "source": [
    "textiterator = get_textblocks_from_dataset(\"Assurance\", minwords=None, maxwords=10, lang=\"fr\")\n",
    "show_first_textblocks(textiterator,skip=2000,count=10)"
   ]
  },
  {
   "cell_type": "markdown",
   "metadata": {},
   "source": [
    "### Access a specific row - Retrieve the Url from which this text block was extracted"
   ]
  },
  {
   "cell_type": "code",
   "execution_count": null,
   "metadata": {},
   "outputs": [],
   "source": [
    "# export\n",
    "def get_text_from_rowindex(datasetdf, rowidx):\n",
    "    return datasetdf.iloc[rowidx][\"Text\"]\n",
    "\n",
    "def get_url_from_rowindex(datasetdf, rowidx):\n",
    "    global urlsdf\n",
    "    row = datasetdf.iloc[rowidx]\n",
    "    website = row[\"Website\"]\n",
    "    docid = row[\"DocId\"]\n",
    "    if urlsdf is None:\n",
    "        urlsdf = read_urls_file()\n",
    "    url = urlsdf.loc[(urlsdf[\"Website\"] == website) & (urlsdf[\"DocId\"] == docid),\"DocUrl\"].values[0]\n",
    "    return url"
   ]
  },
  {
   "cell_type": "code",
   "execution_count": null,
   "metadata": {},
   "outputs": [
    {
     "data": {
      "text/plain": [
       "'Les inondations de plaine : débordement de cours d’eau avec une durée d’immersion longue (prévisibles plusieurs jours ou heures à l’avance).'"
      ]
     },
     "execution_count": null,
     "metadata": {},
     "output_type": "execute_result"
    }
   ],
   "source": [
    "get_text_from_rowindex(datasetdf,100)"
   ]
  },
  {
   "cell_type": "code",
   "execution_count": null,
   "metadata": {},
   "outputs": [
    {
     "data": {
      "text/plain": [
       "'https://www.maif.fr/conseils-prevention/risques-majeurs/inondation.html'"
      ]
     },
     "execution_count": null,
     "metadata": {},
     "output_type": "execute_result"
    }
   ],
   "source": [
    "get_url_from_rowindex(datasetdf,100)"
   ]
  },
  {
   "cell_type": "markdown",
   "metadata": {},
   "source": [
    "### Find text blocks with a specific char or substring"
   ]
  },
  {
   "cell_type": "code",
   "execution_count": null,
   "metadata": {},
   "outputs": [],
   "source": [
    "# export\n",
    "def find_textblocks_with_chars(datasetdf, chars, count=100, ctxsize=20, wrap=False):\n",
    "    if isinstance(chars,int): chars = chr(chars)\n",
    "    textsWithWord = datasetdf[datasetdf[\"Text\"].str.contains(chars,regex=False)]\n",
    "    if count>0 and (textsWithWord[\"Text\"].count()>count):\n",
    "        textsWithWord = textsWithWord.sample(count)\n",
    "    return textsWithWord[\"Text\"].apply(lambda t: getContextAroundWord(t,chars,ctxsize,wrap))\n",
    "\n",
    "def getContextAroundWord(text,word,ctxsize=20,wrap=False):\n",
    "    idx = text.index(word)\n",
    "    start = max(idx-ctxsize,0)\n",
    "    padbefore = -min(idx-ctxsize,0)\n",
    "    end = min(idx+len(word)+ctxsize,len(text))\n",
    "    passage = text[start:end+1].replace(chr(160),\" \")\n",
    "    if(wrap):\n",
    "        passage = passage.replace(word,\"[\"+word+\"]\")\n",
    "    padafter = (2*ctxsize+len(word)+1)-len(passage)-padbefore\n",
    "    if(wrap):\n",
    "        padafter = padafter+2\n",
    "    paddedpassage = (\" \"*padbefore) + passage + (\" \"*padafter)\n",
    "    return paddedpassage"
   ]
  },
  {
   "cell_type": "code",
   "execution_count": null,
   "metadata": {},
   "outputs": [
    {
     "data": {
      "text/plain": [
       "549610    ème avec votre rétroviseur, il se peut que\n",
       "123839     vitre brisée, rétroviseur endommagé voire\n",
       "234116    ects, dans les rétroviseurs intérieurs et \n",
       "544490    a fixation des rétroviseurs intérieurs et \n",
       "485535    essoire sur le rétroviseur intérieur      \n",
       "113829    tilisation des rétroviseurs ou des clignot\n",
       "560539    tionnement des rétroviseurs.              \n",
       "341116     de glaces aux rétroviseurs, feux arrière \n",
       "503691    er, hormis les rétroviseurs !             \n",
       "485907     ampoules, les rétroviseurs et le toit ouv\n",
       "339917    liers dans les rétroviseurs… C’est une act\n",
       "496069    et onéreuses : rétroviseurs électriques, r\n",
       "171367    t utilisez vos rétroviseurs               \n",
       "439278    ortière rayée, rétroviseur cassé, tags : l\n",
       "433579    garde dans tes rétroviseurs avant d’ouvrir\n",
       "452691    bilité dans le rétroviseur extérieur ou si\n",
       "107934    nt varier. Les rétroviseurs et les blocs-p\n",
       "155443     même pour les rétroviseurs : si vous n’av\n",
       "541277    atigue dans le rétroviseur : le vôtre !   \n",
       "523871     plus dans les rétroviseurs.              \n",
       "Name: Text, dtype: object"
      ]
     },
     "execution_count": null,
     "metadata": {},
     "output_type": "execute_result"
    }
   ],
   "source": [
    "find_textblocks_with_chars(datasetdf,\"rétroviseur\",count=20,ctxsize=15)"
   ]
  },
  {
   "cell_type": "code",
   "execution_count": null,
   "metadata": {},
   "outputs": [
    {
     "data": {
      "text/plain": [
       "530109    ’à leur élimination [ﬁ]nale , même lorsque l\n",
       "504865    estisseur est simpli[ﬁ]ée lorsque le bail es\n",
       "143023    udiants modestes en [ﬁ]nançant des épiceries\n",
       "432161    s, dont certains pro[ﬁ]ls présentent un risq\n",
       "16437      et individuelle con[ﬁ]rmant ainsi sa positi\n",
       "357361    r des segments spéci[ﬁ]ques ont été égalemen\n",
       "479694    nt règlementaire et [ﬁ]nancier, La Mondiale \n",
       "139684    alisation. Selon la [ﬁ]scalité en vigueur au\n",
       "283976    ève de la catégorie [ﬁ]scale des revenus fon\n",
       "487638     la lutte contre la [ﬁ]nance de l’ombre limi\n",
       "Name: Text, dtype: object"
      ]
     },
     "execution_count": null,
     "metadata": {},
     "output_type": "execute_result"
    }
   ],
   "source": [
    "find_textblocks_with_chars(datasetdf,64257,count=10,wrap=True)"
   ]
  },
  {
   "cell_type": "code",
   "execution_count": null,
   "metadata": {},
   "outputs": [
    {
     "name": "stdout",
     "output_type": "stream",
     "text": [
      "Converted 00_core.ipynb.\n",
      "Converted 01_datasets.ipynb.\n",
      "Converted 02_chars.ipynb.\n",
      "Converted index.ipynb.\n"
     ]
    }
   ],
   "source": [
    "#hide\n",
    "from nbdev.export import notebook2script\n",
    "notebook2script()"
   ]
  },
  {
   "cell_type": "code",
   "execution_count": null,
   "metadata": {},
   "outputs": [],
   "source": []
  }
 ],
 "metadata": {
  "kernelspec": {
   "display_name": "Python 3",
   "language": "python",
   "name": "python3"
  }
 },
 "nbformat": 4,
 "nbformat_minor": 2
}
