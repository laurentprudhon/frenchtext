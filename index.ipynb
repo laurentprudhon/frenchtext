{
 "cells": [
  {
   "cell_type": "markdown",
   "metadata": {},
   "source": [
    "# frenchtext\n",
    "\n",
    "> NLP library to process french text."
   ]
  },
  {
   "cell_type": "markdown",
   "metadata": {},
   "source": [
    "In this early pre-version, the library provides :\n",
    "- datasets to train business-oriented french text models\n",
    "- a characters normalization pipeline tailored for french text"
   ]
  },
  {
   "cell_type": "markdown",
   "metadata": {},
   "source": [
    "## Install"
   ]
  },
  {
   "cell_type": "markdown",
   "metadata": {},
   "source": [
    "`pip install frenchtext`"
   ]
  },
  {
   "cell_type": "markdown",
   "metadata": {},
   "source": [
    "## Dependencies"
   ]
  },
  {
   "cell_type": "markdown",
   "metadata": {},
   "source": [
    "- [pandas](https://pandas.pydata.org/)\n",
    "- [pyarrow](https://arrow.apache.org/docs/python/)\n",
    "- [requests](https://requests.readthedocs.io/en/latest/)\n",
    "- [fastprogress](https://github.com/fastai/fastprogress)"
   ]
  },
  {
   "cell_type": "markdown",
   "metadata": {},
   "source": [
    "## Licence"
   ]
  },
  {
   "cell_type": "markdown",
   "metadata": {},
   "source": [
    "APACHE licence 2.0 : https://www.apache.org/licenses/LICENSE-2.0"
   ]
  },
  {
   "cell_type": "markdown",
   "metadata": {},
   "source": [
    "## How to use"
   ]
  },
  {
   "cell_type": "markdown",
   "metadata": {},
   "source": [
    "The detailed documentation for each module is available through the menu on the left side of this page."
   ]
  },
  {
   "cell_type": "markdown",
   "metadata": {},
   "source": [
    "You will find below an overview of the library."
   ]
  },
  {
   "cell_type": "markdown",
   "metadata": {},
   "source": [
    "## French datasets"
   ]
  },
  {
   "cell_type": "markdown",
   "metadata": {},
   "source": [
    "### Data sources"
   ]
  },
  {
   "cell_type": "markdown",
   "metadata": {},
   "source": [
    "The text content of the main french websites in the domain of finance and business (+ wikipedia) was extracted in september 2019 using [nlptextdoc](https://github.com/laurentprudhon/nlptextdoc).\n",
    "\n",
    "This extraction was done as \"politely\" as possible:\n",
    "- extract only freely and publicly available content\n",
    "- respect the robots.txt directives of each website (pages forbidden for indexing, maximum extraction rate)\n",
    "- detect when websites use tools to prevent indexing (like Datadome) and abort the crawl\n",
    "\n",
    "**IMPORTANT: The original authors of the websites own the copyright on all text blocks in this dataset.**\n",
    "\n",
    "To be able to link each text block to its original author, we track the origin URL of each text block throughout the whole process.\n",
    "\n",
    "**YOU CAN'T REUSE THE TEXT BLOCKS FOR ANY PURPOSE EXCEPT TRAINING A NATURAL LANGUAGE PROCESSING MODEL.**\n",
    "\n",
    "See the new European copyright rules : [European Parliament approves new copyright rules for the internet](https://www.europarl.europa.eu/news/en/headlines/priorities/copyright/20190321IPR32110/european-parliament-approves-new-copyright-rules-for-the-internet)\n",
    "\n",
    "\"*The directive aims to make it easier for copyrighted material to be used freely through text and data mining, thereby removing a significant competitive disadvantage that European researchers currently face.*\"\n",
    "\n",
    "=> 131 websites and 2 564 755 HTML pages"
   ]
  },
  {
   "cell_type": "markdown",
   "metadata": {},
   "source": [
    "### Data preparation"
   ]
  },
  {
   "cell_type": "markdown",
   "metadata": {},
   "source": [
    "The text blocks were then:\n",
    "- deduplicated to keep only distinct text blocks for each website (forgetting part of the original document structure), \n",
    "- tagged (but not filtered) by language (using https://fasttext.cc/docs/en/language-identification.html),\n",
    "- grouped in categories according to the main theme of the original website,\n",
    "- split in [Pandas](https://pandas.pydata.org/) dataframes of size < 2 GB.\n",
    "\n",
    "=> 10 categories: 'Assurance', 'Banque', 'Bourse', 'Comparateur', 'Crédit', 'Forum', 'Institution', 'Presse', 'SiteInfo', 'Wikipedia'"
   ]
  },
  {
   "cell_type": "markdown",
   "metadata": {},
   "source": [
    "In each dataframe, the text blocks were additionnaly **SHUFFLED IN A RANDOM ORDER** to make it very difficult to reconstruct the original articles (safety measure to help protect the copyrights of the authors).\n",
    "\n",
    "The results of this second step can be downloaded in the *config.datasets* directory, as dataframes serialized in the [feather format](https://arrow.apache.org/docs/python/ipc.html?highlight=feather#feather-format), in files named according to the 'DatasetFile' column of the datasets table.\n",
    "\n",
    "=> 19 dataset files: 'assurance', 'banque', 'bourse', 'comparateur', 'crédit', 'forum', 'institution', 'presse-1', 'presse-2', 'presse-3', 'presse-4', 'presse-5', 'presse-6', 'siteinfo', 'wikipedia-1', 'wikipedia-2', 'wikipedia-3', 'wikipedia-4', 'wikipedia-5'"
   ]
  },
  {
   "cell_type": "markdown",
   "metadata": {},
   "source": [
    "### Dataset size"
   ]
  },
  {
   "cell_type": "markdown",
   "metadata": {},
   "source": [
    "The number of words in each text block was computed using the default french tokenizer from [spaCy](https://spacy.io/) v2.1.\n",
    "\n",
    "This business-oriented dataset contains **2 billion french words**.\n",
    "\n",
    "Here is a summary of the number of words contributed by each category **in millions**:\n",
    "\n",
    "- Assurance : 12\n",
    "- Banque : 20\n",
    "- Bourse : 26\n",
    "- Comparateur :\t20\n",
    "- Crédit : 1\n",
    "- Forum : 152\n",
    "- Institution : 4\n",
    "- Presse : 963\n",
    "- SiteInfo : 78\n",
    "- Wikipedia : 727"
   ]
  },
  {
   "cell_type": "markdown",
   "metadata": {},
   "source": [
    "### Dataset files"
   ]
  },
  {
   "cell_type": "code",
   "execution_count": null,
   "metadata": {},
   "outputs": [],
   "source": [
    "from frenchtext.core import *\n",
    "from frenchtext.datasets import *"
   ]
  },
  {
   "cell_type": "markdown",
   "metadata": {},
   "source": [
    "List available dataset files :"
   ]
  },
  {
   "cell_type": "code",
   "execution_count": null,
   "metadata": {},
   "outputs": [
    {
     "data": {
      "text/plain": [
       "['assurance',\n",
       " 'banque',\n",
       " 'bourse',\n",
       " 'comparateur',\n",
       " 'crédit',\n",
       " 'forum',\n",
       " 'institution',\n",
       " 'presse-1',\n",
       " 'presse-2',\n",
       " 'presse-3',\n",
       " 'presse-4',\n",
       " 'presse-5',\n",
       " 'presse-6',\n",
       " 'siteinfo',\n",
       " 'wikipedia-1',\n",
       " 'wikipedia-2',\n",
       " 'wikipedia-3',\n",
       " 'wikipedia-4',\n",
       " 'wikipedia-5']"
      ]
     },
     "execution_count": null,
     "metadata": {},
     "output_type": "execute_result"
    }
   ],
   "source": [
    "datasetfiles = list_dataset_files()\n",
    "datasetfiles"
   ]
  },
  {
   "cell_type": "markdown",
   "metadata": {},
   "source": [
    "Source websites and number of words in each dataset file :"
   ]
  },
  {
   "cell_type": "code",
   "execution_count": null,
   "metadata": {},
   "outputs": [
    {
     "data": {
      "text/html": [
       "<div>\n",
       "<style scoped>\n",
       "    .dataframe tbody tr th:only-of-type {\n",
       "        vertical-align: middle;\n",
       "    }\n",
       "\n",
       "    .dataframe tbody tr th {\n",
       "        vertical-align: top;\n",
       "    }\n",
       "\n",
       "    .dataframe thead th {\n",
       "        text-align: right;\n",
       "    }\n",
       "</style>\n",
       "<table border=\"1\" class=\"dataframe\">\n",
       "  <thead>\n",
       "    <tr style=\"text-align: right;\">\n",
       "      <th></th>\n",
       "      <th>DatasetFile</th>\n",
       "      <th>Url</th>\n",
       "      <th>Pages</th>\n",
       "      <th>Words</th>\n",
       "    </tr>\n",
       "  </thead>\n",
       "  <tbody>\n",
       "    <tr>\n",
       "      <th>80</th>\n",
       "      <td>comparateur</td>\n",
       "      <td>https://www.panorabanques.com/</td>\n",
       "      <td>4341</td>\n",
       "      <td>2584038</td>\n",
       "    </tr>\n",
       "    <tr>\n",
       "      <th>81</th>\n",
       "      <td>crédit</td>\n",
       "      <td>https://www.cetelem.fr/</td>\n",
       "      <td>274</td>\n",
       "      <td>157191</td>\n",
       "    </tr>\n",
       "    <tr>\n",
       "      <th>82</th>\n",
       "      <td>crédit</td>\n",
       "      <td>https://www.cofidis.fr/</td>\n",
       "      <td>347</td>\n",
       "      <td>243904</td>\n",
       "    </tr>\n",
       "    <tr>\n",
       "      <th>83</th>\n",
       "      <td>crédit</td>\n",
       "      <td>https://www.cofinoga.fr/</td>\n",
       "      <td>413</td>\n",
       "      <td>86796</td>\n",
       "    </tr>\n",
       "    <tr>\n",
       "      <th>84</th>\n",
       "      <td>crédit</td>\n",
       "      <td>https://www.sofinco.fr/</td>\n",
       "      <td>916</td>\n",
       "      <td>597221</td>\n",
       "    </tr>\n",
       "    <tr>\n",
       "      <th>85</th>\n",
       "      <td>crédit</td>\n",
       "      <td>https://www.younited-credit.com/</td>\n",
       "      <td>1341</td>\n",
       "      <td>665115</td>\n",
       "    </tr>\n",
       "    <tr>\n",
       "      <th>86</th>\n",
       "      <td>forum</td>\n",
       "      <td>https://droit-finances.commentcamarche.com/</td>\n",
       "      <td>96450</td>\n",
       "      <td>56120562</td>\n",
       "    </tr>\n",
       "    <tr>\n",
       "      <th>87</th>\n",
       "      <td>forum</td>\n",
       "      <td>http://forum.doctissimo.fr/famille/argent-budg...</td>\n",
       "      <td>26981</td>\n",
       "      <td>61020453</td>\n",
       "    </tr>\n",
       "    <tr>\n",
       "      <th>88</th>\n",
       "      <td>forum</td>\n",
       "      <td>http://forum.doctissimo.fr/viepratique/finance...</td>\n",
       "      <td>5745</td>\n",
       "      <td>4962230</td>\n",
       "    </tr>\n",
       "    <tr>\n",
       "      <th>89</th>\n",
       "      <td>forum</td>\n",
       "      <td>http://forum.doctissimo.fr/viepratique/Impots/...</td>\n",
       "      <td>2338</td>\n",
       "      <td>1422143</td>\n",
       "    </tr>\n",
       "    <tr>\n",
       "      <th>90</th>\n",
       "      <td>forum</td>\n",
       "      <td>https://forum.lesarnaques.com/assurance-automo...</td>\n",
       "      <td>3530</td>\n",
       "      <td>3085101</td>\n",
       "    </tr>\n",
       "    <tr>\n",
       "      <th>91</th>\n",
       "      <td>forum</td>\n",
       "      <td>https://forum.lesarnaques.com/banque/</td>\n",
       "      <td>6206</td>\n",
       "      <td>5766116</td>\n",
       "    </tr>\n",
       "    <tr>\n",
       "      <th>92</th>\n",
       "      <td>forum</td>\n",
       "      <td>https://www.60millions-mag.com/forum/</td>\n",
       "      <td>3692</td>\n",
       "      <td>2222882</td>\n",
       "    </tr>\n",
       "    <tr>\n",
       "      <th>93</th>\n",
       "      <td>forum</td>\n",
       "      <td>https://www.boursorama.com/patrimoine/forum/</td>\n",
       "      <td>13020</td>\n",
       "      <td>10497065</td>\n",
       "    </tr>\n",
       "    <tr>\n",
       "      <th>94</th>\n",
       "      <td>forum</td>\n",
       "      <td>https://www.cbanque.com/forums/</td>\n",
       "      <td>12098</td>\n",
       "      <td>7702002</td>\n",
       "    </tr>\n",
       "    <tr>\n",
       "      <th>95</th>\n",
       "      <td>institution</td>\n",
       "      <td>https://acpr.banque-france.fr/</td>\n",
       "      <td>470</td>\n",
       "      <td>51397</td>\n",
       "    </tr>\n",
       "    <tr>\n",
       "      <th>96</th>\n",
       "      <td>institution</td>\n",
       "      <td>https://www.banque-france.fr/</td>\n",
       "      <td>728</td>\n",
       "      <td>75101</td>\n",
       "    </tr>\n",
       "    <tr>\n",
       "      <th>97</th>\n",
       "      <td>institution</td>\n",
       "      <td>https://www.ffa-assurance.fr/</td>\n",
       "      <td>301</td>\n",
       "      <td>146499</td>\n",
       "    </tr>\n",
       "    <tr>\n",
       "      <th>98</th>\n",
       "      <td>institution</td>\n",
       "      <td>https://www.economie.gouv.fr/</td>\n",
       "      <td>2720</td>\n",
       "      <td>159663</td>\n",
       "    </tr>\n",
       "    <tr>\n",
       "      <th>99</th>\n",
       "      <td>institution</td>\n",
       "      <td>https://www.impots.gouv.fr/portail/</td>\n",
       "      <td>1631</td>\n",
       "      <td>653735</td>\n",
       "    </tr>\n",
       "  </tbody>\n",
       "</table>\n",
       "</div>"
      ],
      "text/plain": [
       "    DatasetFile                                                Url  Pages  \\\n",
       "80  comparateur                     https://www.panorabanques.com/   4341   \n",
       "81       crédit                            https://www.cetelem.fr/    274   \n",
       "82       crédit                            https://www.cofidis.fr/    347   \n",
       "83       crédit                           https://www.cofinoga.fr/    413   \n",
       "84       crédit                            https://www.sofinco.fr/    916   \n",
       "85       crédit                   https://www.younited-credit.com/   1341   \n",
       "86        forum        https://droit-finances.commentcamarche.com/  96450   \n",
       "87        forum  http://forum.doctissimo.fr/famille/argent-budg...  26981   \n",
       "88        forum  http://forum.doctissimo.fr/viepratique/finance...   5745   \n",
       "89        forum  http://forum.doctissimo.fr/viepratique/Impots/...   2338   \n",
       "90        forum  https://forum.lesarnaques.com/assurance-automo...   3530   \n",
       "91        forum              https://forum.lesarnaques.com/banque/   6206   \n",
       "92        forum              https://www.60millions-mag.com/forum/   3692   \n",
       "93        forum       https://www.boursorama.com/patrimoine/forum/  13020   \n",
       "94        forum                    https://www.cbanque.com/forums/  12098   \n",
       "95  institution                     https://acpr.banque-france.fr/    470   \n",
       "96  institution                      https://www.banque-france.fr/    728   \n",
       "97  institution                      https://www.ffa-assurance.fr/    301   \n",
       "98  institution                      https://www.economie.gouv.fr/   2720   \n",
       "99  institution                https://www.impots.gouv.fr/portail/   1631   \n",
       "\n",
       "       Words  \n",
       "80   2584038  \n",
       "81    157191  \n",
       "82    243904  \n",
       "83     86796  \n",
       "84    597221  \n",
       "85    665115  \n",
       "86  56120562  \n",
       "87  61020453  \n",
       "88   4962230  \n",
       "89   1422143  \n",
       "90   3085101  \n",
       "91   5766116  \n",
       "92   2222882  \n",
       "93  10497065  \n",
       "94   7702002  \n",
       "95     51397  \n",
       "96     75101  \n",
       "97    146499  \n",
       "98    159663  \n",
       "99    653735  "
      ]
     },
     "execution_count": null,
     "metadata": {},
     "output_type": "execute_result"
    }
   ],
   "source": [
    "datasetsdf = list_datasets()\n",
    "datasetsdf[[\"DatasetFile\",\"Url\",\"Pages\",\"Words\"]].iloc[80:100]"
   ]
  },
  {
   "cell_type": "markdown",
   "metadata": {},
   "source": [
    "### Download dataset files"
   ]
  },
  {
   "cell_type": "code",
   "execution_count": null,
   "metadata": {},
   "outputs": [
    {
     "name": "stdout",
     "output_type": "stream",
     "text": [
      "Downloading dataset file : assurance (17 MB)\n"
     ]
    }
   ],
   "source": [
    "download_dataset_file(\"assurance\")"
   ]
  },
  {
   "cell_type": "code",
   "execution_count": null,
   "metadata": {},
   "outputs": [
    {
     "name": "stdout",
     "output_type": "stream",
     "text": [
      "Downloading dataset file : assurance (17 MB)\n",
      "Downloading dataset file : banque (28 MB)\n",
      "Downloading dataset file : bourse (38 MB)\n",
      "Downloading dataset file : comparateur (28 MB)\n",
      "Downloading dataset file : crédit (2 MB)\n",
      "Downloading dataset file : forum (220 MB)\n",
      "Downloading dataset file : institution (5 MB)\n",
      "Downloading dataset file : presse-1 (218 MB)\n",
      "Downloading dataset file : presse-2 (196 MB)\n",
      "Downloading dataset file : presse-3 (190 MB)\n",
      "Downloading dataset file : presse-4 (234 MB)\n",
      "Downloading dataset file : presse-5 (269 MB)\n",
      "Downloading dataset file : presse-6 (334 MB)\n",
      "Downloading dataset file : siteinfo (116 MB)\n",
      "Downloading dataset file : wikipedia-1 (131 MB)\n",
      "Downloading dataset file : wikipedia-2 (182 MB)\n",
      "Downloading dataset file : wikipedia-3 (263 MB)\n",
      "Downloading dataset file : wikipedia-4 (269 MB)\n",
      "Downloading dataset file : wikipedia-5 (267 MB)\n"
     ]
    }
   ],
   "source": [
    "download_all_datasets()"
   ]
  },
  {
   "cell_type": "markdown",
   "metadata": {},
   "source": [
    "You can change the local directory where the dataset files are downloaded :"
   ]
  },
  {
   "cell_type": "code",
   "execution_count": null,
   "metadata": {},
   "outputs": [
    {
     "data": {
      "text/plain": [
       "PosixPath('/home/laurent/.frenchtext/datasets')"
      ]
     },
     "execution_count": null,
     "metadata": {},
     "output_type": "execute_result"
    }
   ],
   "source": [
    "config.datasets"
   ]
  },
  {
   "cell_type": "code",
   "execution_count": null,
   "metadata": {},
   "outputs": [],
   "source": [
    "config[\"datasets_path\"] = \"/tmp/datasets\"\n",
    "config.datasets.mkdir(parents=True, exist_ok=True)"
   ]
  },
  {
   "cell_type": "code",
   "execution_count": null,
   "metadata": {},
   "outputs": [
    {
     "data": {
      "text/plain": [
       "PosixPath('/tmp/datasets')"
      ]
     },
     "execution_count": null,
     "metadata": {},
     "output_type": "execute_result"
    }
   ],
   "source": [
    "config.datasets"
   ]
  },
  {
   "cell_type": "markdown",
   "metadata": {},
   "source": [
    "### Read dataset files"
   ]
  },
  {
   "cell_type": "code",
   "execution_count": null,
   "metadata": {},
   "outputs": [
    {
     "name": "stdout",
     "output_type": "stream",
     "text": [
      "Loaded dataframe for dataset assurance : 563613 text blocks\n"
     ]
    },
    {
     "data": {
      "text/html": [
       "<div>\n",
       "<style scoped>\n",
       "    .dataframe tbody tr th:only-of-type {\n",
       "        vertical-align: middle;\n",
       "    }\n",
       "\n",
       "    .dataframe tbody tr th {\n",
       "        vertical-align: top;\n",
       "    }\n",
       "\n",
       "    .dataframe thead th {\n",
       "        text-align: right;\n",
       "    }\n",
       "</style>\n",
       "<table border=\"1\" class=\"dataframe\">\n",
       "  <thead>\n",
       "    <tr style=\"text-align: right;\">\n",
       "      <th></th>\n",
       "      <th>Website</th>\n",
       "      <th>DocId</th>\n",
       "      <th>DocEltType</th>\n",
       "      <th>DocEltCmd</th>\n",
       "      <th>NestingLevel</th>\n",
       "      <th>Text</th>\n",
       "      <th>Lang</th>\n",
       "      <th>Words</th>\n",
       "      <th>Unique</th>\n",
       "    </tr>\n",
       "  </thead>\n",
       "  <tbody>\n",
       "    <tr>\n",
       "      <th>0</th>\n",
       "      <td>11</td>\n",
       "      <td>22332</td>\n",
       "      <td>ListItem</td>\n",
       "      <td>Text</td>\n",
       "      <td>2</td>\n",
       "      <td>5 tournages catastrophe pour un assureur</td>\n",
       "      <td>fr</td>\n",
       "      <td>6</td>\n",
       "      <td>True</td>\n",
       "    </tr>\n",
       "    <tr>\n",
       "      <th>1</th>\n",
       "      <td>74</td>\n",
       "      <td>710</td>\n",
       "      <td>Section</td>\n",
       "      <td>Start</td>\n",
       "      <td>1</td>\n",
       "      <td>Tout connaitre sur la nouvelle formation post-...</td>\n",
       "      <td>fr</td>\n",
       "      <td>7</td>\n",
       "      <td>True</td>\n",
       "    </tr>\n",
       "    <tr>\n",
       "      <th>2</th>\n",
       "      <td>11</td>\n",
       "      <td>12082</td>\n",
       "      <td>TextBlock</td>\n",
       "      <td>Text</td>\n",
       "      <td>1</td>\n",
       "      <td>Votre Agent Mandataire AXA - Civry Marie Claud...</td>\n",
       "      <td>?</td>\n",
       "      <td>18</td>\n",
       "      <td>True</td>\n",
       "    </tr>\n",
       "    <tr>\n",
       "      <th>3</th>\n",
       "      <td>87</td>\n",
       "      <td>461</td>\n",
       "      <td>TextBlock</td>\n",
       "      <td>Text</td>\n",
       "      <td>4</td>\n",
       "      <td>60 ans et 4 mois</td>\n",
       "      <td>fr</td>\n",
       "      <td>5</td>\n",
       "      <td>True</td>\n",
       "    </tr>\n",
       "    <tr>\n",
       "      <th>4</th>\n",
       "      <td>7</td>\n",
       "      <td>200</td>\n",
       "      <td>TextBlock</td>\n",
       "      <td>Text</td>\n",
       "      <td>1</td>\n",
       "      <td>Mon devis sur mesure</td>\n",
       "      <td>fr</td>\n",
       "      <td>4</td>\n",
       "      <td>True</td>\n",
       "    </tr>\n",
       "    <tr>\n",
       "      <th>...</th>\n",
       "      <td>...</td>\n",
       "      <td>...</td>\n",
       "      <td>...</td>\n",
       "      <td>...</td>\n",
       "      <td>...</td>\n",
       "      <td>...</td>\n",
       "      <td>...</td>\n",
       "      <td>...</td>\n",
       "      <td>...</td>\n",
       "    </tr>\n",
       "    <tr>\n",
       "      <th>563608</th>\n",
       "      <td>138</td>\n",
       "      <td>255</td>\n",
       "      <td>Section</td>\n",
       "      <td>Start</td>\n",
       "      <td>2</td>\n",
       "      <td>Les autres pouvoirs de police</td>\n",
       "      <td>fr</td>\n",
       "      <td>5</td>\n",
       "      <td>True</td>\n",
       "    </tr>\n",
       "    <tr>\n",
       "      <th>563609</th>\n",
       "      <td>11</td>\n",
       "      <td>19483</td>\n",
       "      <td>TextBlock</td>\n",
       "      <td>Text</td>\n",
       "      <td>1</td>\n",
       "      <td>Yves Nicolau assurance Laon</td>\n",
       "      <td>?</td>\n",
       "      <td>4</td>\n",
       "      <td>True</td>\n",
       "    </tr>\n",
       "    <tr>\n",
       "      <th>563610</th>\n",
       "      <td>106</td>\n",
       "      <td>1644</td>\n",
       "      <td>ListItem</td>\n",
       "      <td>Text</td>\n",
       "      <td>3</td>\n",
       "      <td>Evènements sportifs</td>\n",
       "      <td>fr</td>\n",
       "      <td>2</td>\n",
       "      <td>True</td>\n",
       "    </tr>\n",
       "    <tr>\n",
       "      <th>563611</th>\n",
       "      <td>58</td>\n",
       "      <td>4155</td>\n",
       "      <td>Section</td>\n",
       "      <td>Start</td>\n",
       "      <td>1</td>\n",
       "      <td>Agence Groupama Chalon</td>\n",
       "      <td>?</td>\n",
       "      <td>3</td>\n",
       "      <td>True</td>\n",
       "    </tr>\n",
       "    <tr>\n",
       "      <th>563612</th>\n",
       "      <td>10</td>\n",
       "      <td>150</td>\n",
       "      <td>TextBlock</td>\n",
       "      <td>Text</td>\n",
       "      <td>2</td>\n",
       "      <td>Nos agences d'assurance Aviva à OYONNAX sont h...</td>\n",
       "      <td>fr</td>\n",
       "      <td>26</td>\n",
       "      <td>True</td>\n",
       "    </tr>\n",
       "  </tbody>\n",
       "</table>\n",
       "<p>563613 rows × 9 columns</p>\n",
       "</div>"
      ],
      "text/plain": [
       "        Website  DocId DocEltType DocEltCmd  NestingLevel  \\\n",
       "0            11  22332   ListItem      Text             2   \n",
       "1            74    710    Section     Start             1   \n",
       "2            11  12082  TextBlock      Text             1   \n",
       "3            87    461  TextBlock      Text             4   \n",
       "4             7    200  TextBlock      Text             1   \n",
       "...         ...    ...        ...       ...           ...   \n",
       "563608      138    255    Section     Start             2   \n",
       "563609       11  19483  TextBlock      Text             1   \n",
       "563610      106   1644   ListItem      Text             3   \n",
       "563611       58   4155    Section     Start             1   \n",
       "563612       10    150  TextBlock      Text             2   \n",
       "\n",
       "                                                     Text Lang  Words  Unique  \n",
       "0                5 tournages catastrophe pour un assureur   fr      6    True  \n",
       "1       Tout connaitre sur la nouvelle formation post-...   fr      7    True  \n",
       "2       Votre Agent Mandataire AXA - Civry Marie Claud...    ?     18    True  \n",
       "3                                        60 ans et 4 mois   fr      5    True  \n",
       "4                                    Mon devis sur mesure   fr      4    True  \n",
       "...                                                   ...  ...    ...     ...  \n",
       "563608                      Les autres pouvoirs de police   fr      5    True  \n",
       "563609                        Yves Nicolau assurance Laon    ?      4    True  \n",
       "563610                                Evènements sportifs   fr      2    True  \n",
       "563611                             Agence Groupama Chalon    ?      3    True  \n",
       "563612  Nos agences d'assurance Aviva à OYONNAX sont h...   fr     26    True  \n",
       "\n",
       "[563613 rows x 9 columns]"
      ]
     },
     "execution_count": null,
     "metadata": {},
     "output_type": "execute_result"
    }
   ],
   "source": [
    "datasetdf = read_dataset_file(\"assurance\")\n",
    "datasetdf"
   ]
  },
  {
   "cell_type": "markdown",
   "metadata": {},
   "source": [
    "### Access text blocks in dataset files"
   ]
  },
  {
   "cell_type": "markdown",
   "metadata": {},
   "source": [
    "Filter and iterate over the rows of a dataset file :"
   ]
  },
  {
   "cell_type": "code",
   "execution_count": null,
   "metadata": {},
   "outputs": [
    {
     "name": "stdout",
     "output_type": "stream",
     "text": [
      "12 - COORDONNEES\n",
      "41 - 01 30 41 67 33\n",
      "49 - Dmitriy G.\n",
      "57 - Les atouts du Multisupport CONFIANCE\n",
      "74 - 01XXL meribel hiver\n",
      "76 - Garantie en cas de vol\n",
      "87 - Par AXA, le 01/08/2016\n",
      "96 - mgr@enderby.eu\n",
      "127 - 18 place De Strasbourg\n",
      "131 - Saint Gaudens\n"
     ]
    }
   ],
   "source": [
    "rowsiterator = get_rows_from_datasetdf(datasetdf, minwords=None, maxwords=5, lang=\"?\")\n",
    "show_first_rows(rowsiterator,10)"
   ]
  },
  {
   "cell_type": "markdown",
   "metadata": {},
   "source": [
    "Filter and iterate over the text blocks of a full dataset (across multiple files) :"
   ]
  },
  {
   "cell_type": "code",
   "execution_count": null,
   "metadata": {},
   "outputs": [
    {
     "name": "stdout",
     "output_type": "stream",
     "text": [
      "Loaded dataframe for dataset assurance : 563613 text blocks\n",
      "2001 - Rééquipement à neuf à vie\n",
      "2002 - Définition Conducteur secondaire- Lexique\n",
      "2003 - Comment éviter les fraudes\n",
      "2004 - Comment demander un remboursement santé - GENERALI\n",
      "2005 - Simulateur pour connaître les obligations de votre accord de branche\n",
      "2006 - Complémentaire Epargne retraite des indépendants et TNS - Malakoff Médéric\n",
      "2007 - Experts-Comptables, découvrez la mission épargne salariale\n",
      "2008 - Vous n’êtes pas encore client :\n",
      "2009 - Actualités (Page 6) | ameli.fr | Pharmacien\n",
      "2010 - Dépression : quelle prise en charge ? - Matmut\n"
     ]
    }
   ],
   "source": [
    "textiterator = get_textblocks_from_dataset(\"Assurance\", minwords=None, maxwords=10, lang=\"fr\")\n",
    "show_first_textblocks(textiterator,skip=2000,count=10)"
   ]
  },
  {
   "cell_type": "markdown",
   "metadata": {},
   "source": [
    "Access a specific row :"
   ]
  },
  {
   "cell_type": "code",
   "execution_count": null,
   "metadata": {},
   "outputs": [
    {
     "data": {
      "text/plain": [
       "'Les inondations de plaine : débordement de cours d’eau avec une durée d’immersion longue (prévisibles plusieurs jours ou heures à l’avance).'"
      ]
     },
     "execution_count": null,
     "metadata": {},
     "output_type": "execute_result"
    }
   ],
   "source": [
    "get_text_from_rowindex(datasetdf,100)"
   ]
  },
  {
   "cell_type": "markdown",
   "metadata": {},
   "source": [
    "Find text blocks with a specific char or substring :"
   ]
  },
  {
   "cell_type": "code",
   "execution_count": null,
   "metadata": {},
   "outputs": [
    {
     "data": {
      "text/plain": [
       "350594     ore dans notre rétroviseur gauche lorsque \n",
       "149029     de glace ? Les rétroviseurs ainsi que les \n",
       "51349      ace. Quant aux rétroviseurs, ils le sont d\n",
       "310354     vant, arrière, rétroviseurs et vitres laté\n",
       "489866    \\naussi dans le rétroviseur pour ne pas se \n",
       "364550     ôté ou sous le rétroviseur intérieur de vo\n",
       "560539     tionnement des rétroviseurs.              \n",
       "560700     é (pare-brise, rétroviseurs…),            \n",
       "223621     riorations des rétroviseurs et des phares.\n",
       "543903     es miroirs des rétroviseurs lorsqu’ils peu\n",
       "502075      logo dans son rétroviseur et par un signa\n",
       "53237      vous cassez le rétroviseur d’une voiture. \n",
       "310456      éraflures, un rétroviseur abîmé, ou un au\n",
       "375158     ant, moteur de rétroviseurs…              \n",
       "539914     nt et arrière, rétroviseurs intérieurs et \n",
       "171367     t utilisez vos rétroviseurs               \n",
       "485058      ainsi que les rétroviseurs ne sont pas ga\n",
       "277390     ant, moteur de rétroviseurs...            \n",
       "20222      sont offerts : rétroviseurs électriques, c\n",
       "317634     res, y compris rétroviseurs et feux       \n",
       "Name: Text, dtype: object"
      ]
     },
     "execution_count": null,
     "metadata": {},
     "output_type": "execute_result"
    }
   ],
   "source": [
    "find_textblocks_with_chars(datasetdf,\"rétroviseur\",count=20,ctxsize=15)"
   ]
  },
  {
   "cell_type": "code",
   "execution_count": null,
   "metadata": {},
   "outputs": [
    {
     "data": {
      "text/plain": [
       "175413    x besoins de diversi[ﬁ]cation des placements\n",
       "337398    e 30 villes ont béné[ﬁ]cié de ces animations\n",
       "265114    nt règlementaire et [ﬁ]nancier, nous accompa\n",
       "74267          La Fondation a [ﬁ]nancé depuis 2009, l’\n",
       "424584    tion de l’équilibre [ﬁ]nancier des régimes d\n",
       "219195    d, Jérôme Powell con[ﬁ]rmera que, dans l’att\n",
       "489511    s besoins de diversi[ﬁ]cation de la clientèl\n",
       "517563    si en présence d’un [ﬁ]nancement par crédit,\n",
       "479694    nt règlementaire et [ﬁ]nancier, La Mondiale \n",
       "252202    n de disponibilités [ﬁ]nancières mais aussi,\n",
       "Name: Text, dtype: object"
      ]
     },
     "execution_count": null,
     "metadata": {},
     "output_type": "execute_result"
    }
   ],
   "source": [
    "find_textblocks_with_chars(datasetdf,64257,count=10,wrap=True)"
   ]
  },
  {
   "cell_type": "markdown",
   "metadata": {},
   "source": [
    "### Track the source URL for each text block "
   ]
  },
  {
   "cell_type": "markdown",
   "metadata": {},
   "source": [
    "Optionally download and read urls file to track the origin of each text block :"
   ]
  },
  {
   "cell_type": "code",
   "execution_count": null,
   "metadata": {},
   "outputs": [
    {
     "name": "stdout",
     "output_type": "stream",
     "text": [
      "Loaded datasets urls : 2668787 urls\n"
     ]
    },
    {
     "data": {
      "text/html": [
       "<div>\n",
       "<style scoped>\n",
       "    .dataframe tbody tr th:only-of-type {\n",
       "        vertical-align: middle;\n",
       "    }\n",
       "\n",
       "    .dataframe tbody tr th {\n",
       "        vertical-align: top;\n",
       "    }\n",
       "\n",
       "    .dataframe thead th {\n",
       "        text-align: right;\n",
       "    }\n",
       "</style>\n",
       "<table border=\"1\" class=\"dataframe\">\n",
       "  <thead>\n",
       "    <tr style=\"text-align: right;\">\n",
       "      <th></th>\n",
       "      <th>Website</th>\n",
       "      <th>DocId</th>\n",
       "      <th>DocUrl</th>\n",
       "      <th>Words</th>\n",
       "      <th>fr</th>\n",
       "      <th>en</th>\n",
       "      <th>de</th>\n",
       "      <th>es</th>\n",
       "      <th>?</th>\n",
       "      <th>%fr</th>\n",
       "      <th>%en</th>\n",
       "      <th>%de</th>\n",
       "      <th>%es</th>\n",
       "      <th>%?</th>\n",
       "    </tr>\n",
       "  </thead>\n",
       "  <tbody>\n",
       "    <tr>\n",
       "      <th>0</th>\n",
       "      <td>4</td>\n",
       "      <td>1</td>\n",
       "      <td>https://www.afer.fr/</td>\n",
       "      <td>573.0</td>\n",
       "      <td>524.0</td>\n",
       "      <td>3.0</td>\n",
       "      <td>0.0</td>\n",
       "      <td>0.0</td>\n",
       "      <td>46.0</td>\n",
       "      <td>0.914485</td>\n",
       "      <td>0.005236</td>\n",
       "      <td>0.0</td>\n",
       "      <td>0.0</td>\n",
       "      <td>0.080279</td>\n",
       "    </tr>\n",
       "    <tr>\n",
       "      <th>1</th>\n",
       "      <td>4</td>\n",
       "      <td>2</td>\n",
       "      <td>https://www.afer.fr/afer/adhesion/</td>\n",
       "      <td>74.0</td>\n",
       "      <td>74.0</td>\n",
       "      <td>0.0</td>\n",
       "      <td>0.0</td>\n",
       "      <td>0.0</td>\n",
       "      <td>0.0</td>\n",
       "      <td>1.000000</td>\n",
       "      <td>0.000000</td>\n",
       "      <td>0.0</td>\n",
       "      <td>0.0</td>\n",
       "      <td>0.000000</td>\n",
       "    </tr>\n",
       "    <tr>\n",
       "      <th>2</th>\n",
       "      <td>4</td>\n",
       "      <td>3</td>\n",
       "      <td>https://www.afer.fr/afer/adhesion/adherent-ass...</td>\n",
       "      <td>475.0</td>\n",
       "      <td>457.0</td>\n",
       "      <td>5.0</td>\n",
       "      <td>0.0</td>\n",
       "      <td>0.0</td>\n",
       "      <td>13.0</td>\n",
       "      <td>0.962105</td>\n",
       "      <td>0.010526</td>\n",
       "      <td>0.0</td>\n",
       "      <td>0.0</td>\n",
       "      <td>0.027368</td>\n",
       "    </tr>\n",
       "    <tr>\n",
       "      <th>3</th>\n",
       "      <td>4</td>\n",
       "      <td>4</td>\n",
       "      <td>https://www.afer.fr/afer/adhesion/adherer-assu...</td>\n",
       "      <td>519.0</td>\n",
       "      <td>519.0</td>\n",
       "      <td>0.0</td>\n",
       "      <td>0.0</td>\n",
       "      <td>0.0</td>\n",
       "      <td>0.0</td>\n",
       "      <td>1.000000</td>\n",
       "      <td>0.000000</td>\n",
       "      <td>0.0</td>\n",
       "      <td>0.0</td>\n",
       "      <td>0.000000</td>\n",
       "    </tr>\n",
       "    <tr>\n",
       "      <th>4</th>\n",
       "      <td>4</td>\n",
       "      <td>5</td>\n",
       "      <td>https://www.afer.fr/afer/adhesion/parrainage-a...</td>\n",
       "      <td>355.0</td>\n",
       "      <td>345.0</td>\n",
       "      <td>0.0</td>\n",
       "      <td>0.0</td>\n",
       "      <td>0.0</td>\n",
       "      <td>10.0</td>\n",
       "      <td>0.971831</td>\n",
       "      <td>0.000000</td>\n",
       "      <td>0.0</td>\n",
       "      <td>0.0</td>\n",
       "      <td>0.028169</td>\n",
       "    </tr>\n",
       "  </tbody>\n",
       "</table>\n",
       "</div>"
      ],
      "text/plain": [
       "   Website  DocId                                             DocUrl  Words  \\\n",
       "0        4      1                               https://www.afer.fr/  573.0   \n",
       "1        4      2                 https://www.afer.fr/afer/adhesion/   74.0   \n",
       "2        4      3  https://www.afer.fr/afer/adhesion/adherent-ass...  475.0   \n",
       "3        4      4  https://www.afer.fr/afer/adhesion/adherer-assu...  519.0   \n",
       "4        4      5  https://www.afer.fr/afer/adhesion/parrainage-a...  355.0   \n",
       "\n",
       "      fr   en   de   es     ?       %fr       %en  %de  %es        %?  \n",
       "0  524.0  3.0  0.0  0.0  46.0  0.914485  0.005236  0.0  0.0  0.080279  \n",
       "1   74.0  0.0  0.0  0.0   0.0  1.000000  0.000000  0.0  0.0  0.000000  \n",
       "2  457.0  5.0  0.0  0.0  13.0  0.962105  0.010526  0.0  0.0  0.027368  \n",
       "3  519.0  0.0  0.0  0.0   0.0  1.000000  0.000000  0.0  0.0  0.000000  \n",
       "4  345.0  0.0  0.0  0.0  10.0  0.971831  0.000000  0.0  0.0  0.028169  "
      ]
     },
     "execution_count": null,
     "metadata": {},
     "output_type": "execute_result"
    }
   ],
   "source": [
    "urlsdf = read_urls_file()\n",
    "urlsdf.head()"
   ]
  },
  {
   "cell_type": "code",
   "execution_count": null,
   "metadata": {},
   "outputs": [
    {
     "data": {
      "text/plain": [
       "'Les inondations de plaine : débordement de cours d’eau avec une durée d’immersion longue (prévisibles plusieurs jours ou heures à l’avance).'"
      ]
     },
     "execution_count": null,
     "metadata": {},
     "output_type": "execute_result"
    }
   ],
   "source": [
    "get_text_from_rowindex(datasetdf,100)"
   ]
  },
  {
   "cell_type": "code",
   "execution_count": null,
   "metadata": {},
   "outputs": [
    {
     "data": {
      "text/plain": [
       "'https://www.maif.fr/conseils-prevention/risques-majeurs/inondation.html'"
      ]
     },
     "execution_count": null,
     "metadata": {},
     "output_type": "execute_result"
    }
   ],
   "source": [
    "get_url_from_rowindex(datasetdf, 100)"
   ]
  },
  {
   "cell_type": "markdown",
   "metadata": {},
   "source": [
    "## Characters normalization pipeline"
   ]
  },
  {
   "cell_type": "markdown",
   "metadata": {},
   "source": [
    "### Motivation"
   ]
  },
  {
   "cell_type": "markdown",
   "metadata": {},
   "source": [
    "French datasets often contain several thousands distinct Unicode characters.\n",
    "\n",
    "Characters stats in Wikipedia dataset :\n",
    "- 35.6 billion chars\n",
    "- 13 502 distinct Unicode chars\n",
    "\n",
    "Characters stats in Business dataset :\n",
    "- 27.5 billion chars\n",
    "- 3 763 distinct Unicode chars\n",
    "\n",
    "We need to reduce the number of distinct characters fed to our natural language processing applications, for three reasons :\n",
    "- chars considered by the user as visually equivalent will often produce a different application behavior : this is a huge problem for the user experience\n",
    "- with so many chars, the designer of the NLP application will not be able to reason about all possible combinations : this could harm the explainability of the system\n",
    "- this huge number of distinct characters brings a significant amount complexity the NLP models will have to deal with\n",
    "\n",
    "Characters stats in Wikipedia dataset :\n",
    "- Only 1316 chars more frequent than 1 in 100 million\n",
    "- 99.9987 % of Wikipedia chars would be preserved if we only kept the frequent chars\n",
    "\n",
    "Characters stats in Business dataset :\n",
    "- Only 531 chars more frequent than 1 in 100 million\n",
    "- 99.9996 % of Business chars would be preserved if we only kept the frequent chars\n",
    "\n",
    "We can be smarter than that and replace rare chars with equivalent (or mostly equivalent) more frequent chars to preserve a maximum of information."
   ]
  },
  {
   "cell_type": "markdown",
   "metadata": {},
   "source": [
    "### Target characters set"
   ]
  },
  {
   "cell_type": "markdown",
   "metadata": {},
   "source": [
    "After a detailed study of all the frequent chars, the goal is to design a noramization pipeline which can retain as much information as possible while greatly reducing the number of dinstinct chars.\n",
    "\n",
    "We saw before that it is possible to preserve 99.9996% of the original chars while keeping only 500 distinct chars. By being clever and replacing equivalent chars, we can divide this number by 2 and still retain the same amount of information.\n",
    "\n",
    "It may then be useful to limit the number of distinct characters after normalization to **255 distinct characters** : \n",
    "- if needed, french text chars can then be encoded with a single byte\n",
    "- the list of supported chars can be memorized by NLP application developers and users"
   ]
  },
  {
   "cell_type": "code",
   "execution_count": null,
   "metadata": {},
   "outputs": [],
   "source": [
    "from frenchtext.core import *\n",
    "from frenchtext.chars import *"
   ]
  },
  {
   "cell_type": "markdown",
   "metadata": {},
   "source": [
    "255 supported characters after normalization : "
   ]
  },
  {
   "cell_type": "code",
   "execution_count": null,
   "metadata": {},
   "outputs": [
    {
     "data": {
      "text/html": [
       "<div>\n",
       "<style scoped>\n",
       "    .dataframe tbody tr th:only-of-type {\n",
       "        vertical-align: middle;\n",
       "    }\n",
       "\n",
       "    .dataframe tbody tr th {\n",
       "        vertical-align: top;\n",
       "    }\n",
       "\n",
       "    .dataframe thead th {\n",
       "        text-align: right;\n",
       "    }\n",
       "</style>\n",
       "<table border=\"1\" class=\"dataframe\">\n",
       "  <thead>\n",
       "    <tr style=\"text-align: right;\">\n",
       "      <th></th>\n",
       "      <th>FrCode</th>\n",
       "      <th>Category</th>\n",
       "      <th>SubCategory</th>\n",
       "      <th>Code</th>\n",
       "      <th>Char</th>\n",
       "      <th>CharName</th>\n",
       "      <th>CountBusiness</th>\n",
       "    </tr>\n",
       "  </thead>\n",
       "  <tbody>\n",
       "    <tr>\n",
       "      <th>0</th>\n",
       "      <td>0</td>\n",
       "      <td>separator</td>\n",
       "      <td>control</td>\n",
       "      <td>0</td>\n",
       "      <td>NaN</td>\n",
       "      <td>Reserved - End of string</td>\n",
       "      <td>0</td>\n",
       "    </tr>\n",
       "    <tr>\n",
       "      <th>1</th>\n",
       "      <td>1</td>\n",
       "      <td>separator</td>\n",
       "      <td>space</td>\n",
       "      <td>32</td>\n",
       "      <td></td>\n",
       "      <td>Space</td>\n",
       "      <td>88494564</td>\n",
       "    </tr>\n",
       "    <tr>\n",
       "      <th>2</th>\n",
       "      <td>2</td>\n",
       "      <td>separator</td>\n",
       "      <td>space</td>\n",
       "      <td>10</td>\n",
       "      <td>\\n</td>\n",
       "      <td>Char 10</td>\n",
       "      <td>9588147</td>\n",
       "    </tr>\n",
       "    <tr>\n",
       "      <th>3</th>\n",
       "      <td>3</td>\n",
       "      <td>separator</td>\n",
       "      <td>space</td>\n",
       "      <td>9</td>\n",
       "      <td>\\t</td>\n",
       "      <td>Char 9</td>\n",
       "      <td>1522053</td>\n",
       "    </tr>\n",
       "    <tr>\n",
       "      <th>4</th>\n",
       "      <td>4</td>\n",
       "      <td>separator</td>\n",
       "      <td>punctuation</td>\n",
       "      <td>44</td>\n",
       "      <td>,</td>\n",
       "      <td>Comma</td>\n",
       "      <td>286106887</td>\n",
       "    </tr>\n",
       "    <tr>\n",
       "      <th>...</th>\n",
       "      <td>...</td>\n",
       "      <td>...</td>\n",
       "      <td>...</td>\n",
       "      <td>...</td>\n",
       "      <td>...</td>\n",
       "      <td>...</td>\n",
       "      <td>...</td>\n",
       "    </tr>\n",
       "    <tr>\n",
       "      <th>251</th>\n",
       "      <td>251</td>\n",
       "      <td>emoticon</td>\n",
       "      <td>object</td>\n",
       "      <td>9792</td>\n",
       "      <td>♀</td>\n",
       "      <td>Female Sign</td>\n",
       "      <td>515</td>\n",
       "    </tr>\n",
       "    <tr>\n",
       "      <th>252</th>\n",
       "      <td>252</td>\n",
       "      <td>emoticon</td>\n",
       "      <td>object</td>\n",
       "      <td>127881</td>\n",
       "      <td>🎉</td>\n",
       "      <td>Party Popper</td>\n",
       "      <td>356</td>\n",
       "    </tr>\n",
       "    <tr>\n",
       "      <th>253</th>\n",
       "      <td>253</td>\n",
       "      <td>emoticon</td>\n",
       "      <td>object</td>\n",
       "      <td>9997</td>\n",
       "      <td>✍</td>\n",
       "      <td>Writing Hand</td>\n",
       "      <td>157</td>\n",
       "    </tr>\n",
       "    <tr>\n",
       "      <th>254</th>\n",
       "      <td>254</td>\n",
       "      <td>emoticon</td>\n",
       "      <td>object</td>\n",
       "      <td>9993</td>\n",
       "      <td>✉</td>\n",
       "      <td>Envelope</td>\n",
       "      <td>55</td>\n",
       "    </tr>\n",
       "    <tr>\n",
       "      <th>255</th>\n",
       "      <td>255</td>\n",
       "      <td>emoticon</td>\n",
       "      <td>object</td>\n",
       "      <td>10013</td>\n",
       "      <td>✝</td>\n",
       "      <td>Latin Cross</td>\n",
       "      <td>22</td>\n",
       "    </tr>\n",
       "  </tbody>\n",
       "</table>\n",
       "<p>256 rows × 7 columns</p>\n",
       "</div>"
      ],
      "text/plain": [
       "     FrCode   Category  SubCategory    Code Char                  CharName  \\\n",
       "0         0  separator      control       0  NaN  Reserved - End of string   \n",
       "1         1  separator        space      32                          Space   \n",
       "2         2  separator        space      10   \\n                   Char 10   \n",
       "3         3  separator        space       9   \\t                    Char 9   \n",
       "4         4  separator  punctuation      44    ,                     Comma   \n",
       "..      ...        ...          ...     ...  ...                       ...   \n",
       "251     251   emoticon       object    9792    ♀               Female Sign   \n",
       "252     252   emoticon       object  127881    🎉              Party Popper   \n",
       "253     253   emoticon       object    9997    ✍              Writing Hand   \n",
       "254     254   emoticon       object    9993    ✉                  Envelope   \n",
       "255     255   emoticon       object   10013    ✝               Latin Cross   \n",
       "\n",
       "     CountBusiness  \n",
       "0                0  \n",
       "1         88494564  \n",
       "2          9588147  \n",
       "3          1522053  \n",
       "4        286106887  \n",
       "..             ...  \n",
       "251            515  \n",
       "252            356  \n",
       "253            157  \n",
       "254             55  \n",
       "255             22  \n",
       "\n",
       "[256 rows x 7 columns]"
      ]
     },
     "execution_count": null,
     "metadata": {},
     "output_type": "execute_result"
    }
   ],
   "source": [
    "import pandas as pd\n",
    "dfcharsnorm = pd.read_csv(chardatadir / \"charset-fr.csv\", sep=\";\")\n",
    "dfcharsnorm"
   ]
  },
  {
   "cell_type": "markdown",
   "metadata": {},
   "source": [
    "The table below shows the number of chars in each category (after normalization) **per 100 million characters** :"
   ]
  },
  {
   "cell_type": "code",
   "execution_count": null,
   "metadata": {},
   "outputs": [
    {
     "data": {
      "text/html": [
       "<div>\n",
       "<style scoped>\n",
       "    .dataframe tbody tr th:only-of-type {\n",
       "        vertical-align: middle;\n",
       "    }\n",
       "\n",
       "    .dataframe tbody tr th {\n",
       "        vertical-align: top;\n",
       "    }\n",
       "\n",
       "    .dataframe thead tr th {\n",
       "        text-align: left;\n",
       "    }\n",
       "\n",
       "    .dataframe thead tr:last-of-type th {\n",
       "        text-align: right;\n",
       "    }\n",
       "</style>\n",
       "<table border=\"1\" class=\"dataframe\">\n",
       "  <thead>\n",
       "    <tr>\n",
       "      <th></th>\n",
       "      <th></th>\n",
       "      <th colspan=\"2\" halign=\"left\">Char</th>\n",
       "      <th>CountBusiness</th>\n",
       "    </tr>\n",
       "    <tr>\n",
       "      <th></th>\n",
       "      <th></th>\n",
       "      <th>count</th>\n",
       "      <th>sum</th>\n",
       "      <th>sum</th>\n",
       "    </tr>\n",
       "    <tr>\n",
       "      <th>Category</th>\n",
       "      <th>SubCategory</th>\n",
       "      <th></th>\n",
       "      <th></th>\n",
       "      <th></th>\n",
       "    </tr>\n",
       "  </thead>\n",
       "  <tbody>\n",
       "    <tr>\n",
       "      <th rowspan=\"3\" valign=\"top\">emoticon</th>\n",
       "      <th>hand</th>\n",
       "      <td>12</td>\n",
       "      <td>💪👉👍👏🙏🙌👇👊👎👌✌✊</td>\n",
       "      <td>42</td>\n",
       "    </tr>\n",
       "    <tr>\n",
       "      <th>head</th>\n",
       "      <td>28</td>\n",
       "      <td>🙂😉😀😂😁😊🙁😅😍😃😡🤣😄🤔😎😭👹😱😜😋🤩🙄😆😛🤪😢😇🤦</td>\n",
       "      <td>233</td>\n",
       "    </tr>\n",
       "    <tr>\n",
       "      <th>object</th>\n",
       "      <td>16</td>\n",
       "      <td>⚠🔴🔥🏆⚽💡🚨💥⚡♫♂♀🎉✍✉✝</td>\n",
       "      <td>60</td>\n",
       "    </tr>\n",
       "    <tr>\n",
       "      <th rowspan=\"6\" valign=\"top\">letter</th>\n",
       "      <th>digit</th>\n",
       "      <td>10</td>\n",
       "      <td>0123549876</td>\n",
       "      <td>3271115</td>\n",
       "    </tr>\n",
       "    <tr>\n",
       "      <th>encoding</th>\n",
       "      <td>3</td>\n",
       "      <td>Ã�￼</td>\n",
       "      <td>249</td>\n",
       "    </tr>\n",
       "    <tr>\n",
       "      <th>greek</th>\n",
       "      <td>2</td>\n",
       "      <td>λπ</td>\n",
       "      <td>2</td>\n",
       "    </tr>\n",
       "    <tr>\n",
       "      <th>latin-fr</th>\n",
       "      <td>84</td>\n",
       "      <td>abcdefghijklmnopqrstuvwxyzàâäçèéêëîïôöùûüÿABCD...</td>\n",
       "      <td>91437146</td>\n",
       "    </tr>\n",
       "    <tr>\n",
       "      <th>latin-other</th>\n",
       "      <td>25</td>\n",
       "      <td>áãåćčėğıíìńñóòõøšşßúÁÅŠÚŽ</td>\n",
       "      <td>712</td>\n",
       "    </tr>\n",
       "    <tr>\n",
       "      <th>other</th>\n",
       "      <td>5</td>\n",
       "      <td>_&amp;@\\#</td>\n",
       "      <td>40814</td>\n",
       "    </tr>\n",
       "    <tr>\n",
       "      <th rowspan=\"3\" valign=\"top\">separator</th>\n",
       "      <th>control</th>\n",
       "      <td>0</td>\n",
       "      <td>0</td>\n",
       "      <td>0</td>\n",
       "    </tr>\n",
       "    <tr>\n",
       "      <th>punctuation</th>\n",
       "      <td>23</td>\n",
       "      <td>,'.-:/\")(?!»«|…;[]}{•¿¡</td>\n",
       "      <td>4684722</td>\n",
       "    </tr>\n",
       "    <tr>\n",
       "      <th>space</th>\n",
       "      <td>3</td>\n",
       "      <td>\\n\\t</td>\n",
       "      <td>361183</td>\n",
       "    </tr>\n",
       "    <tr>\n",
       "      <th rowspan=\"5\" valign=\"top\">symbol</th>\n",
       "      <th>currency</th>\n",
       "      <td>6</td>\n",
       "      <td>€$¤£¥¢</td>\n",
       "      <td>21099</td>\n",
       "    </tr>\n",
       "    <tr>\n",
       "      <th>math</th>\n",
       "      <td>14</td>\n",
       "      <td>=&gt;+&lt;^~×≤÷≥±≠∞√</td>\n",
       "      <td>50056</td>\n",
       "    </tr>\n",
       "    <tr>\n",
       "      <th>shape</th>\n",
       "      <td>15</td>\n",
       "      <td>*✓⇒♥¦→★¯↓❌❐†↑←↔</td>\n",
       "      <td>7954</td>\n",
       "    </tr>\n",
       "    <tr>\n",
       "      <th>sign</th>\n",
       "      <td>3</td>\n",
       "      <td>©®™</td>\n",
       "      <td>1754</td>\n",
       "    </tr>\n",
       "    <tr>\n",
       "      <th>unit</th>\n",
       "      <td>6</td>\n",
       "      <td>%°§µØ‰</td>\n",
       "      <td>102213</td>\n",
       "    </tr>\n",
       "  </tbody>\n",
       "</table>\n",
       "</div>"
      ],
      "text/plain": [
       "                       Char  \\\n",
       "                      count   \n",
       "Category  SubCategory         \n",
       "emoticon  hand           12   \n",
       "          head           28   \n",
       "          object         16   \n",
       "letter    digit          10   \n",
       "          encoding        3   \n",
       "          greek           2   \n",
       "          latin-fr       84   \n",
       "          latin-other    25   \n",
       "          other           5   \n",
       "separator control         0   \n",
       "          punctuation    23   \n",
       "          space           3   \n",
       "symbol    currency        6   \n",
       "          math           14   \n",
       "          shape          15   \n",
       "          sign            3   \n",
       "          unit            6   \n",
       "\n",
       "                                                                          \\\n",
       "                                                                     sum   \n",
       "Category  SubCategory                                                      \n",
       "emoticon  hand                                              💪👉👍👏🙏🙌👇👊👎👌✌✊   \n",
       "          head                              🙂😉😀😂😁😊🙁😅😍😃😡🤣😄🤔😎😭👹😱😜😋🤩🙄😆😛🤪😢😇🤦   \n",
       "          object                                        ⚠🔴🔥🏆⚽💡🚨💥⚡♫♂♀🎉✍✉✝   \n",
       "letter    digit                                               0123549876   \n",
       "          encoding                                                   Ã�￼   \n",
       "          greek                                                       λπ   \n",
       "          latin-fr     abcdefghijklmnopqrstuvwxyzàâäçèéêëîïôöùûüÿABCD...   \n",
       "          latin-other                          áãåćčėğıíìńñóòõøšşßúÁÅŠÚŽ   \n",
       "          other                                                    _&@\\#   \n",
       "separator control                                                      0   \n",
       "          punctuation                            ,'.-:/\")(?!»«|…;[]}{•¿¡   \n",
       "          space                                                     \\n\\t   \n",
       "symbol    currency                                                €$¤£¥¢   \n",
       "          math                                            =>+<^~×≤÷≥±≠∞√   \n",
       "          shape                                          *✓⇒♥¦→★¯↓❌❐†↑←↔   \n",
       "          sign                                                       ©®™   \n",
       "          unit                                                    %°§µØ‰   \n",
       "\n",
       "                      CountBusiness  \n",
       "                                sum  \n",
       "Category  SubCategory                \n",
       "emoticon  hand                   42  \n",
       "          head                  233  \n",
       "          object                 60  \n",
       "letter    digit             3271115  \n",
       "          encoding              249  \n",
       "          greek                   2  \n",
       "          latin-fr         91437146  \n",
       "          latin-other           712  \n",
       "          other               40814  \n",
       "separator control                 0  \n",
       "          punctuation       4684722  \n",
       "          space              361183  \n",
       "symbol    currency            21099  \n",
       "          math                50056  \n",
       "          shape                7954  \n",
       "          sign                 1754  \n",
       "          unit               102213  "
      ]
     },
     "execution_count": null,
     "metadata": {},
     "output_type": "execute_result"
    }
   ],
   "source": [
    "dfblocks = dfcharsnorm.groupby(by=[\"Category\",\"SubCategory\"]).agg({\"Char\":[\"count\",\"sum\"],\"CountBusiness\":\"sum\"})\n",
    "dfblocks[\"CountBusiness\"] = (dfblocks[\"CountBusiness\"] / 27577304956 * 100000000).astype(int)\n",
    "dfblocks"
   ]
  },
  {
   "cell_type": "markdown",
   "metadata": {},
   "source": [
    "### Normalization pipeline overview"
   ]
  },
  {
   "cell_type": "markdown",
   "metadata": {},
   "source": [
    "The normalization pipeline applies the following **14 steps**, which are explained and illustrated in the sections below.\n",
    "\n",
    "- Fix encoding errors\n",
    "  - fix windows1252 text read as iso8859-1\n",
    "  - fix utf8 text read as windows1252\n",
    "  - fix windows1252 text read as utf8\n",
    "  - merge Unicode combining chars\n",
    "  - ignore control chars\n",
    "- Remove display attributes\n",
    "  - replace latin letter symbols\n",
    "  - replace latin letter ligatures\n",
    "  - replace latin number symbols\n",
    "- Normalize visually equivalent chars\n",
    "  - replace equivalent chars \n",
    "  - replace cyrillic and greek chars looking like latin letters\n",
    "- Encode infrequent chars while losing a little bit of information \n",
    "  - replace infrequent latin letters with diacritics\n",
    "  - replace infrequent chars from other scripts\n",
    "  - replace infrequent symbols \n",
    "  - ignore remaining chars with no glyph "
   ]
  },
  {
   "cell_type": "markdown",
   "metadata": {},
   "source": [
    "The statistics below count the number of chars normalized **for 1 million chars** in 4 distinct parts of the french datasets : business websites, forums, news, wikipedia.\n",
    "\n",
    "The first line of the table below shows that :\n",
    "- in 1 million chars extracted from forum pages (raw users input), 41.8 chars will be encoding errors (windows1252 read as iso8859-1)\n",
    "- in 1 million chars extracted from wikipedia (curated content), only 0.006 chars will be encoding errors\n",
    "\n",
    "These numbers show that **characters normalization is much more important in real world applications** than in academic papers based on clean wikipedia text. "
   ]
  },
  {
   "cell_type": "code",
   "execution_count": null,
   "metadata": {},
   "outputs": [
    {
     "data": {
      "text/html": [
       "<div>\n",
       "<style scoped>\n",
       "    .dataframe tbody tr th:only-of-type {\n",
       "        vertical-align: middle;\n",
       "    }\n",
       "\n",
       "    .dataframe tbody tr th {\n",
       "        vertical-align: top;\n",
       "    }\n",
       "\n",
       "    .dataframe thead th {\n",
       "        text-align: right;\n",
       "    }\n",
       "</style>\n",
       "<table border=\"1\" class=\"dataframe\">\n",
       "  <thead>\n",
       "    <tr style=\"text-align: right;\">\n",
       "      <th></th>\n",
       "      <th>Transform</th>\n",
       "      <th>FreqBusiness</th>\n",
       "      <th>FreqForum</th>\n",
       "      <th>FreqPresse</th>\n",
       "      <th>FreqWikipedia</th>\n",
       "    </tr>\n",
       "  </thead>\n",
       "  <tbody>\n",
       "    <tr>\n",
       "      <th>0</th>\n",
       "      <td>Fix encoding errors : windows1252 read as iso8...</td>\n",
       "      <td>0.510560</td>\n",
       "      <td>41.818746</td>\n",
       "      <td>0.813485</td>\n",
       "      <td>0.006025</td>\n",
       "    </tr>\n",
       "    <tr>\n",
       "      <th>1</th>\n",
       "      <td>Fix encoding errors : utf8 read as windows1252</td>\n",
       "      <td>0.126815</td>\n",
       "      <td>0.058024</td>\n",
       "      <td>0.072456</td>\n",
       "      <td>0.001037</td>\n",
       "    </tr>\n",
       "    <tr>\n",
       "      <th>2</th>\n",
       "      <td>Fix encoding errors :  windows1252 read as utf8</td>\n",
       "      <td>0.000000</td>\n",
       "      <td>0.000000</td>\n",
       "      <td>0.019315</td>\n",
       "      <td>0.000000</td>\n",
       "    </tr>\n",
       "    <tr>\n",
       "      <th>3</th>\n",
       "      <td>Merge Unicode combining chars</td>\n",
       "      <td>2.811983</td>\n",
       "      <td>0.432638</td>\n",
       "      <td>0.568146</td>\n",
       "      <td>0.000140</td>\n",
       "    </tr>\n",
       "    <tr>\n",
       "      <th>4</th>\n",
       "      <td>Ignore control chars</td>\n",
       "      <td>6.450737</td>\n",
       "      <td>349.052995</td>\n",
       "      <td>6.454367</td>\n",
       "      <td>4.118586</td>\n",
       "    </tr>\n",
       "    <tr>\n",
       "      <th>5</th>\n",
       "      <td>Replace latin letter symbols</td>\n",
       "      <td>0.019360</td>\n",
       "      <td>0.039701</td>\n",
       "      <td>0.297372</td>\n",
       "      <td>0.150550</td>\n",
       "    </tr>\n",
       "    <tr>\n",
       "      <th>6</th>\n",
       "      <td>Replace latin letter ligatures</td>\n",
       "      <td>6.603815</td>\n",
       "      <td>6.541480</td>\n",
       "      <td>10.097290</td>\n",
       "      <td>17.204422</td>\n",
       "    </tr>\n",
       "    <tr>\n",
       "      <th>7</th>\n",
       "      <td>Replace latin number symbols</td>\n",
       "      <td>2.528338</td>\n",
       "      <td>4.162482</td>\n",
       "      <td>2.560933</td>\n",
       "      <td>0.429792</td>\n",
       "    </tr>\n",
       "    <tr>\n",
       "      <th>8</th>\n",
       "      <td>Normalize equivalent chars</td>\n",
       "      <td>814.327384</td>\n",
       "      <td>1248.410777</td>\n",
       "      <td>684.333730</td>\n",
       "      <td>242.391239</td>\n",
       "    </tr>\n",
       "    <tr>\n",
       "      <th>9</th>\n",
       "      <td>Replace cyrillic and greek chars looking like ...</td>\n",
       "      <td>0.062432</td>\n",
       "      <td>0.760424</td>\n",
       "      <td>0.491996</td>\n",
       "      <td>7.479907</td>\n",
       "    </tr>\n",
       "    <tr>\n",
       "      <th>10</th>\n",
       "      <td>Replace infrequent chars : latin letters with ...</td>\n",
       "      <td>0.063782</td>\n",
       "      <td>0.078384</td>\n",
       "      <td>0.099106</td>\n",
       "      <td>9.124948</td>\n",
       "    </tr>\n",
       "    <tr>\n",
       "      <th>11</th>\n",
       "      <td>Replace infrequent chars : other scripts</td>\n",
       "      <td>0.085694</td>\n",
       "      <td>0.468776</td>\n",
       "      <td>1.192548</td>\n",
       "      <td>16.612142</td>\n",
       "    </tr>\n",
       "    <tr>\n",
       "      <th>12</th>\n",
       "      <td>Replace infrequent chars : symbols</td>\n",
       "      <td>0.139271</td>\n",
       "      <td>0.159821</td>\n",
       "      <td>0.399064</td>\n",
       "      <td>0.073566</td>\n",
       "    </tr>\n",
       "    <tr>\n",
       "      <th>13</th>\n",
       "      <td>Replace infrequent chars : chars to ignore</td>\n",
       "      <td>0.018910</td>\n",
       "      <td>0.044282</td>\n",
       "      <td>0.021320</td>\n",
       "      <td>0.016423</td>\n",
       "    </tr>\n",
       "  </tbody>\n",
       "</table>\n",
       "</div>"
      ],
      "text/plain": [
       "                                            Transform  FreqBusiness  \\\n",
       "0   Fix encoding errors : windows1252 read as iso8...      0.510560   \n",
       "1      Fix encoding errors : utf8 read as windows1252      0.126815   \n",
       "2     Fix encoding errors :  windows1252 read as utf8      0.000000   \n",
       "3                       Merge Unicode combining chars      2.811983   \n",
       "4                                Ignore control chars      6.450737   \n",
       "5                        Replace latin letter symbols      0.019360   \n",
       "6                      Replace latin letter ligatures      6.603815   \n",
       "7                        Replace latin number symbols      2.528338   \n",
       "8                          Normalize equivalent chars    814.327384   \n",
       "9   Replace cyrillic and greek chars looking like ...      0.062432   \n",
       "10  Replace infrequent chars : latin letters with ...      0.063782   \n",
       "11           Replace infrequent chars : other scripts      0.085694   \n",
       "12                 Replace infrequent chars : symbols      0.139271   \n",
       "13         Replace infrequent chars : chars to ignore      0.018910   \n",
       "\n",
       "      FreqForum  FreqPresse  FreqWikipedia  \n",
       "0     41.818746    0.813485       0.006025  \n",
       "1      0.058024    0.072456       0.001037  \n",
       "2      0.000000    0.019315       0.000000  \n",
       "3      0.432638    0.568146       0.000140  \n",
       "4    349.052995    6.454367       4.118586  \n",
       "5      0.039701    0.297372       0.150550  \n",
       "6      6.541480   10.097290      17.204422  \n",
       "7      4.162482    2.560933       0.429792  \n",
       "8   1248.410777  684.333730     242.391239  \n",
       "9      0.760424    0.491996       7.479907  \n",
       "10     0.078384    0.099106       9.124948  \n",
       "11     0.468776    1.192548      16.612142  \n",
       "12     0.159821    0.399064       0.073566  \n",
       "13     0.044282    0.021320       0.016423  "
      ]
     },
     "execution_count": null,
     "metadata": {},
     "output_type": "execute_result"
    }
   ],
   "source": [
    "normstats = pd.read_csv(chardatadir / \"stats\" / \"normalization.total.stats.csv\")\n",
    "normstats[[\"Transform\",\"FreqBusiness\",\"FreqForum\",\"FreqPresse\",\"FreqWikipedia\"]]"
   ]
  },
  {
   "cell_type": "markdown",
   "metadata": {},
   "source": [
    "Most frequent chars replaced from equivalent characters :"
   ]
  },
  {
   "cell_type": "code",
   "execution_count": null,
   "metadata": {},
   "outputs": [
    {
     "data": {
      "text/html": [
       "<div>\n",
       "<style scoped>\n",
       "    .dataframe tbody tr th:only-of-type {\n",
       "        vertical-align: middle;\n",
       "    }\n",
       "\n",
       "    .dataframe tbody tr th {\n",
       "        vertical-align: top;\n",
       "    }\n",
       "\n",
       "    .dataframe thead th {\n",
       "        text-align: right;\n",
       "    }\n",
       "</style>\n",
       "<table border=\"1\" class=\"dataframe\">\n",
       "  <thead>\n",
       "    <tr style=\"text-align: right;\">\n",
       "      <th></th>\n",
       "      <th>Char</th>\n",
       "      <th>CharName</th>\n",
       "      <th>FreqBusiness</th>\n",
       "      <th>FreqForum</th>\n",
       "      <th>FreqPresse</th>\n",
       "      <th>FreqWikipedia</th>\n",
       "    </tr>\n",
       "  </thead>\n",
       "  <tbody>\n",
       "    <tr>\n",
       "      <th>0</th>\n",
       "      <td>'</td>\n",
       "      <td>Apostrophe</td>\n",
       "      <td>486.034805</td>\n",
       "      <td>160.264219</td>\n",
       "      <td>376.104982</td>\n",
       "      <td>134.658673</td>\n",
       "    </tr>\n",
       "    <tr>\n",
       "      <th>1</th>\n",
       "      <td></td>\n",
       "      <td>Space</td>\n",
       "      <td>310.411117</td>\n",
       "      <td>1082.845985</td>\n",
       "      <td>288.635983</td>\n",
       "      <td>87.877649</td>\n",
       "    </tr>\n",
       "    <tr>\n",
       "      <th>2</th>\n",
       "      <td>-</td>\n",
       "      <td>Hyphen-Minus</td>\n",
       "      <td>14.431203</td>\n",
       "      <td>2.903761</td>\n",
       "      <td>12.828203</td>\n",
       "      <td>16.223154</td>\n",
       "    </tr>\n",
       "    <tr>\n",
       "      <th>3</th>\n",
       "      <td>«</td>\n",
       "      <td>Left-Pointing Double Angle Quotation Mark</td>\n",
       "      <td>1.429478</td>\n",
       "      <td>0.680513</td>\n",
       "      <td>3.002426</td>\n",
       "      <td>0.559632</td>\n",
       "    </tr>\n",
       "    <tr>\n",
       "      <th>4</th>\n",
       "      <td>»</td>\n",
       "      <td>Right-Pointing Double Angle Quotation Mark</td>\n",
       "      <td>1.323524</td>\n",
       "      <td>0.533926</td>\n",
       "      <td>2.461880</td>\n",
       "      <td>0.544134</td>\n",
       "    </tr>\n",
       "    <tr>\n",
       "      <th>5</th>\n",
       "      <td>|</td>\n",
       "      <td>Vertical Line</td>\n",
       "      <td>0.003452</td>\n",
       "      <td>0.001018</td>\n",
       "      <td>0.005488</td>\n",
       "      <td>0.875894</td>\n",
       "    </tr>\n",
       "    <tr>\n",
       "      <th>6</th>\n",
       "      <td>•</td>\n",
       "      <td>Bullet</td>\n",
       "      <td>0.204104</td>\n",
       "      <td>0.243295</td>\n",
       "      <td>0.189664</td>\n",
       "      <td>0.543237</td>\n",
       "    </tr>\n",
       "    <tr>\n",
       "      <th>7</th>\n",
       "      <td>.</td>\n",
       "      <td>Full Stop</td>\n",
       "      <td>0.059280</td>\n",
       "      <td>0.078893</td>\n",
       "      <td>0.856230</td>\n",
       "      <td>0.069278</td>\n",
       "    </tr>\n",
       "    <tr>\n",
       "      <th>8</th>\n",
       "      <td>\"</td>\n",
       "      <td>Quotation Mark</td>\n",
       "      <td>0.085093</td>\n",
       "      <td>0.023413</td>\n",
       "      <td>0.011504</td>\n",
       "      <td>0.292385</td>\n",
       "    </tr>\n",
       "    <tr>\n",
       "      <th>9</th>\n",
       "      <td>:</td>\n",
       "      <td>Colon</td>\n",
       "      <td>0.000150</td>\n",
       "      <td>0.000509</td>\n",
       "      <td>0.000053</td>\n",
       "      <td>0.169047</td>\n",
       "    </tr>\n",
       "    <tr>\n",
       "      <th>10</th>\n",
       "      <td>°</td>\n",
       "      <td>Degree Sign</td>\n",
       "      <td>0.148726</td>\n",
       "      <td>0.181199</td>\n",
       "      <td>0.014618</td>\n",
       "      <td>0.078302</td>\n",
       "    </tr>\n",
       "    <tr>\n",
       "      <th>11</th>\n",
       "      <td>é</td>\n",
       "      <td>Latin Small Letter E With Acute</td>\n",
       "      <td>0.001651</td>\n",
       "      <td>0.006108</td>\n",
       "      <td>0.003166</td>\n",
       "      <td>0.101114</td>\n",
       "    </tr>\n",
       "    <tr>\n",
       "      <th>12</th>\n",
       "      <td>←</td>\n",
       "      <td>Leftwards Arrow</td>\n",
       "      <td>0.000000</td>\n",
       "      <td>0.000000</td>\n",
       "      <td>0.000158</td>\n",
       "      <td>0.047194</td>\n",
       "    </tr>\n",
       "    <tr>\n",
       "      <th>13</th>\n",
       "      <td>=</td>\n",
       "      <td>Equals Sign</td>\n",
       "      <td>0.004802</td>\n",
       "      <td>0.029012</td>\n",
       "      <td>0.000686</td>\n",
       "      <td>0.041589</td>\n",
       "    </tr>\n",
       "    <tr>\n",
       "      <th>14</th>\n",
       "      <td>→</td>\n",
       "      <td>Rightwards Arrow</td>\n",
       "      <td>0.026113</td>\n",
       "      <td>0.002545</td>\n",
       "      <td>0.034302</td>\n",
       "      <td>0.015862</td>\n",
       "    </tr>\n",
       "    <tr>\n",
       "      <th>15</th>\n",
       "      <td>d</td>\n",
       "      <td>Latin Small Letter D</td>\n",
       "      <td>0.000000</td>\n",
       "      <td>0.024940</td>\n",
       "      <td>0.000000</td>\n",
       "      <td>0.036405</td>\n",
       "    </tr>\n",
       "    <tr>\n",
       "      <th>16</th>\n",
       "      <td>&lt;</td>\n",
       "      <td>Less-Than Sign</td>\n",
       "      <td>0.004202</td>\n",
       "      <td>0.142007</td>\n",
       "      <td>0.001267</td>\n",
       "      <td>0.024073</td>\n",
       "    </tr>\n",
       "    <tr>\n",
       "      <th>17</th>\n",
       "      <td>,</td>\n",
       "      <td>Comma</td>\n",
       "      <td>0.006453</td>\n",
       "      <td>0.101288</td>\n",
       "      <td>0.004538</td>\n",
       "      <td>0.022756</td>\n",
       "    </tr>\n",
       "    <tr>\n",
       "      <th>18</th>\n",
       "      <td>↓</td>\n",
       "      <td>Downwards Arrow</td>\n",
       "      <td>0.007504</td>\n",
       "      <td>0.001527</td>\n",
       "      <td>0.011188</td>\n",
       "      <td>0.021888</td>\n",
       "    </tr>\n",
       "    <tr>\n",
       "      <th>19</th>\n",
       "      <td>★</td>\n",
       "      <td>Black Star</td>\n",
       "      <td>0.001351</td>\n",
       "      <td>0.013743</td>\n",
       "      <td>0.022006</td>\n",
       "      <td>0.011686</td>\n",
       "    </tr>\n",
       "  </tbody>\n",
       "</table>\n",
       "</div>"
      ],
      "text/plain": [
       "   Char                                    CharName  FreqBusiness  \\\n",
       "0     '                                  Apostrophe    486.034805   \n",
       "1                                             Space    310.411117   \n",
       "2     -                                Hyphen-Minus     14.431203   \n",
       "3     «   Left-Pointing Double Angle Quotation Mark      1.429478   \n",
       "4     »  Right-Pointing Double Angle Quotation Mark      1.323524   \n",
       "5     |                               Vertical Line      0.003452   \n",
       "6     •                                      Bullet      0.204104   \n",
       "7     .                                   Full Stop      0.059280   \n",
       "8     \"                              Quotation Mark      0.085093   \n",
       "9     :                                       Colon      0.000150   \n",
       "10    °                                 Degree Sign      0.148726   \n",
       "11    é             Latin Small Letter E With Acute      0.001651   \n",
       "12    ←                             Leftwards Arrow      0.000000   \n",
       "13    =                                 Equals Sign      0.004802   \n",
       "14    →                            Rightwards Arrow      0.026113   \n",
       "15    d                        Latin Small Letter D      0.000000   \n",
       "16    <                              Less-Than Sign      0.004202   \n",
       "17    ,                                       Comma      0.006453   \n",
       "18    ↓                             Downwards Arrow      0.007504   \n",
       "19    ★                                  Black Star      0.001351   \n",
       "\n",
       "      FreqForum  FreqPresse  FreqWikipedia  \n",
       "0    160.264219  376.104982     134.658673  \n",
       "1   1082.845985  288.635983      87.877649  \n",
       "2      2.903761   12.828203      16.223154  \n",
       "3      0.680513    3.002426       0.559632  \n",
       "4      0.533926    2.461880       0.544134  \n",
       "5      0.001018    0.005488       0.875894  \n",
       "6      0.243295    0.189664       0.543237  \n",
       "7      0.078893    0.856230       0.069278  \n",
       "8      0.023413    0.011504       0.292385  \n",
       "9      0.000509    0.000053       0.169047  \n",
       "10     0.181199    0.014618       0.078302  \n",
       "11     0.006108    0.003166       0.101114  \n",
       "12     0.000000    0.000158       0.047194  \n",
       "13     0.029012    0.000686       0.041589  \n",
       "14     0.002545    0.034302       0.015862  \n",
       "15     0.024940    0.000000       0.036405  \n",
       "16     0.142007    0.001267       0.024073  \n",
       "17     0.101288    0.004538       0.022756  \n",
       "18     0.001527    0.011188       0.021888  \n",
       "19     0.013743    0.022006       0.011686  "
      ]
     },
     "execution_count": null,
     "metadata": {},
     "output_type": "execute_result"
    }
   ],
   "source": [
    "replacestats = pd.read_csv(chardatadir / \"stats\" / \"normalization.layer8.stats.csv\")\n",
    "replacestats[[\"Char\",\"CharName\",\"FreqBusiness\",\"FreqForum\",\"FreqPresse\",\"FreqWikipedia\"]].head(20)"
   ]
  },
  {
   "cell_type": "markdown",
   "metadata": {},
   "source": [
    "For example, list of all Unicode chars wich will be projected to a regular 'apostrophe' :"
   ]
  },
  {
   "cell_type": "code",
   "execution_count": null,
   "metadata": {},
   "outputs": [
    {
     "data": {
      "text/html": [
       "<div>\n",
       "<style scoped>\n",
       "    .dataframe tbody tr th:only-of-type {\n",
       "        vertical-align: middle;\n",
       "    }\n",
       "\n",
       "    .dataframe tbody tr th {\n",
       "        vertical-align: top;\n",
       "    }\n",
       "\n",
       "    .dataframe thead th {\n",
       "        text-align: right;\n",
       "    }\n",
       "</style>\n",
       "<table border=\"1\" class=\"dataframe\">\n",
       "  <thead>\n",
       "    <tr style=\"text-align: right;\">\n",
       "      <th></th>\n",
       "      <th>Code</th>\n",
       "      <th>Char</th>\n",
       "      <th>CharName</th>\n",
       "    </tr>\n",
       "  </thead>\n",
       "  <tbody>\n",
       "    <tr>\n",
       "      <th>23</th>\n",
       "      <td>96</td>\n",
       "      <td>`</td>\n",
       "      <td>Grave Accent</td>\n",
       "    </tr>\n",
       "    <tr>\n",
       "      <th>24</th>\n",
       "      <td>180</td>\n",
       "      <td>´</td>\n",
       "      <td>Acute Accent</td>\n",
       "    </tr>\n",
       "    <tr>\n",
       "      <th>25</th>\n",
       "      <td>697</td>\n",
       "      <td>ʹ</td>\n",
       "      <td>Modifier Letter Prime</td>\n",
       "    </tr>\n",
       "    <tr>\n",
       "      <th>26</th>\n",
       "      <td>699</td>\n",
       "      <td>ʻ</td>\n",
       "      <td>Modifier Letter Turned Comma</td>\n",
       "    </tr>\n",
       "    <tr>\n",
       "      <th>27</th>\n",
       "      <td>700</td>\n",
       "      <td>ʼ</td>\n",
       "      <td>Modifier Letter Apostrophe</td>\n",
       "    </tr>\n",
       "    <tr>\n",
       "      <th>28</th>\n",
       "      <td>702</td>\n",
       "      <td>ʾ</td>\n",
       "      <td>Modifier Letter Right Half Ring</td>\n",
       "    </tr>\n",
       "    <tr>\n",
       "      <th>29</th>\n",
       "      <td>703</td>\n",
       "      <td>ʿ</td>\n",
       "      <td>Modifier Letter Left Half Ring</td>\n",
       "    </tr>\n",
       "    <tr>\n",
       "      <th>30</th>\n",
       "      <td>712</td>\n",
       "      <td>ˈ</td>\n",
       "      <td>Modifier Letter Vertical Line</td>\n",
       "    </tr>\n",
       "    <tr>\n",
       "      <th>31</th>\n",
       "      <td>714</td>\n",
       "      <td>ˊ</td>\n",
       "      <td>Modifier Letter Acute Accent</td>\n",
       "    </tr>\n",
       "    <tr>\n",
       "      <th>32</th>\n",
       "      <td>715</td>\n",
       "      <td>ˋ</td>\n",
       "      <td>Modifier Letter Grave Accent</td>\n",
       "    </tr>\n",
       "    <tr>\n",
       "      <th>33</th>\n",
       "      <td>729</td>\n",
       "      <td>˙</td>\n",
       "      <td>Dot Above</td>\n",
       "    </tr>\n",
       "    <tr>\n",
       "      <th>34</th>\n",
       "      <td>8216</td>\n",
       "      <td>‘</td>\n",
       "      <td>Left Single Quotation Mark</td>\n",
       "    </tr>\n",
       "    <tr>\n",
       "      <th>35</th>\n",
       "      <td>8217</td>\n",
       "      <td>’</td>\n",
       "      <td>Right Single Quotation Mark</td>\n",
       "    </tr>\n",
       "    <tr>\n",
       "      <th>36</th>\n",
       "      <td>8219</td>\n",
       "      <td>‛</td>\n",
       "      <td>Single High-Reversed-9 Quotation Mark</td>\n",
       "    </tr>\n",
       "    <tr>\n",
       "      <th>37</th>\n",
       "      <td>8223</td>\n",
       "      <td>‟</td>\n",
       "      <td>Double High-Reversed-9 Quotation Mark</td>\n",
       "    </tr>\n",
       "    <tr>\n",
       "      <th>38</th>\n",
       "      <td>8242</td>\n",
       "      <td>′</td>\n",
       "      <td>Prime</td>\n",
       "    </tr>\n",
       "  </tbody>\n",
       "</table>\n",
       "</div>"
      ],
      "text/plain": [
       "    Code Char                               CharName\n",
       "23    96    `                           Grave Accent\n",
       "24   180    ´                           Acute Accent\n",
       "25   697    ʹ                  Modifier Letter Prime\n",
       "26   699    ʻ           Modifier Letter Turned Comma\n",
       "27   700    ʼ             Modifier Letter Apostrophe\n",
       "28   702    ʾ        Modifier Letter Right Half Ring\n",
       "29   703    ʿ         Modifier Letter Left Half Ring\n",
       "30   712    ˈ          Modifier Letter Vertical Line\n",
       "31   714    ˊ           Modifier Letter Acute Accent\n",
       "32   715    ˋ           Modifier Letter Grave Accent\n",
       "33   729    ˙                              Dot Above\n",
       "34  8216    ‘             Left Single Quotation Mark\n",
       "35  8217    ’            Right Single Quotation Mark\n",
       "36  8219    ‛  Single High-Reversed-9 Quotation Mark\n",
       "37  8223    ‟  Double High-Reversed-9 Quotation Mark\n",
       "38  8242    ′                                  Prime"
      ]
     },
     "execution_count": null,
     "metadata": {},
     "output_type": "execute_result"
    }
   ],
   "source": [
    "replacechars = pd.read_csv(chardatadir / \"normalizedchars.csv\", sep=';')\n",
    "replacechars[replacechars[\"NormChar\"]==\"'\"][[\"Code\",\"Char\",\"CharName\"]]"
   ]
  },
  {
   "cell_type": "markdown",
   "metadata": {},
   "source": [
    "Frequency of characters from other scripts (chinese, arabic, cyrillic ...) :"
   ]
  },
  {
   "cell_type": "code",
   "execution_count": null,
   "metadata": {},
   "outputs": [
    {
     "data": {
      "text/html": [
       "<div>\n",
       "<style scoped>\n",
       "    .dataframe tbody tr th:only-of-type {\n",
       "        vertical-align: middle;\n",
       "    }\n",
       "\n",
       "    .dataframe tbody tr th {\n",
       "        vertical-align: top;\n",
       "    }\n",
       "\n",
       "    .dataframe thead th {\n",
       "        text-align: right;\n",
       "    }\n",
       "</style>\n",
       "<table border=\"1\" class=\"dataframe\">\n",
       "  <thead>\n",
       "    <tr style=\"text-align: right;\">\n",
       "      <th></th>\n",
       "      <th>CharFamily</th>\n",
       "      <th>FreqBusiness</th>\n",
       "      <th>FreqForum</th>\n",
       "      <th>FreqPresse</th>\n",
       "      <th>FreqWikipedia</th>\n",
       "    </tr>\n",
       "  </thead>\n",
       "  <tbody>\n",
       "    <tr>\n",
       "      <th>0</th>\n",
       "      <td>ChineseJapaneseKorean</td>\n",
       "      <td>0.012456</td>\n",
       "      <td>0.177127</td>\n",
       "      <td>0.194677</td>\n",
       "      <td>4.059173</td>\n",
       "    </tr>\n",
       "    <tr>\n",
       "      <th>1</th>\n",
       "      <td>Arabic</td>\n",
       "      <td>0.012306</td>\n",
       "      <td>0.026467</td>\n",
       "      <td>0.460280</td>\n",
       "      <td>3.140120</td>\n",
       "    </tr>\n",
       "    <tr>\n",
       "      <th>2</th>\n",
       "      <td>Cyrillic</td>\n",
       "      <td>0.024462</td>\n",
       "      <td>0.166438</td>\n",
       "      <td>0.237159</td>\n",
       "      <td>3.118961</td>\n",
       "    </tr>\n",
       "    <tr>\n",
       "      <th>3</th>\n",
       "      <td>Greek</td>\n",
       "      <td>0.016058</td>\n",
       "      <td>0.022904</td>\n",
       "      <td>0.031347</td>\n",
       "      <td>2.423996</td>\n",
       "    </tr>\n",
       "    <tr>\n",
       "      <th>4</th>\n",
       "      <td>Hebrew</td>\n",
       "      <td>0.000150</td>\n",
       "      <td>0.000000</td>\n",
       "      <td>0.184914</td>\n",
       "      <td>1.132155</td>\n",
       "    </tr>\n",
       "    <tr>\n",
       "      <th>5</th>\n",
       "      <td>Other</td>\n",
       "      <td>0.000750</td>\n",
       "      <td>0.029012</td>\n",
       "      <td>0.004063</td>\n",
       "      <td>0.800871</td>\n",
       "    </tr>\n",
       "    <tr>\n",
       "      <th>6</th>\n",
       "      <td>Indian</td>\n",
       "      <td>0.000750</td>\n",
       "      <td>0.037665</td>\n",
       "      <td>0.033458</td>\n",
       "      <td>0.737955</td>\n",
       "    </tr>\n",
       "    <tr>\n",
       "      <th>7</th>\n",
       "      <td>Phonetic</td>\n",
       "      <td>0.002401</td>\n",
       "      <td>0.001527</td>\n",
       "      <td>0.001636</td>\n",
       "      <td>0.298579</td>\n",
       "    </tr>\n",
       "    <tr>\n",
       "      <th>8</th>\n",
       "      <td>Latin</td>\n",
       "      <td>0.013507</td>\n",
       "      <td>0.006108</td>\n",
       "      <td>0.007283</td>\n",
       "      <td>0.269377</td>\n",
       "    </tr>\n",
       "    <tr>\n",
       "      <th>9</th>\n",
       "      <td>Math</td>\n",
       "      <td>0.001801</td>\n",
       "      <td>0.000509</td>\n",
       "      <td>0.000528</td>\n",
       "      <td>0.240707</td>\n",
       "    </tr>\n",
       "    <tr>\n",
       "      <th>10</th>\n",
       "      <td>LaoThai</td>\n",
       "      <td>0.000000</td>\n",
       "      <td>0.001018</td>\n",
       "      <td>0.033194</td>\n",
       "      <td>0.217867</td>\n",
       "    </tr>\n",
       "    <tr>\n",
       "      <th>11</th>\n",
       "      <td>Armenian</td>\n",
       "      <td>0.001051</td>\n",
       "      <td>0.000000</td>\n",
       "      <td>0.004011</td>\n",
       "      <td>0.172382</td>\n",
       "    </tr>\n",
       "  </tbody>\n",
       "</table>\n",
       "</div>"
      ],
      "text/plain": [
       "               CharFamily  FreqBusiness  FreqForum  FreqPresse  FreqWikipedia\n",
       "0   ChineseJapaneseKorean      0.012456   0.177127    0.194677       4.059173\n",
       "1                  Arabic      0.012306   0.026467    0.460280       3.140120\n",
       "2                Cyrillic      0.024462   0.166438    0.237159       3.118961\n",
       "3                   Greek      0.016058   0.022904    0.031347       2.423996\n",
       "4                  Hebrew      0.000150   0.000000    0.184914       1.132155\n",
       "5                   Other      0.000750   0.029012    0.004063       0.800871\n",
       "6                  Indian      0.000750   0.037665    0.033458       0.737955\n",
       "7                Phonetic      0.002401   0.001527    0.001636       0.298579\n",
       "8                   Latin      0.013507   0.006108    0.007283       0.269377\n",
       "9                    Math      0.001801   0.000509    0.000528       0.240707\n",
       "10                LaoThai      0.000000   0.001018    0.033194       0.217867\n",
       "11               Armenian      0.001051   0.000000    0.004011       0.172382"
      ]
     },
     "execution_count": null,
     "metadata": {},
     "output_type": "execute_result"
    }
   ],
   "source": [
    "scriptsstats = pd.read_csv(chardatadir / \"stats\" / \"normalization.layer11.stats.csv\")\n",
    "scriptsstats[[\"CharFamily\",\"FreqBusiness\",\"FreqForum\",\"FreqPresse\",\"FreqWikipedia\"]]"
   ]
  },
  {
   "cell_type": "markdown",
   "metadata": {},
   "source": [
    "### Normalization pipeline API"
   ]
  },
  {
   "cell_type": "markdown",
   "metadata": {},
   "source": [
    "Initialize a text normalizer :"
   ]
  },
  {
   "cell_type": "code",
   "execution_count": null,
   "metadata": {},
   "outputs": [
    {
     "name": "stdout",
     "output_type": "stream",
     "text": [
      "CPU times: user 1.83 s, sys: 15.6 ms, total: 1.84 s\n",
      "Wall time: 2 s\n"
     ]
    },
    {
     "data": {
      "text/plain": [
       "1 - Fix encoding errors : windows1252 read as iso8859-1\n",
       "2 - Fix encoding errors : utf8 read as windows1252\n",
       "3 - Fix encoding errors :  windows1252 read as utf8\n",
       "4 - Merge Unicode combining chars\n",
       "5 - Ignore control chars\n",
       "6 - Replace latin letter symbols\n",
       "7 - Replace latin letter ligatures\n",
       "8 - Replace latin number symbols\n",
       "9 - Normalize equivalent chars\n",
       "10 - Replace cyrillic and greek chars looking like latin letters\n",
       "11 - Replace infrequent chars : latin letters with diacritics\n",
       "12 - Replace infrequent chars : other scripts\n",
       "13 - Replace infrequent chars : symbols\n",
       "14 - Replace infrequent chars : chars to ignore"
      ]
     },
     "execution_count": null,
     "metadata": {},
     "output_type": "execute_result"
    }
   ],
   "source": [
    "%time norm = TextNormalizer()\n",
    "norm"
   ]
  },
  {
   "cell_type": "markdown",
   "metadata": {},
   "source": [
    "Normalize text :"
   ]
  },
  {
   "cell_type": "code",
   "execution_count": null,
   "metadata": {},
   "outputs": [
    {
     "data": {
      "text/plain": [
       "'🏻① l`\\x9cuv\\x7fre est¨ \\x93belle\\x94¸ Ã  Â½ â‚¬ énième â€° \\x85 ⁽🇪ﬃc🇦ce⁾ ！'"
      ]
     },
     "execution_count": null,
     "metadata": {},
     "output_type": "execute_result"
    }
   ],
   "source": [
    "teststring = chr(127995)+\"① l`\"+chr(156)+\"uv\"+chr(127)+\"re est¨ \"+chr(147)+\"belle\"+chr(148)+\"¸ Ã  Â½ â‚¬ énième â€° \"+chr(133)+\" ⁽🇪ﬃc🇦ce⁾ ！\"\n",
    "teststring"
   ]
  },
  {
   "cell_type": "code",
   "execution_count": null,
   "metadata": {},
   "outputs": [
    {
     "data": {
      "text/plain": [
       "(1) l'oeuvre est «belle», Ã  1/2 € énième ‰ … (EfficAce) !"
      ]
     },
     "execution_count": null,
     "metadata": {},
     "output_type": "execute_result"
    }
   ],
   "source": [
    "result = norm(teststring)\n",
    "result"
   ]
  },
  {
   "cell_type": "markdown",
   "metadata": {},
   "source": [
    "Describe the changes applied by the normalization pipeline :"
   ]
  },
  {
   "cell_type": "code",
   "execution_count": null,
   "metadata": {},
   "outputs": [
    {
     "name": "stdout",
     "output_type": "stream",
     "text": [
      "Fix encoding errors : windows1252 read as iso8859-1\n",
      " < 🏻① l` [] uvre est¨  [] belle [] ¸ Ã  Â½ â‚¬ énième â€°  [",
      "]  ⁽🇪ﬃc🇦ce⁾ ！\n",
      " < 🏻① l` [œ] uvre est¨  [“] belle [”] ¸ Ã  Â½ â‚¬ énième â€°  […]  ⁽🇪ﬃc🇦ce⁾ ！\n",
      "Fix encoding errors : utf8 read as windows1252\n",
      " < 🏻① l`œuvre est¨ “belle”¸ Ã   [Â½]   [â‚¬]  énième  [â€°]  … ⁽🇪ﬃc🇦ce⁾ ！\n",
      " < 🏻① l`œuvre est¨ “belle”¸ Ã   [½_]   [€__]  énième  [‰__]  … ⁽🇪ﬃc🇦ce⁾ ！\n",
      "Merge Unicode combining chars\n",
      " < 🏻① l`œuvre est¨ “belle”¸ Ã  ½ €  [é] ni [è] me ‰ … ⁽🇪ﬃc🇦ce⁾ ！\n",
      " < 🏻① l`œuvre est¨ “belle”¸ Ã  ½ €  [é_] ni [è_] me ‰ … ⁽🇪ﬃc🇦ce⁾ ！\n",
      "Ignore control chars\n",
      " <  [🏻] ① l`œuv [] re est [¨]  “belle”¸ Ã  ½ € énième ‰ … ⁽🇪ﬃc🇦ce⁾ ！\n",
      " <  [_] ① l`œuv [_] re est [_]  “belle”¸ Ã  ½ € énième ‰ … ⁽🇪ﬃc🇦ce⁾ ！\n",
      "Replace latin letter symbols\n",
      " < ① l`œuvre est “belle”¸ Ã  ½ € énième ‰ … ⁽ [🇪] ﬃc [🇦] ce⁾ ！\n",
      " < ① l`œuvre est “belle”¸ Ã  ½ € énième ‰ … ⁽ [E] ﬃc [A] ce⁾ ！\n",
      "Replace latin letter ligatures\n",
      " < ① l` [œ ] uvre est “belle”¸ Ã  ½ € énième ‰ … ⁽E [ﬃ  ] cAce⁾ ！\n",
      " < ① l` [oe] uvre est “belle”¸ Ã  ½ € énième ‰ … ⁽E [ffi] cAce⁾ ！\n",
      "Replace latin number symbols\n",
      " <  [①  ]  l`oeuvre est “belle”¸ Ã   [½  ]  € énième ‰ … ⁽EfficAce⁾ ！\n",
      " <  [(1)]  l`oeuvre est “belle”¸ Ã   [1/2]  € énième ‰ … ⁽EfficAce⁾ ！\n",
      "Normalize equivalent chars\n",
      " < (1) l [`] oeuvre est  [“] belle [”]  [¸]  Ã  1/2 € énième ‰ …  [⁽] EfficAce [⁾]   [！] \n",
      " < (1) l ['] oeuvre est  [«] belle [»]  [,]  Ã  1/2 € énième ‰ …  [(] EfficAce [)]   [!] \n",
      "\n"
     ]
    }
   ],
   "source": [
    "print(result.describeChanges())"
   ]
  },
  {
   "cell_type": "markdown",
   "metadata": {},
   "source": [
    "Compute spans for equivalent substrings before and after normalization :"
   ]
  },
  {
   "cell_type": "code",
   "execution_count": null,
   "metadata": {},
   "outputs": [
    {
     "data": {
      "text/plain": [
       "\"(1) l'oeuvre\""
      ]
     },
     "execution_count": null,
     "metadata": {},
     "output_type": "execute_result"
    }
   ],
   "source": [
    "result.output[0:12]"
   ]
  },
  {
   "cell_type": "code",
   "execution_count": null,
   "metadata": {},
   "outputs": [
    {
     "data": {
      "text/plain": [
       "'🏻① l`\\x9cuv\\x7fre'"
      ]
     },
     "execution_count": null,
     "metadata": {},
     "output_type": "execute_result"
    }
   ],
   "source": [
    "result.input[result.mapOutputIndexToInput(0):result.mapOutputIndexToInput(12)]"
   ]
  },
  {
   "cell_type": "code",
   "execution_count": null,
   "metadata": {},
   "outputs": [
    {
     "data": {
      "text/plain": [
       "\" l'oeuv\""
      ]
     },
     "execution_count": null,
     "metadata": {},
     "output_type": "execute_result"
    }
   ],
   "source": [
    "result.output[3:10]"
   ]
  },
  {
   "cell_type": "code",
   "execution_count": null,
   "metadata": {},
   "outputs": [
    {
     "data": {
      "text/plain": [
       "' l`\\x9cuv\\x7f'"
      ]
     },
     "execution_count": null,
     "metadata": {},
     "output_type": "execute_result"
    }
   ],
   "source": [
    "result.input[result.mapOutputIndexToInput(3):result.mapOutputIndexToInput(10)]"
   ]
  },
  {
   "cell_type": "markdown",
   "metadata": {},
   "source": [
    "Performance test : **2500 sentences per second** => fast enough but will be optimized in a later version."
   ]
  },
  {
   "cell_type": "code",
   "execution_count": null,
   "metadata": {},
   "outputs": [
    {
     "name": "stdout",
     "output_type": "stream",
     "text": [
      "397 µs ± 89.3 µs per loop (mean ± std. dev. of 7 runs, 100 loops each)\n"
     ]
    }
   ],
   "source": [
    "%timeit -n100 norm(teststring)"
   ]
  },
  {
   "cell_type": "markdown",
   "metadata": {},
   "source": [
    "### Appendix : Unicode utility functions"
   ]
  },
  {
   "cell_type": "markdown",
   "metadata": {},
   "source": [
    "Unicode characters properties :"
   ]
  },
  {
   "cell_type": "code",
   "execution_count": null,
   "metadata": {},
   "outputs": [
    {
     "data": {
      "text/plain": [
       "'Slightly Smiling Face'"
      ]
     },
     "execution_count": null,
     "metadata": {},
     "output_type": "execute_result"
    }
   ],
   "source": [
    "charname(\"🙂\")"
   ]
  },
  {
   "cell_type": "code",
   "execution_count": null,
   "metadata": {},
   "outputs": [
    {
     "data": {
      "text/plain": [
       "'Symbol'"
      ]
     },
     "execution_count": null,
     "metadata": {},
     "output_type": "execute_result"
    }
   ],
   "source": [
    "charcategory(\"🙂\")"
   ]
  },
  {
   "cell_type": "code",
   "execution_count": null,
   "metadata": {},
   "outputs": [
    {
     "data": {
      "text/plain": [
       "'Other'"
      ]
     },
     "execution_count": null,
     "metadata": {},
     "output_type": "execute_result"
    }
   ],
   "source": [
    "charsubcategory(\"🙂\")"
   ]
  },
  {
   "cell_type": "code",
   "execution_count": null,
   "metadata": {},
   "outputs": [
    {
     "data": {
      "text/plain": [
       "'Emoticons'"
      ]
     },
     "execution_count": null,
     "metadata": {},
     "output_type": "execute_result"
    }
   ],
   "source": [
    "charblock(\"🙂\")"
   ]
  },
  {
   "cell_type": "code",
   "execution_count": null,
   "metadata": {},
   "outputs": [
    {
     "data": {
      "text/plain": [
       "'Symbols'"
      ]
     },
     "execution_count": null,
     "metadata": {},
     "output_type": "execute_result"
    }
   ],
   "source": [
    "blockfamily('Emoticons')"
   ]
  }
 ],
 "metadata": {
  "kernelspec": {
   "display_name": "Python 3",
   "language": "python",
   "name": "python3"
  }
 },
 "nbformat": 4,
 "nbformat_minor": 2
}
